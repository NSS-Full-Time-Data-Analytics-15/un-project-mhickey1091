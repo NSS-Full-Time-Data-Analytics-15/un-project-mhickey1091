{
 "cells": [
  {
   "cell_type": "markdown",
   "id": "d5339823-0185-47f0-b739-44e6658a4a99",
   "metadata": {},
   "source": [
    "# UNITED NATIONS PROJECT (starts with question 3)"
   ]
  },
  {
   "cell_type": "markdown",
   "id": "49c8edfa-6ea9-4cc6-bfc2-7f1906e21ac0",
   "metadata": {},
   "source": [
    "## Question 3: Import the required packages with their customary aliases as follows:\n",
    "\n",
    "import pandas as pd\n",
    "\n",
    "import numpy as np\n",
    "\n",
    "import matplotlib.pyplot as plt\n",
    "\n",
    "import seaborn as sns"
   ]
  },
  {
   "cell_type": "code",
   "execution_count": 3,
   "id": "694a2357-4a48-454c-9b86-fbf49c69a60b",
   "metadata": {},
   "outputs": [],
   "source": [
    "import pandas as pd\n",
    "import numpy as np\n",
    "import matplotlib.pyplot as plt\n",
    "import seaborn as sns"
   ]
  },
  {
   "cell_type": "markdown",
   "id": "91b758ef-f3f5-46e5-9b61-61b64bdc8a31",
   "metadata": {},
   "source": [
    "## Question 4: Using the pandas read_csv() method, read the GDP dataset into your notebook as a DataFrame called gdp_df. Take a look at the first few and last few rows to familiarize yourself with what is contained in this dataset.\n"
   ]
  },
  {
   "cell_type": "code",
   "execution_count": 5,
   "id": "0feba1c5-2982-4cc5-be7a-06430e5e1c38",
   "metadata": {},
   "outputs": [],
   "source": [
    "gdp_df = pd.read_csv('../data/gdp_percapita.csv')"
   ]
  },
  {
   "cell_type": "code",
   "execution_count": 6,
   "id": "ac0798c3-33c3-428d-b4a5-903acc7d8417",
   "metadata": {},
   "outputs": [
    {
     "data": {
      "text/html": [
       "<div>\n",
       "<style scoped>\n",
       "    .dataframe tbody tr th:only-of-type {\n",
       "        vertical-align: middle;\n",
       "    }\n",
       "\n",
       "    .dataframe tbody tr th {\n",
       "        vertical-align: top;\n",
       "    }\n",
       "\n",
       "    .dataframe thead th {\n",
       "        text-align: right;\n",
       "    }\n",
       "</style>\n",
       "<table border=\"1\" class=\"dataframe\">\n",
       "  <thead>\n",
       "    <tr style=\"text-align: right;\">\n",
       "      <th></th>\n",
       "      <th>Country or Area</th>\n",
       "      <th>Year</th>\n",
       "      <th>Value</th>\n",
       "      <th>Value Footnotes</th>\n",
       "    </tr>\n",
       "  </thead>\n",
       "  <tbody>\n",
       "    <tr>\n",
       "      <th>0</th>\n",
       "      <td>Afghanistan</td>\n",
       "      <td>2023</td>\n",
       "      <td>1992.424394</td>\n",
       "      <td>NaN</td>\n",
       "    </tr>\n",
       "    <tr>\n",
       "      <th>1</th>\n",
       "      <td>Afghanistan</td>\n",
       "      <td>2022</td>\n",
       "      <td>1981.710168</td>\n",
       "      <td>NaN</td>\n",
       "    </tr>\n",
       "  </tbody>\n",
       "</table>\n",
       "</div>"
      ],
      "text/plain": [
       "  Country or Area  Year        Value  Value Footnotes\n",
       "0     Afghanistan  2023  1992.424394              NaN\n",
       "1     Afghanistan  2022  1981.710168              NaN"
      ]
     },
     "execution_count": 6,
     "metadata": {},
     "output_type": "execute_result"
    }
   ],
   "source": [
    "gdp_df.head(2)"
   ]
  },
  {
   "cell_type": "code",
   "execution_count": 7,
   "id": "1db1cab2-41b9-4bbc-8248-9440317c7885",
   "metadata": {},
   "outputs": [
    {
     "data": {
      "text/html": [
       "<div>\n",
       "<style scoped>\n",
       "    .dataframe tbody tr th:only-of-type {\n",
       "        vertical-align: middle;\n",
       "    }\n",
       "\n",
       "    .dataframe tbody tr th {\n",
       "        vertical-align: top;\n",
       "    }\n",
       "\n",
       "    .dataframe thead th {\n",
       "        text-align: right;\n",
       "    }\n",
       "</style>\n",
       "<table border=\"1\" class=\"dataframe\">\n",
       "  <thead>\n",
       "    <tr style=\"text-align: right;\">\n",
       "      <th></th>\n",
       "      <th>Country or Area</th>\n",
       "      <th>Year</th>\n",
       "      <th>Value</th>\n",
       "      <th>Value Footnotes</th>\n",
       "    </tr>\n",
       "  </thead>\n",
       "  <tbody>\n",
       "    <tr>\n",
       "      <th>8217</th>\n",
       "      <td>Zimbabwe</td>\n",
       "      <td>1991</td>\n",
       "      <td>4126.405247</td>\n",
       "      <td>NaN</td>\n",
       "    </tr>\n",
       "    <tr>\n",
       "      <th>8218</th>\n",
       "      <td>Zimbabwe</td>\n",
       "      <td>1990</td>\n",
       "      <td>4013.299059</td>\n",
       "      <td>NaN</td>\n",
       "    </tr>\n",
       "  </tbody>\n",
       "</table>\n",
       "</div>"
      ],
      "text/plain": [
       "     Country or Area  Year        Value  Value Footnotes\n",
       "8217        Zimbabwe  1991  4126.405247              NaN\n",
       "8218        Zimbabwe  1990  4013.299059              NaN"
      ]
     },
     "execution_count": 7,
     "metadata": {},
     "output_type": "execute_result"
    }
   ],
   "source": [
    "gdp_df.tail(2)"
   ]
  },
  {
   "cell_type": "markdown",
   "id": "79701d6f-8c7b-4f39-b132-f18ba250eca8",
   "metadata": {},
   "source": [
    "## Question 5: How many rows and columns are in gdp_df? What are the data types of each column?"
   ]
  },
  {
   "cell_type": "code",
   "execution_count": 9,
   "id": "dab63f84-2ac6-4d70-baa8-59a0db273e55",
   "metadata": {},
   "outputs": [
    {
     "data": {
      "text/plain": [
       "(8219, 4)"
      ]
     },
     "execution_count": 9,
     "metadata": {},
     "output_type": "execute_result"
    }
   ],
   "source": [
    "gdp_df.shape"
   ]
  },
  {
   "cell_type": "markdown",
   "id": "88fed9a2-0058-493f-8afa-fccf2372b3f3",
   "metadata": {},
   "source": [
    "8,219 rows, 4 columns"
   ]
  },
  {
   "cell_type": "code",
   "execution_count": 11,
   "id": "a3ddd945-8385-41fa-ac68-193d23f74698",
   "metadata": {},
   "outputs": [
    {
     "data": {
      "text/plain": [
       "Country or Area     object\n",
       "Year                 int64\n",
       "Value              float64\n",
       "Value Footnotes    float64\n",
       "dtype: object"
      ]
     },
     "execution_count": 11,
     "metadata": {},
     "output_type": "execute_result"
    }
   ],
   "source": [
    "gdp_df.dtypes"
   ]
  },
  {
   "cell_type": "markdown",
   "id": "2437bb17-8bd7-4427-bad6-2da832f7c412",
   "metadata": {},
   "source": [
    "## Question 5: Drop the Value Footnotes column and rename the remaining three to 'Country', 'Year', and 'GDP_Per_Capita'."
   ]
  },
  {
   "cell_type": "code",
   "execution_count": 13,
   "id": "b1f002e7-2af8-4f28-aa76-4faf46e4f07d",
   "metadata": {},
   "outputs": [
    {
     "data": {
      "text/html": [
       "<div>\n",
       "<style scoped>\n",
       "    .dataframe tbody tr th:only-of-type {\n",
       "        vertical-align: middle;\n",
       "    }\n",
       "\n",
       "    .dataframe tbody tr th {\n",
       "        vertical-align: top;\n",
       "    }\n",
       "\n",
       "    .dataframe thead th {\n",
       "        text-align: right;\n",
       "    }\n",
       "</style>\n",
       "<table border=\"1\" class=\"dataframe\">\n",
       "  <thead>\n",
       "    <tr style=\"text-align: right;\">\n",
       "      <th></th>\n",
       "      <th>Country or Area</th>\n",
       "      <th>Year</th>\n",
       "      <th>Value</th>\n",
       "    </tr>\n",
       "  </thead>\n",
       "  <tbody>\n",
       "    <tr>\n",
       "      <th>0</th>\n",
       "      <td>Afghanistan</td>\n",
       "      <td>2023</td>\n",
       "      <td>1992.424394</td>\n",
       "    </tr>\n",
       "    <tr>\n",
       "      <th>1</th>\n",
       "      <td>Afghanistan</td>\n",
       "      <td>2022</td>\n",
       "      <td>1981.710168</td>\n",
       "    </tr>\n",
       "  </tbody>\n",
       "</table>\n",
       "</div>"
      ],
      "text/plain": [
       "  Country or Area  Year        Value\n",
       "0     Afghanistan  2023  1992.424394\n",
       "1     Afghanistan  2022  1981.710168"
      ]
     },
     "execution_count": 13,
     "metadata": {},
     "output_type": "execute_result"
    }
   ],
   "source": [
    "gdp_df = gdp_df.drop(columns = ['Value Footnotes'])\n",
    "gdp_df.head(2)"
   ]
  },
  {
   "cell_type": "code",
   "execution_count": 14,
   "id": "7022afb1-40e8-4a8c-8bda-60a71bcb8fef",
   "metadata": {},
   "outputs": [
    {
     "data": {
      "text/html": [
       "<div>\n",
       "<style scoped>\n",
       "    .dataframe tbody tr th:only-of-type {\n",
       "        vertical-align: middle;\n",
       "    }\n",
       "\n",
       "    .dataframe tbody tr th {\n",
       "        vertical-align: top;\n",
       "    }\n",
       "\n",
       "    .dataframe thead th {\n",
       "        text-align: right;\n",
       "    }\n",
       "</style>\n",
       "<table border=\"1\" class=\"dataframe\">\n",
       "  <thead>\n",
       "    <tr style=\"text-align: right;\">\n",
       "      <th></th>\n",
       "      <th>country</th>\n",
       "      <th>year</th>\n",
       "      <th>gdp_per_capita</th>\n",
       "    </tr>\n",
       "  </thead>\n",
       "  <tbody>\n",
       "    <tr>\n",
       "      <th>0</th>\n",
       "      <td>Afghanistan</td>\n",
       "      <td>2023</td>\n",
       "      <td>1992.424394</td>\n",
       "    </tr>\n",
       "    <tr>\n",
       "      <th>1</th>\n",
       "      <td>Afghanistan</td>\n",
       "      <td>2022</td>\n",
       "      <td>1981.710168</td>\n",
       "    </tr>\n",
       "  </tbody>\n",
       "</table>\n",
       "</div>"
      ],
      "text/plain": [
       "       country  year  gdp_per_capita\n",
       "0  Afghanistan  2023     1992.424394\n",
       "1  Afghanistan  2022     1981.710168"
      ]
     },
     "execution_count": 14,
     "metadata": {},
     "output_type": "execute_result"
    }
   ],
   "source": [
    "gdp_df = gdp_df.rename(columns = {'Country or Area':'country','Year':'year','Value':'gdp_per_capita'})\n",
    "gdp_df.head(2)"
   ]
  },
  {
   "cell_type": "code",
   "execution_count": 15,
   "id": "5bd38ada-5f1b-4da2-a367-05a8ebe186dd",
   "metadata": {},
   "outputs": [
    {
     "data": {
      "text/html": [
       "<div>\n",
       "<style scoped>\n",
       "    .dataframe tbody tr th:only-of-type {\n",
       "        vertical-align: middle;\n",
       "    }\n",
       "\n",
       "    .dataframe tbody tr th {\n",
       "        vertical-align: top;\n",
       "    }\n",
       "\n",
       "    .dataframe thead th {\n",
       "        text-align: right;\n",
       "    }\n",
       "</style>\n",
       "<table border=\"1\" class=\"dataframe\">\n",
       "  <thead>\n",
       "    <tr style=\"text-align: right;\">\n",
       "      <th></th>\n",
       "      <th>country</th>\n",
       "      <th>year</th>\n",
       "      <th>gdp_per_capita</th>\n",
       "    </tr>\n",
       "  </thead>\n",
       "  <tbody>\n",
       "    <tr>\n",
       "      <th>0</th>\n",
       "      <td>Afghanistan</td>\n",
       "      <td>2023</td>\n",
       "      <td>1992.424394</td>\n",
       "    </tr>\n",
       "    <tr>\n",
       "      <th>1</th>\n",
       "      <td>Afghanistan</td>\n",
       "      <td>2022</td>\n",
       "      <td>1981.710168</td>\n",
       "    </tr>\n",
       "  </tbody>\n",
       "</table>\n",
       "</div>"
      ],
      "text/plain": [
       "       country  year  gdp_per_capita\n",
       "0  Afghanistan  2023     1992.424394\n",
       "1  Afghanistan  2022     1981.710168"
      ]
     },
     "execution_count": 15,
     "metadata": {},
     "output_type": "execute_result"
    }
   ],
   "source": [
    "gdp_df.head(2)"
   ]
  },
  {
   "cell_type": "markdown",
   "id": "d74f9714-062b-48fb-855c-49522afaa93f",
   "metadata": {},
   "source": [
    "## Question 7: How many countries have data for all years? Which countries are missing many years of data? Look at the number of observations per year. What do you notice?"
   ]
  },
  {
   "cell_type": "code",
   "execution_count": 17,
   "id": "5119fdf0-0596-4d32-8c6f-90ed344d1fe8",
   "metadata": {},
   "outputs": [
    {
     "data": {
      "text/plain": [
       "247"
      ]
     },
     "execution_count": 17,
     "metadata": {},
     "output_type": "execute_result"
    }
   ],
   "source": [
    "gdp_df.country.nunique()"
   ]
  },
  {
   "cell_type": "markdown",
   "id": "c98733cd-4bc5-4cc6-b3fc-af5b4ad7ff29",
   "metadata": {},
   "source": [
    "There are 247 countries"
   ]
  },
  {
   "cell_type": "code",
   "execution_count": 19,
   "id": "b7ebb1cb-98ec-4e40-8470-194283162777",
   "metadata": {},
   "outputs": [],
   "source": [
    "year_counts = gdp_df.groupby('country')['year'].nunique()"
   ]
  },
  {
   "cell_type": "code",
   "execution_count": 20,
   "id": "65ac4c85-38f4-4eea-8537-912db2509dd9",
   "metadata": {},
   "outputs": [
    {
     "data": {
      "text/plain": [
       "country\n",
       "Afghanistan                    24\n",
       "Africa Eastern and Southern    34\n",
       "Africa Western and Central     34\n",
       "Albania                        34\n",
       "Algeria                        34\n",
       "                               ..\n",
       "Virgin Islands                 21\n",
       "West Bank and Gaza             30\n",
       "World                          34\n",
       "Zambia                         34\n",
       "Zimbabwe                       34\n",
       "Name: year, Length: 247, dtype: int64"
      ]
     },
     "execution_count": 20,
     "metadata": {},
     "output_type": "execute_result"
    }
   ],
   "source": [
    "year_counts"
   ]
  },
  {
   "cell_type": "code",
   "execution_count": 21,
   "id": "4224840a-bc59-40fb-8006-db9ca10facd1",
   "metadata": {},
   "outputs": [
    {
     "data": {
      "text/plain": [
       "34"
      ]
     },
     "execution_count": 21,
     "metadata": {},
     "output_type": "execute_result"
    }
   ],
   "source": [
    "year_total = gdp_df.year.nunique()\n",
    "year_total"
   ]
  },
  {
   "cell_type": "code",
   "execution_count": 22,
   "id": "8c9fe98d-e8d3-4b87-98b1-308e2373b17a",
   "metadata": {},
   "outputs": [
    {
     "data": {
      "text/plain": [
       "country\n",
       "Africa Eastern and Southern    34\n",
       "Africa Western and Central     34\n",
       "Albania                        34\n",
       "Algeria                        34\n",
       "Andorra                        34\n",
       "                               ..\n",
       "Vanuatu                        34\n",
       "Viet Nam                       34\n",
       "World                          34\n",
       "Zambia                         34\n",
       "Zimbabwe                       34\n",
       "Name: year, Length: 228, dtype: int64"
      ]
     },
     "execution_count": 22,
     "metadata": {},
     "output_type": "execute_result"
    }
   ],
   "source": [
    "countries_all_years = year_counts.loc[year_counts == year_total]\n",
    "countries_all_years"
   ]
  },
  {
   "cell_type": "markdown",
   "id": "fe2983e5-adf7-4ea1-a5ac-884c2cf49837",
   "metadata": {},
   "source": [
    "228 Countries - \"Length:228\""
   ]
  },
  {
   "cell_type": "code",
   "execution_count": 24,
   "id": "e45ee7b0-a467-46c1-9b97-39167686503f",
   "metadata": {},
   "outputs": [
    {
     "data": {
      "text/plain": [
       "country\n",
       "Afghanistan                  24\n",
       "Bhutan                       33\n",
       "Cayman Islands               18\n",
       "CuraÃ§ao                     24\n",
       "Djibouti                     11\n",
       "Faroe Islands                16\n",
       "Greenland                    32\n",
       "Kosovo                       16\n",
       "Lebanon                      33\n",
       "Montenegro                   27\n",
       "San Marino                   26\n",
       "Serbia                       29\n",
       "Sint Maarten (Dutch part)    15\n",
       "Somalia                      33\n",
       "Syrian Arab Republic         33\n",
       "Tonga                        33\n",
       "Turks and Caicos Islands     13\n",
       "Virgin Islands               21\n",
       "West Bank and Gaza           30\n",
       "Name: year, dtype: int64"
      ]
     },
     "execution_count": 24,
     "metadata": {},
     "output_type": "execute_result"
    }
   ],
   "source": [
    "countries_notall_years = year_counts.loc[year_counts != year_total]\n",
    "countries_notall_years"
   ]
  },
  {
   "cell_type": "markdown",
   "id": "4cafacbd-b75f-4959-9c3d-a855d0ef6b70",
   "metadata": {},
   "source": [
    "The list above is all the countries that don't have data for every year."
   ]
  },
  {
   "cell_type": "code",
   "execution_count": 26,
   "id": "8313c7c5-0b9d-4ca5-80a1-7cff372b61ea",
   "metadata": {},
   "outputs": [
    {
     "data": {
      "text/plain": [
       "year\n",
       "2021    247\n",
       "2020    247\n",
       "2019    247\n",
       "2018    247\n",
       "2017    247\n",
       "2016    247\n",
       "2015    247\n",
       "2014    247\n",
       "2013    247\n",
       "2012    246\n",
       "2022    246\n",
       "2011    246\n",
       "2010    245\n",
       "2009    245\n",
       "2008    244\n",
       "2007    242\n",
       "2006    242\n",
       "2005    241\n",
       "2004    241\n",
       "2003    241\n",
       "2002    241\n",
       "2000    240\n",
       "2023    240\n",
       "2001    240\n",
       "1999    238\n",
       "1998    238\n",
       "1997    238\n",
       "1996    236\n",
       "1995    236\n",
       "1994    235\n",
       "1993    234\n",
       "1992    234\n",
       "1991    234\n",
       "1990    233\n",
       "Name: count, dtype: int64"
      ]
     },
     "execution_count": 26,
     "metadata": {},
     "output_type": "execute_result"
    }
   ],
   "source": [
    "gdp_df.year.value_counts()"
   ]
  },
  {
   "cell_type": "markdown",
   "id": "48816520-3468-43a9-9953-adf4f03ce7e2",
   "metadata": {},
   "source": [
    "It looks like more countries are added to this list as time goes on and from 2013 to 2021 the number was the same.."
   ]
  },
  {
   "cell_type": "markdown",
   "id": "d0469a01-df20-45b7-9770-17d245a65c8e",
   "metadata": {},
   "source": [
    "## Question 8: In this question, you're going to create some plots to show the distribution of GDP per capita for the year 2020. Go to the Python Graph Gallery (https://www.python-graph-gallery.com/) and look at the different types of plots under the Distribution section. Create a histogram, a density plot, a boxplot, and a violin plot. What do you notice when you look at these plots? How do the plots compare and what information can you get out of one type that you can't necessarily get out of the others?"
   ]
  },
  {
   "cell_type": "code",
   "execution_count": 29,
   "id": "12430403-2591-4437-85e9-9c3f89221fe3",
   "metadata": {},
   "outputs": [
    {
     "data": {
      "text/html": [
       "<div>\n",
       "<style scoped>\n",
       "    .dataframe tbody tr th:only-of-type {\n",
       "        vertical-align: middle;\n",
       "    }\n",
       "\n",
       "    .dataframe tbody tr th {\n",
       "        vertical-align: top;\n",
       "    }\n",
       "\n",
       "    .dataframe thead th {\n",
       "        text-align: right;\n",
       "    }\n",
       "</style>\n",
       "<table border=\"1\" class=\"dataframe\">\n",
       "  <thead>\n",
       "    <tr style=\"text-align: right;\">\n",
       "      <th></th>\n",
       "      <th>country</th>\n",
       "      <th>year</th>\n",
       "      <th>gdp_per_capita</th>\n",
       "    </tr>\n",
       "  </thead>\n",
       "  <tbody>\n",
       "    <tr>\n",
       "      <th>3</th>\n",
       "      <td>Afghanistan</td>\n",
       "      <td>2020</td>\n",
       "      <td>2769.685745</td>\n",
       "    </tr>\n",
       "    <tr>\n",
       "      <th>27</th>\n",
       "      <td>Africa Eastern and Southern</td>\n",
       "      <td>2020</td>\n",
       "      <td>3861.111238</td>\n",
       "    </tr>\n",
       "    <tr>\n",
       "      <th>61</th>\n",
       "      <td>Africa Western and Central</td>\n",
       "      <td>2020</td>\n",
       "      <td>4622.731427</td>\n",
       "    </tr>\n",
       "    <tr>\n",
       "      <th>95</th>\n",
       "      <td>Albania</td>\n",
       "      <td>2020</td>\n",
       "      <td>14650.395929</td>\n",
       "    </tr>\n",
       "    <tr>\n",
       "      <th>129</th>\n",
       "      <td>Algeria</td>\n",
       "      <td>2020</td>\n",
       "      <td>14194.155748</td>\n",
       "    </tr>\n",
       "    <tr>\n",
       "      <th>...</th>\n",
       "      <td>...</td>\n",
       "      <td>...</td>\n",
       "      <td>...</td>\n",
       "    </tr>\n",
       "    <tr>\n",
       "      <th>8068</th>\n",
       "      <td>Virgin Islands</td>\n",
       "      <td>2020</td>\n",
       "      <td>45055.782930</td>\n",
       "    </tr>\n",
       "    <tr>\n",
       "      <th>8090</th>\n",
       "      <td>West Bank and Gaza</td>\n",
       "      <td>2020</td>\n",
       "      <td>5423.682547</td>\n",
       "    </tr>\n",
       "    <tr>\n",
       "      <th>8120</th>\n",
       "      <td>World</td>\n",
       "      <td>2020</td>\n",
       "      <td>18600.986362</td>\n",
       "    </tr>\n",
       "    <tr>\n",
       "      <th>8154</th>\n",
       "      <td>Zambia</td>\n",
       "      <td>2020</td>\n",
       "      <td>3391.595412</td>\n",
       "    </tr>\n",
       "    <tr>\n",
       "      <th>8188</th>\n",
       "      <td>Zimbabwe</td>\n",
       "      <td>2020</td>\n",
       "      <td>2987.269823</td>\n",
       "    </tr>\n",
       "  </tbody>\n",
       "</table>\n",
       "<p>247 rows × 3 columns</p>\n",
       "</div>"
      ],
      "text/plain": [
       "                          country  year  gdp_per_capita\n",
       "3                     Afghanistan  2020     2769.685745\n",
       "27    Africa Eastern and Southern  2020     3861.111238\n",
       "61     Africa Western and Central  2020     4622.731427\n",
       "95                        Albania  2020    14650.395929\n",
       "129                       Algeria  2020    14194.155748\n",
       "...                           ...   ...             ...\n",
       "8068               Virgin Islands  2020    45055.782930\n",
       "8090           West Bank and Gaza  2020     5423.682547\n",
       "8120                        World  2020    18600.986362\n",
       "8154                       Zambia  2020     3391.595412\n",
       "8188                     Zimbabwe  2020     2987.269823\n",
       "\n",
       "[247 rows x 3 columns]"
      ]
     },
     "execution_count": 29,
     "metadata": {},
     "output_type": "execute_result"
    }
   ],
   "source": [
    "gdp_per_capita2020 = gdp_df.loc[gdp_df.year == 2020]\n",
    "gdp_per_capita2020"
   ]
  },
  {
   "cell_type": "code",
   "execution_count": 30,
   "id": "eda4f664-d706-4ed8-80ff-b861b28d000d",
   "metadata": {},
   "outputs": [
    {
     "data": {
      "text/html": [
       "<div>\n",
       "<style scoped>\n",
       "    .dataframe tbody tr th:only-of-type {\n",
       "        vertical-align: middle;\n",
       "    }\n",
       "\n",
       "    .dataframe tbody tr th {\n",
       "        vertical-align: top;\n",
       "    }\n",
       "\n",
       "    .dataframe thead th {\n",
       "        text-align: right;\n",
       "    }\n",
       "</style>\n",
       "<table border=\"1\" class=\"dataframe\">\n",
       "  <thead>\n",
       "    <tr style=\"text-align: right;\">\n",
       "      <th></th>\n",
       "      <th>country</th>\n",
       "      <th>gdp_per_capita</th>\n",
       "    </tr>\n",
       "  </thead>\n",
       "  <tbody>\n",
       "    <tr>\n",
       "      <th>3</th>\n",
       "      <td>Afghanistan</td>\n",
       "      <td>2769.685745</td>\n",
       "    </tr>\n",
       "    <tr>\n",
       "      <th>27</th>\n",
       "      <td>Africa Eastern and Southern</td>\n",
       "      <td>3861.111238</td>\n",
       "    </tr>\n",
       "    <tr>\n",
       "      <th>61</th>\n",
       "      <td>Africa Western and Central</td>\n",
       "      <td>4622.731427</td>\n",
       "    </tr>\n",
       "    <tr>\n",
       "      <th>95</th>\n",
       "      <td>Albania</td>\n",
       "      <td>14650.395929</td>\n",
       "    </tr>\n",
       "    <tr>\n",
       "      <th>129</th>\n",
       "      <td>Algeria</td>\n",
       "      <td>14194.155748</td>\n",
       "    </tr>\n",
       "    <tr>\n",
       "      <th>...</th>\n",
       "      <td>...</td>\n",
       "      <td>...</td>\n",
       "    </tr>\n",
       "    <tr>\n",
       "      <th>8068</th>\n",
       "      <td>Virgin Islands</td>\n",
       "      <td>45055.782930</td>\n",
       "    </tr>\n",
       "    <tr>\n",
       "      <th>8090</th>\n",
       "      <td>West Bank and Gaza</td>\n",
       "      <td>5423.682547</td>\n",
       "    </tr>\n",
       "    <tr>\n",
       "      <th>8120</th>\n",
       "      <td>World</td>\n",
       "      <td>18600.986362</td>\n",
       "    </tr>\n",
       "    <tr>\n",
       "      <th>8154</th>\n",
       "      <td>Zambia</td>\n",
       "      <td>3391.595412</td>\n",
       "    </tr>\n",
       "    <tr>\n",
       "      <th>8188</th>\n",
       "      <td>Zimbabwe</td>\n",
       "      <td>2987.269823</td>\n",
       "    </tr>\n",
       "  </tbody>\n",
       "</table>\n",
       "<p>247 rows × 2 columns</p>\n",
       "</div>"
      ],
      "text/plain": [
       "                          country  gdp_per_capita\n",
       "3                     Afghanistan     2769.685745\n",
       "27    Africa Eastern and Southern     3861.111238\n",
       "61     Africa Western and Central     4622.731427\n",
       "95                        Albania    14650.395929\n",
       "129                       Algeria    14194.155748\n",
       "...                           ...             ...\n",
       "8068               Virgin Islands    45055.782930\n",
       "8090           West Bank and Gaza     5423.682547\n",
       "8120                        World    18600.986362\n",
       "8154                       Zambia     3391.595412\n",
       "8188                     Zimbabwe     2987.269823\n",
       "\n",
       "[247 rows x 2 columns]"
      ]
     },
     "execution_count": 30,
     "metadata": {},
     "output_type": "execute_result"
    }
   ],
   "source": [
    "gdp_per_capita2020_noyear = gdp_per_capita2020.drop(columns = ['year'])\n",
    "gdp_per_capita2020_noyear"
   ]
  },
  {
   "cell_type": "code",
   "execution_count": 31,
   "id": "e3613fa0-2f6b-48dd-89fa-3aa3a9c27941",
   "metadata": {},
   "outputs": [
    {
     "data": {
      "image/png": "[encoded data removed]",
      "text/plain": [
       "<Figure size 656.875x500 with 1 Axes>"
      ]
     },
     "metadata": {},
     "output_type": "display_data"
    }
   ],
   "source": [
    "# Plot the histogram thanks to the displot function\n",
    "sns.displot( data=gdp_per_capita2020_noyear, kde=True );"
   ]
  },
  {
   "cell_type": "markdown",
   "id": "a70f1c23-2062-41be-bc26-e9d64077cb16",
   "metadata": {},
   "source": [
    "HISTOGRAM"
   ]
  },
  {
   "cell_type": "code",
   "execution_count": 33,
   "id": "8f959d16-6652-4801-8fa4-30ef10f41ace",
   "metadata": {},
   "outputs": [
    {
     "data": {
      "image/png": "[encoded data removed]",
      "text/plain": [
       "<Figure size 640x480 with 1 Axes>"
      ]
     },
     "metadata": {},
     "output_type": "display_data"
    }
   ],
   "source": [
    "sns.kdeplot(gdp_per_capita2020_noyear, fill=True)\n",
    "plt.xlabel('gdp_per_capita');"
   ]
  },
  {
   "cell_type": "markdown",
   "id": "972dbba0-3dc3-40b4-97ee-392d9c70d13b",
   "metadata": {},
   "source": [
    "DENSITY PLOT"
   ]
  },
  {
   "cell_type": "code",
   "execution_count": 35,
   "id": "9b5c9a99-ea6f-4aed-beff-2810ffb2f3b3",
   "metadata": {},
   "outputs": [
    {
     "data": {
      "image/png": "[encoded data removed]",
      "text/plain": [
       "<Figure size 640x480 with 1 Axes>"
      ]
     },
     "metadata": {},
     "output_type": "display_data"
    }
   ],
   "source": [
    "sns.boxplot(y=gdp_per_capita2020.gdp_per_capita);"
   ]
  },
  {
   "cell_type": "markdown",
   "id": "e08897cd-770d-48b2-a537-20d39f8b213c",
   "metadata": {},
   "source": [
    "BOX PLOT"
   ]
  },
  {
   "cell_type": "code",
   "execution_count": 37,
   "id": "46beea5d-aea1-4747-9ecb-82fa452f827a",
   "metadata": {},
   "outputs": [
    {
     "name": "stdout",
     "output_type": "stream",
     "text": [
      "Variable                    Type         Data/Info\n",
      "--------------------------------------------------\n",
      "gdp_df                      DataFrame              country  year  <...>\\n[8219 rows x 3 columns]\n",
      "gdp_per_capita2020          DataFrame                             <...>n\\n[247 rows x 3 columns]\n",
      "gdp_per_capita2020_noyear   DataFrame                             <...>n\\n[247 rows x 2 columns]\n"
     ]
    }
   ],
   "source": [
    "%whos DataFrame"
   ]
  },
  {
   "cell_type": "code",
   "execution_count": 38,
   "id": "fd83e48a-8a56-4b47-b6fe-34659c499837",
   "metadata": {},
   "outputs": [
    {
     "data": {
      "text/plain": [
       "<Axes: ylabel='gdp_per_capita'>"
      ]
     },
     "execution_count": 38,
     "metadata": {},
     "output_type": "execute_result"
    },
    {
     "data": {
      "image/png": "[encoded data removed]",
      "text/plain": [
       "<Figure size 640x480 with 1 Axes>"
      ]
     },
     "metadata": {},
     "output_type": "display_data"
    }
   ],
   "source": [
    "sns.violinplot(y=gdp_per_capita2020.gdp_per_capita)"
   ]
  },
  {
   "cell_type": "markdown",
   "id": "60311e44-206b-4486-9fad-50edbdea3fd0",
   "metadata": {},
   "source": [
    "VIOLIN PLOT"
   ]
  },
  {
   "cell_type": "markdown",
   "id": "98c51d79-ab5b-49aa-82d5-406f8e349a6d",
   "metadata": {},
   "source": [
    "## Question 9: What was the median GDP per capita value in 2020?"
   ]
  },
  {
   "cell_type": "code",
   "execution_count": 41,
   "id": "10813404-e6bb-4a05-9ec0-b6f9207ed0fd",
   "metadata": {},
   "outputs": [
    {
     "data": {
      "text/plain": [
       "15309.23598817024"
      ]
     },
     "execution_count": 41,
     "metadata": {},
     "output_type": "execute_result"
    }
   ],
   "source": [
    "gdp_per_capita2020.gdp_per_capita.median()"
   ]
  },
  {
   "cell_type": "markdown",
   "id": "7c82f40c-db3a-4292-8832-77d74480d421",
   "metadata": {},
   "source": [
    "## Question 10: For this question, you're going to create some visualizations to compare GDP per capita values for the years 1990, 2000, 2010, and 2020. Start by subsetting your data to just these 4 years into a new DataFrame named gdp_decades. Using this, create the following 4 plots:\n",
    "\n",
    "1: A boxplot\n",
    "\n",
    "2: A barplot (check out the Barplot with Seaborn section: https://www.python-graph-gallery.com/barplot/#Seaborn)\n",
    "\n",
    "3: A scatterplot\n",
    "   \n",
    "4: A scatterplot with a trend line overlaid (see this regplot example: https://www.python-graph-gallery.com/42-custom-linear-regression-fit-seaborn)\n",
    "Comment on what you observe has happened to GDP values over time and the relative strengths and weaknesses of each type of plot."
   ]
  },
  {
   "cell_type": "code",
   "execution_count": 43,
   "id": "14f9ae45-8a01-46f3-ac26-5baa4adf6bc8",
   "metadata": {},
   "outputs": [
    {
     "data": {
      "text/html": [
       "<div>\n",
       "<style scoped>\n",
       "    .dataframe tbody tr th:only-of-type {\n",
       "        vertical-align: middle;\n",
       "    }\n",
       "\n",
       "    .dataframe tbody tr th {\n",
       "        vertical-align: top;\n",
       "    }\n",
       "\n",
       "    .dataframe thead th {\n",
       "        text-align: right;\n",
       "    }\n",
       "</style>\n",
       "<table border=\"1\" class=\"dataframe\">\n",
       "  <thead>\n",
       "    <tr style=\"text-align: right;\">\n",
       "      <th></th>\n",
       "      <th>country</th>\n",
       "      <th>year</th>\n",
       "      <th>gdp_per_capita</th>\n",
       "    </tr>\n",
       "  </thead>\n",
       "  <tbody>\n",
       "    <tr>\n",
       "      <th>3</th>\n",
       "      <td>Afghanistan</td>\n",
       "      <td>2020</td>\n",
       "      <td>2769.685745</td>\n",
       "    </tr>\n",
       "    <tr>\n",
       "      <th>13</th>\n",
       "      <td>Afghanistan</td>\n",
       "      <td>2010</td>\n",
       "      <td>2848.586061</td>\n",
       "    </tr>\n",
       "    <tr>\n",
       "      <th>23</th>\n",
       "      <td>Afghanistan</td>\n",
       "      <td>2000</td>\n",
       "      <td>1617.826475</td>\n",
       "    </tr>\n",
       "    <tr>\n",
       "      <th>27</th>\n",
       "      <td>Africa Eastern and Southern</td>\n",
       "      <td>2020</td>\n",
       "      <td>3861.111238</td>\n",
       "    </tr>\n",
       "    <tr>\n",
       "      <th>37</th>\n",
       "      <td>Africa Eastern and Southern</td>\n",
       "      <td>2010</td>\n",
       "      <td>3863.836012</td>\n",
       "    </tr>\n",
       "    <tr>\n",
       "      <th>...</th>\n",
       "      <td>...</td>\n",
       "      <td>...</td>\n",
       "      <td>...</td>\n",
       "    </tr>\n",
       "    <tr>\n",
       "      <th>8184</th>\n",
       "      <td>Zambia</td>\n",
       "      <td>1990</td>\n",
       "      <td>2425.111287</td>\n",
       "    </tr>\n",
       "    <tr>\n",
       "      <th>8188</th>\n",
       "      <td>Zimbabwe</td>\n",
       "      <td>2020</td>\n",
       "      <td>2987.269823</td>\n",
       "    </tr>\n",
       "    <tr>\n",
       "      <th>8198</th>\n",
       "      <td>Zimbabwe</td>\n",
       "      <td>2010</td>\n",
       "      <td>2572.769992</td>\n",
       "    </tr>\n",
       "    <tr>\n",
       "      <th>8208</th>\n",
       "      <td>Zimbabwe</td>\n",
       "      <td>2000</td>\n",
       "      <td>4071.022001</td>\n",
       "    </tr>\n",
       "    <tr>\n",
       "      <th>8218</th>\n",
       "      <td>Zimbabwe</td>\n",
       "      <td>1990</td>\n",
       "      <td>4013.299059</td>\n",
       "    </tr>\n",
       "  </tbody>\n",
       "</table>\n",
       "<p>965 rows × 3 columns</p>\n",
       "</div>"
      ],
      "text/plain": [
       "                          country  year  gdp_per_capita\n",
       "3                     Afghanistan  2020     2769.685745\n",
       "13                    Afghanistan  2010     2848.586061\n",
       "23                    Afghanistan  2000     1617.826475\n",
       "27    Africa Eastern and Southern  2020     3861.111238\n",
       "37    Africa Eastern and Southern  2010     3863.836012\n",
       "...                           ...   ...             ...\n",
       "8184                       Zambia  1990     2425.111287\n",
       "8188                     Zimbabwe  2020     2987.269823\n",
       "8198                     Zimbabwe  2010     2572.769992\n",
       "8208                     Zimbabwe  2000     4071.022001\n",
       "8218                     Zimbabwe  1990     4013.299059\n",
       "\n",
       "[965 rows x 3 columns]"
      ]
     },
     "execution_count": 43,
     "metadata": {},
     "output_type": "execute_result"
    }
   ],
   "source": [
    "gdp_decades = gdp_df.loc[gdp_df.year.isin([1990, 2000, 2010, 2020])]\n",
    "gdp_decades"
   ]
  },
  {
   "cell_type": "code",
   "execution_count": 44,
   "id": "99564dcb-9e21-45fe-b083-4e345bc1576e",
   "metadata": {},
   "outputs": [
    {
     "data": {
      "image/png": "[encoded data removed]",
      "text/plain": [
       "<Figure size 640x480 with 1 Axes>"
      ]
     },
     "metadata": {},
     "output_type": "display_data"
    }
   ],
   "source": [
    "sns.boxplot(x=gdp_decades.year, y=gdp_decades.gdp_per_capita);"
   ]
  },
  {
   "cell_type": "code",
   "execution_count": 45,
   "id": "6e54e59a-1e65-46c6-a81e-604232c1dfbf",
   "metadata": {},
   "outputs": [
    {
     "data": {
      "image/png": "[encoded data removed]",
      "text/plain": [
       "<Figure size 640x480 with 1 Axes>"
      ]
     },
     "metadata": {},
     "output_type": "display_data"
    }
   ],
   "source": [
    "sns.barplot(x='year', y='gdp_per_capita', data=gdp_decades, errorbar=None,color='lightblue');"
   ]
  },
  {
   "cell_type": "code",
   "execution_count": 46,
   "id": "c33d4be8-bc6c-42d9-bcbc-c89e547fdd32",
   "metadata": {},
   "outputs": [
    {
     "data": {
      "image/png": "[encoded data removed]",
      "text/plain": [
       "<Figure size 640x480 with 1 Axes>"
      ]
     },
     "metadata": {},
     "output_type": "display_data"
    }
   ],
   "source": [
    "sns.scatterplot(x='year', y='gdp_per_capita', data=gdp_decades,color='lightblue');"
   ]
  },
  {
   "cell_type": "code",
   "execution_count": 47,
   "id": "f29f2cec-8ea9-4dbc-954c-a65e24beb66c",
   "metadata": {},
   "outputs": [
    {
     "data": {
      "image/png": "[encoded data removed]",
      "text/plain": [
       "<Figure size 640x480 with 1 Axes>"
      ]
     },
     "metadata": {},
     "output_type": "display_data"
    }
   ],
   "source": [
    "sns.regplot(x='year', y='gdp_per_capita', data=gdp_decades, line_kws={'color': 'red', 'linewidth': 1.5}, color = 'lightblue');"
   ]
  },
  {
   "cell_type": "markdown",
   "id": "ffedad92-339e-4f3d-9bed-41bd637fd42d",
   "metadata": {},
   "source": [
    "## Question 11: Which country was the first to have a GDP per capita greater than $100,000?"
   ]
  },
  {
   "cell_type": "code",
   "execution_count": 49,
   "id": "51c0f3b6-7d4b-4bd3-9e98-afa911ca2650",
   "metadata": {},
   "outputs": [
    {
     "data": {
      "text/html": [
       "<div>\n",
       "<style scoped>\n",
       "    .dataframe tbody tr th:only-of-type {\n",
       "        vertical-align: middle;\n",
       "    }\n",
       "\n",
       "    .dataframe tbody tr th {\n",
       "        vertical-align: top;\n",
       "    }\n",
       "\n",
       "    .dataframe thead th {\n",
       "        text-align: right;\n",
       "    }\n",
       "</style>\n",
       "<table border=\"1\" class=\"dataframe\">\n",
       "  <thead>\n",
       "    <tr style=\"text-align: right;\">\n",
       "      <th></th>\n",
       "      <th>country</th>\n",
       "      <th>year</th>\n",
       "      <th>gdp_per_capita</th>\n",
       "    </tr>\n",
       "  </thead>\n",
       "  <tbody>\n",
       "    <tr>\n",
       "      <th>0</th>\n",
       "      <td>Afghanistan</td>\n",
       "      <td>2023</td>\n",
       "      <td>1992.424394</td>\n",
       "    </tr>\n",
       "    <tr>\n",
       "      <th>1</th>\n",
       "      <td>Afghanistan</td>\n",
       "      <td>2022</td>\n",
       "      <td>1981.710168</td>\n",
       "    </tr>\n",
       "  </tbody>\n",
       "</table>\n",
       "</div>"
      ],
      "text/plain": [
       "       country  year  gdp_per_capita\n",
       "0  Afghanistan  2023     1992.424394\n",
       "1  Afghanistan  2022     1981.710168"
      ]
     },
     "execution_count": 49,
     "metadata": {},
     "output_type": "execute_result"
    }
   ],
   "source": [
    "gdp_df.head(2)"
   ]
  },
  {
   "cell_type": "code",
   "execution_count": 50,
   "id": "8d87e2ed-e791-462e-9b46-111ab18ab493",
   "metadata": {},
   "outputs": [],
   "source": [
    "over100k = gdp_df.loc[(gdp_df.gdp_per_capita > 100000)]"
   ]
  },
  {
   "cell_type": "code",
   "execution_count": 51,
   "id": "e26e6ebd-d91a-427e-bd0f-5b560733d919",
   "metadata": {},
   "outputs": [
    {
     "data": {
      "text/html": [
       "<div>\n",
       "<style scoped>\n",
       "    .dataframe tbody tr th:only-of-type {\n",
       "        vertical-align: middle;\n",
       "    }\n",
       "\n",
       "    .dataframe tbody tr th {\n",
       "        vertical-align: top;\n",
       "    }\n",
       "\n",
       "    .dataframe thead th {\n",
       "        text-align: right;\n",
       "    }\n",
       "</style>\n",
       "<table border=\"1\" class=\"dataframe\">\n",
       "  <thead>\n",
       "    <tr style=\"text-align: right;\">\n",
       "      <th></th>\n",
       "      <th>country</th>\n",
       "      <th>year</th>\n",
       "      <th>gdp_per_capita</th>\n",
       "    </tr>\n",
       "  </thead>\n",
       "  <tbody>\n",
       "    <tr>\n",
       "      <th>974</th>\n",
       "      <td>Brunei</td>\n",
       "      <td>1990</td>\n",
       "      <td>118163.683198</td>\n",
       "    </tr>\n",
       "    <tr>\n",
       "      <th>7827</th>\n",
       "      <td>United Arab Emirates</td>\n",
       "      <td>1990</td>\n",
       "      <td>108057.042464</td>\n",
       "    </tr>\n",
       "  </tbody>\n",
       "</table>\n",
       "</div>"
      ],
      "text/plain": [
       "                   country  year  gdp_per_capita\n",
       "974                 Brunei  1990   118163.683198\n",
       "7827  United Arab Emirates  1990   108057.042464"
      ]
     },
     "execution_count": 51,
     "metadata": {},
     "output_type": "execute_result"
    }
   ],
   "source": [
    "over100k.loc[over100k.year == over100k.year.min()]"
   ]
  },
  {
   "cell_type": "markdown",
   "id": "9da14eae-3f1b-4e88-9b90-f6e2a6d81c4f",
   "metadata": {},
   "source": [
    "United Arab Emirates & Brunei were the first to eclipse $100,000 gdp in 1990"
   ]
  },
  {
   "cell_type": "markdown",
   "id": "4e7ee610-d36b-4cfe-9062-3624cd141679",
   "metadata": {},
   "source": [
    "### Question 12: Which country had the highest GDP per capita in 2020? Create a plot showing how this country's GDP per capita has changed over the timespan of the dataset."
   ]
  },
  {
   "cell_type": "code",
   "execution_count": 54,
   "id": "f2e22022-dce4-4dc5-a534-b9e810d7caec",
   "metadata": {},
   "outputs": [
    {
     "data": {
      "text/html": [
       "<div>\n",
       "<style scoped>\n",
       "    .dataframe tbody tr th:only-of-type {\n",
       "        vertical-align: middle;\n",
       "    }\n",
       "\n",
       "    .dataframe tbody tr th {\n",
       "        vertical-align: top;\n",
       "    }\n",
       "\n",
       "    .dataframe thead th {\n",
       "        text-align: right;\n",
       "    }\n",
       "</style>\n",
       "<table border=\"1\" class=\"dataframe\">\n",
       "  <thead>\n",
       "    <tr style=\"text-align: right;\">\n",
       "      <th></th>\n",
       "      <th>country</th>\n",
       "      <th>year</th>\n",
       "      <th>gdp_per_capita</th>\n",
       "    </tr>\n",
       "  </thead>\n",
       "  <tbody>\n",
       "    <tr>\n",
       "      <th>4426</th>\n",
       "      <td>Luxembourg</td>\n",
       "      <td>2020</td>\n",
       "      <td>128256.560341</td>\n",
       "    </tr>\n",
       "  </tbody>\n",
       "</table>\n",
       "</div>"
      ],
      "text/plain": [
       "         country  year  gdp_per_capita\n",
       "4426  Luxembourg  2020   128256.560341"
      ]
     },
     "execution_count": 54,
     "metadata": {},
     "output_type": "execute_result"
    }
   ],
   "source": [
    "gdp_sorted1 = gdp_df.loc[gdp_df.year == 2020].sort_values(by = 'gdp_per_capita', ascending = False)\n",
    "gdp_sorted1.head(1)"
   ]
  },
  {
   "cell_type": "code",
   "execution_count": 55,
   "id": "b37a4a32-6fdb-43b6-a854-7d6f27be6291",
   "metadata": {},
   "outputs": [
    {
     "data": {
      "text/html": [
       "<div>\n",
       "<style scoped>\n",
       "    .dataframe tbody tr th:only-of-type {\n",
       "        vertical-align: middle;\n",
       "    }\n",
       "\n",
       "    .dataframe tbody tr th {\n",
       "        vertical-align: top;\n",
       "    }\n",
       "\n",
       "    .dataframe thead th {\n",
       "        text-align: right;\n",
       "    }\n",
       "</style>\n",
       "<table border=\"1\" class=\"dataframe\">\n",
       "  <thead>\n",
       "    <tr style=\"text-align: right;\">\n",
       "      <th></th>\n",
       "      <th>country</th>\n",
       "      <th>year</th>\n",
       "      <th>gdp_per_capita</th>\n",
       "    </tr>\n",
       "  </thead>\n",
       "  <tbody>\n",
       "    <tr>\n",
       "      <th>4423</th>\n",
       "      <td>Luxembourg</td>\n",
       "      <td>2023</td>\n",
       "      <td>130373.477942</td>\n",
       "    </tr>\n",
       "    <tr>\n",
       "      <th>4424</th>\n",
       "      <td>Luxembourg</td>\n",
       "      <td>2022</td>\n",
       "      <td>134507.667531</td>\n",
       "    </tr>\n",
       "    <tr>\n",
       "      <th>4425</th>\n",
       "      <td>Luxembourg</td>\n",
       "      <td>2021</td>\n",
       "      <td>135379.291201</td>\n",
       "    </tr>\n",
       "    <tr>\n",
       "      <th>4426</th>\n",
       "      <td>Luxembourg</td>\n",
       "      <td>2020</td>\n",
       "      <td>128256.560341</td>\n",
       "    </tr>\n",
       "    <tr>\n",
       "      <th>4427</th>\n",
       "      <td>Luxembourg</td>\n",
       "      <td>2019</td>\n",
       "      <td>131609.099616</td>\n",
       "    </tr>\n",
       "  </tbody>\n",
       "</table>\n",
       "</div>"
      ],
      "text/plain": [
       "         country  year  gdp_per_capita\n",
       "4423  Luxembourg  2023   130373.477942\n",
       "4424  Luxembourg  2022   134507.667531\n",
       "4425  Luxembourg  2021   135379.291201\n",
       "4426  Luxembourg  2020   128256.560341\n",
       "4427  Luxembourg  2019   131609.099616"
      ]
     },
     "execution_count": 55,
     "metadata": {},
     "output_type": "execute_result"
    }
   ],
   "source": [
    "gdp_lux = gdp_df.loc[gdp_df.country == 'Luxembourg']\n",
    "gdp_lux.head()"
   ]
  },
  {
   "cell_type": "code",
   "execution_count": 56,
   "id": "2d0ed0e2-8e20-4738-ae1c-23e318124a49",
   "metadata": {},
   "outputs": [
    {
     "data": {
      "image/png": "[encoded data removed]",
      "text/plain": [
       "<Figure size 640x480 with 1 Axes>"
      ]
     },
     "metadata": {},
     "output_type": "display_data"
    }
   ],
   "source": [
    "sns.regplot(x='year', y='gdp_per_capita', data=gdp_lux, line_kws={'color': 'red', 'linewidth': 1.5}, color = 'lightblue');"
   ]
  },
  {
   "cell_type": "markdown",
   "id": "0e7f97e6-5149-46fd-8dec-133fab373e2c",
   "metadata": {},
   "source": [
    "## Question 13: Which country had the lowest GDP per capita in 2020? Create a plot showing how this country's GDP per capita has changed over the timespan of the dataset. <u>Bonus question</u>: Is it true in general that coutries had a higher GDP per capita in 2020 than in 1990? Which countries had lower GDP per capita in 2020 than in 1990?"
   ]
  },
  {
   "cell_type": "code",
   "execution_count": 58,
   "id": "48f62d4f-4bff-4a3c-a5de-c0547d403cdc",
   "metadata": {},
   "outputs": [
    {
     "data": {
      "text/html": [
       "<div>\n",
       "<style scoped>\n",
       "    .dataframe tbody tr th:only-of-type {\n",
       "        vertical-align: middle;\n",
       "    }\n",
       "\n",
       "    .dataframe tbody tr th {\n",
       "        vertical-align: top;\n",
       "    }\n",
       "\n",
       "    .dataframe thead th {\n",
       "        text-align: right;\n",
       "    }\n",
       "</style>\n",
       "<table border=\"1\" class=\"dataframe\">\n",
       "  <thead>\n",
       "    <tr style=\"text-align: right;\">\n",
       "      <th></th>\n",
       "      <th>country</th>\n",
       "      <th>year</th>\n",
       "      <th>gdp_per_capita</th>\n",
       "    </tr>\n",
       "  </thead>\n",
       "  <tbody>\n",
       "    <tr>\n",
       "      <th>1046</th>\n",
       "      <td>Burundi</td>\n",
       "      <td>2020</td>\n",
       "      <td>833.920257</td>\n",
       "    </tr>\n",
       "  </tbody>\n",
       "</table>\n",
       "</div>"
      ],
      "text/plain": [
       "      country  year  gdp_per_capita\n",
       "1046  Burundi  2020      833.920257"
      ]
     },
     "execution_count": 58,
     "metadata": {},
     "output_type": "execute_result"
    }
   ],
   "source": [
    "gdp_sorted1 = gdp_df.loc[gdp_df.year == 2020].sort_values(by = 'gdp_per_capita', ascending = True)\n",
    "gdp_sorted1.head(1)"
   ]
  },
  {
   "cell_type": "code",
   "execution_count": 59,
   "id": "4e7216f0-9c7d-493c-b6a6-c55b5c92ffc9",
   "metadata": {},
   "outputs": [
    {
     "data": {
      "text/html": [
       "<div>\n",
       "<style scoped>\n",
       "    .dataframe tbody tr th:only-of-type {\n",
       "        vertical-align: middle;\n",
       "    }\n",
       "\n",
       "    .dataframe tbody tr th {\n",
       "        vertical-align: top;\n",
       "    }\n",
       "\n",
       "    .dataframe thead th {\n",
       "        text-align: right;\n",
       "    }\n",
       "</style>\n",
       "<table border=\"1\" class=\"dataframe\">\n",
       "  <thead>\n",
       "    <tr style=\"text-align: right;\">\n",
       "      <th></th>\n",
       "      <th>country</th>\n",
       "      <th>year</th>\n",
       "      <th>gdp_per_capita</th>\n",
       "    </tr>\n",
       "  </thead>\n",
       "  <tbody>\n",
       "    <tr>\n",
       "      <th>1043</th>\n",
       "      <td>Burundi</td>\n",
       "      <td>2023</td>\n",
       "      <td>828.861074</td>\n",
       "    </tr>\n",
       "    <tr>\n",
       "      <th>1044</th>\n",
       "      <td>Burundi</td>\n",
       "      <td>2022</td>\n",
       "      <td>829.387160</td>\n",
       "    </tr>\n",
       "    <tr>\n",
       "      <th>1045</th>\n",
       "      <td>Burundi</td>\n",
       "      <td>2021</td>\n",
       "      <td>836.665571</td>\n",
       "    </tr>\n",
       "    <tr>\n",
       "      <th>1046</th>\n",
       "      <td>Burundi</td>\n",
       "      <td>2020</td>\n",
       "      <td>833.920257</td>\n",
       "    </tr>\n",
       "    <tr>\n",
       "      <th>1047</th>\n",
       "      <td>Burundi</td>\n",
       "      <td>2019</td>\n",
       "      <td>855.732720</td>\n",
       "    </tr>\n",
       "  </tbody>\n",
       "</table>\n",
       "</div>"
      ],
      "text/plain": [
       "      country  year  gdp_per_capita\n",
       "1043  Burundi  2023      828.861074\n",
       "1044  Burundi  2022      829.387160\n",
       "1045  Burundi  2021      836.665571\n",
       "1046  Burundi  2020      833.920257\n",
       "1047  Burundi  2019      855.732720"
      ]
     },
     "execution_count": 59,
     "metadata": {},
     "output_type": "execute_result"
    }
   ],
   "source": [
    "gdp_burundi = gdp_df.loc[gdp_df.country == 'Burundi']\n",
    "gdp_burundi.head()"
   ]
  },
  {
   "cell_type": "code",
   "execution_count": 60,
   "id": "312092d9-1ad8-4c36-b305-81130f725f87",
   "metadata": {},
   "outputs": [
    {
     "data": {
      "image/png": "[encoded data removed]",
      "text/plain": [
       "<Figure size 640x480 with 1 Axes>"
      ]
     },
     "metadata": {},
     "output_type": "display_data"
    }
   ],
   "source": [
    "sns.regplot(x='year', y='gdp_per_capita', data=gdp_burundi, line_kws={'color': 'red', 'linewidth': 1.5}, color = 'lightblue');"
   ]
  },
  {
   "cell_type": "code",
   "execution_count": 61,
   "id": "21076f7f-e6f5-462b-8501-c2ed55b07587",
   "metadata": {},
   "outputs": [
    {
     "data": {
      "text/html": [
       "<div>\n",
       "<style scoped>\n",
       "    .dataframe tbody tr th:only-of-type {\n",
       "        vertical-align: middle;\n",
       "    }\n",
       "\n",
       "    .dataframe tbody tr th {\n",
       "        vertical-align: top;\n",
       "    }\n",
       "\n",
       "    .dataframe thead th {\n",
       "        text-align: right;\n",
       "    }\n",
       "</style>\n",
       "<table border=\"1\" class=\"dataframe\">\n",
       "  <thead>\n",
       "    <tr style=\"text-align: right;\">\n",
       "      <th></th>\n",
       "      <th>country</th>\n",
       "      <th>year</th>\n",
       "      <th>gdp_per_capita</th>\n",
       "    </tr>\n",
       "  </thead>\n",
       "  <tbody>\n",
       "    <tr>\n",
       "      <th>3</th>\n",
       "      <td>Afghanistan</td>\n",
       "      <td>2020</td>\n",
       "      <td>2769.685745</td>\n",
       "    </tr>\n",
       "    <tr>\n",
       "      <th>27</th>\n",
       "      <td>Africa Eastern and Southern</td>\n",
       "      <td>2020</td>\n",
       "      <td>3861.111238</td>\n",
       "    </tr>\n",
       "    <tr>\n",
       "      <th>57</th>\n",
       "      <td>Africa Eastern and Southern</td>\n",
       "      <td>1990</td>\n",
       "      <td>3386.854480</td>\n",
       "    </tr>\n",
       "    <tr>\n",
       "      <th>61</th>\n",
       "      <td>Africa Western and Central</td>\n",
       "      <td>2020</td>\n",
       "      <td>4622.731427</td>\n",
       "    </tr>\n",
       "    <tr>\n",
       "      <th>91</th>\n",
       "      <td>Africa Western and Central</td>\n",
       "      <td>1990</td>\n",
       "      <td>3299.401375</td>\n",
       "    </tr>\n",
       "    <tr>\n",
       "      <th>...</th>\n",
       "      <td>...</td>\n",
       "      <td>...</td>\n",
       "      <td>...</td>\n",
       "    </tr>\n",
       "    <tr>\n",
       "      <th>8150</th>\n",
       "      <td>World</td>\n",
       "      <td>1990</td>\n",
       "      <td>11207.386344</td>\n",
       "    </tr>\n",
       "    <tr>\n",
       "      <th>8154</th>\n",
       "      <td>Zambia</td>\n",
       "      <td>2020</td>\n",
       "      <td>3391.595412</td>\n",
       "    </tr>\n",
       "    <tr>\n",
       "      <th>8184</th>\n",
       "      <td>Zambia</td>\n",
       "      <td>1990</td>\n",
       "      <td>2425.111287</td>\n",
       "    </tr>\n",
       "    <tr>\n",
       "      <th>8188</th>\n",
       "      <td>Zimbabwe</td>\n",
       "      <td>2020</td>\n",
       "      <td>2987.269823</td>\n",
       "    </tr>\n",
       "    <tr>\n",
       "      <th>8218</th>\n",
       "      <td>Zimbabwe</td>\n",
       "      <td>1990</td>\n",
       "      <td>4013.299059</td>\n",
       "    </tr>\n",
       "  </tbody>\n",
       "</table>\n",
       "<p>480 rows × 3 columns</p>\n",
       "</div>"
      ],
      "text/plain": [
       "                          country  year  gdp_per_capita\n",
       "3                     Afghanistan  2020     2769.685745\n",
       "27    Africa Eastern and Southern  2020     3861.111238\n",
       "57    Africa Eastern and Southern  1990     3386.854480\n",
       "61     Africa Western and Central  2020     4622.731427\n",
       "91     Africa Western and Central  1990     3299.401375\n",
       "...                           ...   ...             ...\n",
       "8150                        World  1990    11207.386344\n",
       "8154                       Zambia  2020     3391.595412\n",
       "8184                       Zambia  1990     2425.111287\n",
       "8188                     Zimbabwe  2020     2987.269823\n",
       "8218                     Zimbabwe  1990     4013.299059\n",
       "\n",
       "[480 rows x 3 columns]"
      ]
     },
     "execution_count": 61,
     "metadata": {},
     "output_type": "execute_result"
    }
   ],
   "source": [
    "gdp_2 = gdp_df.loc[(gdp_df.year == 2020) | (gdp_df.year == 1990)]\n",
    "gdp_2"
   ]
  },
  {
   "cell_type": "code",
   "execution_count": 62,
   "id": "a21fec03-89d2-4e5e-a750-3133bd83ff7c",
   "metadata": {},
   "outputs": [
    {
     "data": {
      "image/png": "[encoded data removed]",
      "text/plain": [
       "<Figure size 640x480 with 1 Axes>"
      ]
     },
     "metadata": {},
     "output_type": "display_data"
    }
   ],
   "source": [
    "sns.boxplot(x=gdp_decades.year, y=gdp_2.gdp_per_capita);"
   ]
  },
  {
   "cell_type": "markdown",
   "id": "07868e65-5d54-412f-b900-8f2381f1e0bb",
   "metadata": {},
   "source": [
    "This is showing that in 2020, countries overall had a higher gdp"
   ]
  },
  {
   "cell_type": "code",
   "execution_count": 64,
   "id": "fdfde0dc-509c-4c52-baf8-3ce8928439a3",
   "metadata": {},
   "outputs": [
    {
     "data": {
      "text/html": [
       "<div>\n",
       "<style scoped>\n",
       "    .dataframe tbody tr th:only-of-type {\n",
       "        vertical-align: middle;\n",
       "    }\n",
       "\n",
       "    .dataframe tbody tr th {\n",
       "        vertical-align: top;\n",
       "    }\n",
       "\n",
       "    .dataframe thead th {\n",
       "        text-align: right;\n",
       "    }\n",
       "</style>\n",
       "<table border=\"1\" class=\"dataframe\">\n",
       "  <thead>\n",
       "    <tr style=\"text-align: right;\">\n",
       "      <th></th>\n",
       "      <th>country</th>\n",
       "      <th>year</th>\n",
       "      <th>gdp_per_capita</th>\n",
       "    </tr>\n",
       "  </thead>\n",
       "  <tbody>\n",
       "    <tr>\n",
       "      <th>57</th>\n",
       "      <td>Africa Eastern and Southern</td>\n",
       "      <td>1990</td>\n",
       "      <td>3386.854480</td>\n",
       "    </tr>\n",
       "    <tr>\n",
       "      <th>91</th>\n",
       "      <td>Africa Western and Central</td>\n",
       "      <td>1990</td>\n",
       "      <td>3299.401375</td>\n",
       "    </tr>\n",
       "  </tbody>\n",
       "</table>\n",
       "</div>"
      ],
      "text/plain": [
       "                        country  year  gdp_per_capita\n",
       "57  Africa Eastern and Southern  1990     3386.854480\n",
       "91   Africa Western and Central  1990     3299.401375"
      ]
     },
     "execution_count": 64,
     "metadata": {},
     "output_type": "execute_result"
    }
   ],
   "source": [
    "gdp_1990 = gdp_df.loc[gdp_df.year == 1990]\n",
    "gdp_1990.head(2)"
   ]
  },
  {
   "cell_type": "code",
   "execution_count": 65,
   "id": "5ef24117-39cb-4e89-907f-c4eb708b6272",
   "metadata": {},
   "outputs": [
    {
     "data": {
      "text/html": [
       "<div>\n",
       "<style scoped>\n",
       "    .dataframe tbody tr th:only-of-type {\n",
       "        vertical-align: middle;\n",
       "    }\n",
       "\n",
       "    .dataframe tbody tr th {\n",
       "        vertical-align: top;\n",
       "    }\n",
       "\n",
       "    .dataframe thead th {\n",
       "        text-align: right;\n",
       "    }\n",
       "</style>\n",
       "<table border=\"1\" class=\"dataframe\">\n",
       "  <thead>\n",
       "    <tr style=\"text-align: right;\">\n",
       "      <th></th>\n",
       "      <th>country</th>\n",
       "      <th>year</th>\n",
       "      <th>gdp_per_capita</th>\n",
       "    </tr>\n",
       "  </thead>\n",
       "  <tbody>\n",
       "    <tr>\n",
       "      <th>3</th>\n",
       "      <td>Afghanistan</td>\n",
       "      <td>2020</td>\n",
       "      <td>2769.685745</td>\n",
       "    </tr>\n",
       "    <tr>\n",
       "      <th>27</th>\n",
       "      <td>Africa Eastern and Southern</td>\n",
       "      <td>2020</td>\n",
       "      <td>3861.111238</td>\n",
       "    </tr>\n",
       "  </tbody>\n",
       "</table>\n",
       "</div>"
      ],
      "text/plain": [
       "                        country  year  gdp_per_capita\n",
       "3                   Afghanistan  2020     2769.685745\n",
       "27  Africa Eastern and Southern  2020     3861.111238"
      ]
     },
     "execution_count": 65,
     "metadata": {},
     "output_type": "execute_result"
    }
   ],
   "source": [
    "gdp_2020 = gdp_df.loc[gdp_df.year == 2020]\n",
    "gdp_2020.head(2)"
   ]
  },
  {
   "cell_type": "code",
   "execution_count": 66,
   "id": "524f7441-7f57-49fb-b966-70ae4bb00c48",
   "metadata": {},
   "outputs": [
    {
     "data": {
      "text/html": [
       "<div>\n",
       "<style scoped>\n",
       "    .dataframe tbody tr th:only-of-type {\n",
       "        vertical-align: middle;\n",
       "    }\n",
       "\n",
       "    .dataframe tbody tr th {\n",
       "        vertical-align: top;\n",
       "    }\n",
       "\n",
       "    .dataframe thead th {\n",
       "        text-align: right;\n",
       "    }\n",
       "</style>\n",
       "<table border=\"1\" class=\"dataframe\">\n",
       "  <thead>\n",
       "    <tr style=\"text-align: right;\">\n",
       "      <th></th>\n",
       "      <th>country</th>\n",
       "      <th>year_x</th>\n",
       "      <th>gdp_per_capita_x</th>\n",
       "      <th>year_y</th>\n",
       "      <th>gdp_per_capita_y</th>\n",
       "    </tr>\n",
       "  </thead>\n",
       "  <tbody>\n",
       "    <tr>\n",
       "      <th>0</th>\n",
       "      <td>Africa Eastern and Southern</td>\n",
       "      <td>1990</td>\n",
       "      <td>3386.854480</td>\n",
       "      <td>2020</td>\n",
       "      <td>3861.111238</td>\n",
       "    </tr>\n",
       "    <tr>\n",
       "      <th>1</th>\n",
       "      <td>Africa Western and Central</td>\n",
       "      <td>1990</td>\n",
       "      <td>3299.401375</td>\n",
       "      <td>2020</td>\n",
       "      <td>4622.731427</td>\n",
       "    </tr>\n",
       "    <tr>\n",
       "      <th>2</th>\n",
       "      <td>Albania</td>\n",
       "      <td>1990</td>\n",
       "      <td>5327.747458</td>\n",
       "      <td>2020</td>\n",
       "      <td>14650.395929</td>\n",
       "    </tr>\n",
       "    <tr>\n",
       "      <th>3</th>\n",
       "      <td>Algeria</td>\n",
       "      <td>1990</td>\n",
       "      <td>11728.545729</td>\n",
       "      <td>2020</td>\n",
       "      <td>14194.155748</td>\n",
       "    </tr>\n",
       "    <tr>\n",
       "      <th>4</th>\n",
       "      <td>Andorra</td>\n",
       "      <td>1990</td>\n",
       "      <td>50036.300776</td>\n",
       "      <td>2020</td>\n",
       "      <td>55488.490299</td>\n",
       "    </tr>\n",
       "    <tr>\n",
       "      <th>...</th>\n",
       "      <td>...</td>\n",
       "      <td>...</td>\n",
       "      <td>...</td>\n",
       "      <td>...</td>\n",
       "      <td>...</td>\n",
       "    </tr>\n",
       "    <tr>\n",
       "      <th>228</th>\n",
       "      <td>Vanuatu</td>\n",
       "      <td>1990</td>\n",
       "      <td>3101.680551</td>\n",
       "      <td>2020</td>\n",
       "      <td>3259.995437</td>\n",
       "    </tr>\n",
       "    <tr>\n",
       "      <th>229</th>\n",
       "      <td>Viet Nam</td>\n",
       "      <td>1990</td>\n",
       "      <td>2467.964601</td>\n",
       "      <td>2020</td>\n",
       "      <td>11851.396569</td>\n",
       "    </tr>\n",
       "    <tr>\n",
       "      <th>230</th>\n",
       "      <td>World</td>\n",
       "      <td>1990</td>\n",
       "      <td>11207.386344</td>\n",
       "      <td>2020</td>\n",
       "      <td>18600.986362</td>\n",
       "    </tr>\n",
       "    <tr>\n",
       "      <th>231</th>\n",
       "      <td>Zambia</td>\n",
       "      <td>1990</td>\n",
       "      <td>2425.111287</td>\n",
       "      <td>2020</td>\n",
       "      <td>3391.595412</td>\n",
       "    </tr>\n",
       "    <tr>\n",
       "      <th>232</th>\n",
       "      <td>Zimbabwe</td>\n",
       "      <td>1990</td>\n",
       "      <td>4013.299059</td>\n",
       "      <td>2020</td>\n",
       "      <td>2987.269823</td>\n",
       "    </tr>\n",
       "  </tbody>\n",
       "</table>\n",
       "<p>233 rows × 5 columns</p>\n",
       "</div>"
      ],
      "text/plain": [
       "                         country  year_x  gdp_per_capita_x  year_y  \\\n",
       "0    Africa Eastern and Southern    1990       3386.854480    2020   \n",
       "1     Africa Western and Central    1990       3299.401375    2020   \n",
       "2                        Albania    1990       5327.747458    2020   \n",
       "3                        Algeria    1990      11728.545729    2020   \n",
       "4                        Andorra    1990      50036.300776    2020   \n",
       "..                           ...     ...               ...     ...   \n",
       "228                      Vanuatu    1990       3101.680551    2020   \n",
       "229                     Viet Nam    1990       2467.964601    2020   \n",
       "230                        World    1990      11207.386344    2020   \n",
       "231                       Zambia    1990       2425.111287    2020   \n",
       "232                     Zimbabwe    1990       4013.299059    2020   \n",
       "\n",
       "     gdp_per_capita_y  \n",
       "0         3861.111238  \n",
       "1         4622.731427  \n",
       "2        14650.395929  \n",
       "3        14194.155748  \n",
       "4        55488.490299  \n",
       "..                ...  \n",
       "228       3259.995437  \n",
       "229      11851.396569  \n",
       "230      18600.986362  \n",
       "231       3391.595412  \n",
       "232       2987.269823  \n",
       "\n",
       "[233 rows x 5 columns]"
      ]
     },
     "execution_count": 66,
     "metadata": {},
     "output_type": "execute_result"
    }
   ],
   "source": [
    "combined_years = pd.merge(gdp_1990, gdp_2020, \n",
    "                               on = 'country')\n",
    "combined_years"
   ]
  },
  {
   "cell_type": "code",
   "execution_count": 67,
   "id": "034225a3-ff51-47b0-b33a-fff19cdc8e96",
   "metadata": {},
   "outputs": [
    {
     "data": {
      "text/html": [
       "<div>\n",
       "<style scoped>\n",
       "    .dataframe tbody tr th:only-of-type {\n",
       "        vertical-align: middle;\n",
       "    }\n",
       "\n",
       "    .dataframe tbody tr th {\n",
       "        vertical-align: top;\n",
       "    }\n",
       "\n",
       "    .dataframe thead th {\n",
       "        text-align: right;\n",
       "    }\n",
       "</style>\n",
       "<table border=\"1\" class=\"dataframe\">\n",
       "  <thead>\n",
       "    <tr style=\"text-align: right;\">\n",
       "      <th></th>\n",
       "      <th>country</th>\n",
       "      <th>year_x</th>\n",
       "      <th>gdp_per_capita_x</th>\n",
       "      <th>year_y</th>\n",
       "      <th>gdp_per_capita_y</th>\n",
       "      <th>difference</th>\n",
       "    </tr>\n",
       "  </thead>\n",
       "  <tbody>\n",
       "    <tr>\n",
       "      <th>0</th>\n",
       "      <td>Africa Eastern and Southern</td>\n",
       "      <td>1990</td>\n",
       "      <td>3386.854480</td>\n",
       "      <td>2020</td>\n",
       "      <td>3861.111238</td>\n",
       "      <td>474.256758</td>\n",
       "    </tr>\n",
       "    <tr>\n",
       "      <th>1</th>\n",
       "      <td>Africa Western and Central</td>\n",
       "      <td>1990</td>\n",
       "      <td>3299.401375</td>\n",
       "      <td>2020</td>\n",
       "      <td>4622.731427</td>\n",
       "      <td>1323.330052</td>\n",
       "    </tr>\n",
       "    <tr>\n",
       "      <th>2</th>\n",
       "      <td>Albania</td>\n",
       "      <td>1990</td>\n",
       "      <td>5327.747458</td>\n",
       "      <td>2020</td>\n",
       "      <td>14650.395929</td>\n",
       "      <td>9322.648471</td>\n",
       "    </tr>\n",
       "    <tr>\n",
       "      <th>3</th>\n",
       "      <td>Algeria</td>\n",
       "      <td>1990</td>\n",
       "      <td>11728.545729</td>\n",
       "      <td>2020</td>\n",
       "      <td>14194.155748</td>\n",
       "      <td>2465.610019</td>\n",
       "    </tr>\n",
       "    <tr>\n",
       "      <th>4</th>\n",
       "      <td>Andorra</td>\n",
       "      <td>1990</td>\n",
       "      <td>50036.300776</td>\n",
       "      <td>2020</td>\n",
       "      <td>55488.490299</td>\n",
       "      <td>5452.189523</td>\n",
       "    </tr>\n",
       "    <tr>\n",
       "      <th>...</th>\n",
       "      <td>...</td>\n",
       "      <td>...</td>\n",
       "      <td>...</td>\n",
       "      <td>...</td>\n",
       "      <td>...</td>\n",
       "      <td>...</td>\n",
       "    </tr>\n",
       "    <tr>\n",
       "      <th>228</th>\n",
       "      <td>Vanuatu</td>\n",
       "      <td>1990</td>\n",
       "      <td>3101.680551</td>\n",
       "      <td>2020</td>\n",
       "      <td>3259.995437</td>\n",
       "      <td>158.314887</td>\n",
       "    </tr>\n",
       "    <tr>\n",
       "      <th>229</th>\n",
       "      <td>Viet Nam</td>\n",
       "      <td>1990</td>\n",
       "      <td>2467.964601</td>\n",
       "      <td>2020</td>\n",
       "      <td>11851.396569</td>\n",
       "      <td>9383.431968</td>\n",
       "    </tr>\n",
       "    <tr>\n",
       "      <th>230</th>\n",
       "      <td>World</td>\n",
       "      <td>1990</td>\n",
       "      <td>11207.386344</td>\n",
       "      <td>2020</td>\n",
       "      <td>18600.986362</td>\n",
       "      <td>7393.600018</td>\n",
       "    </tr>\n",
       "    <tr>\n",
       "      <th>231</th>\n",
       "      <td>Zambia</td>\n",
       "      <td>1990</td>\n",
       "      <td>2425.111287</td>\n",
       "      <td>2020</td>\n",
       "      <td>3391.595412</td>\n",
       "      <td>966.484125</td>\n",
       "    </tr>\n",
       "    <tr>\n",
       "      <th>232</th>\n",
       "      <td>Zimbabwe</td>\n",
       "      <td>1990</td>\n",
       "      <td>4013.299059</td>\n",
       "      <td>2020</td>\n",
       "      <td>2987.269823</td>\n",
       "      <td>-1026.029236</td>\n",
       "    </tr>\n",
       "  </tbody>\n",
       "</table>\n",
       "<p>233 rows × 6 columns</p>\n",
       "</div>"
      ],
      "text/plain": [
       "                         country  year_x  gdp_per_capita_x  year_y  \\\n",
       "0    Africa Eastern and Southern    1990       3386.854480    2020   \n",
       "1     Africa Western and Central    1990       3299.401375    2020   \n",
       "2                        Albania    1990       5327.747458    2020   \n",
       "3                        Algeria    1990      11728.545729    2020   \n",
       "4                        Andorra    1990      50036.300776    2020   \n",
       "..                           ...     ...               ...     ...   \n",
       "228                      Vanuatu    1990       3101.680551    2020   \n",
       "229                     Viet Nam    1990       2467.964601    2020   \n",
       "230                        World    1990      11207.386344    2020   \n",
       "231                       Zambia    1990       2425.111287    2020   \n",
       "232                     Zimbabwe    1990       4013.299059    2020   \n",
       "\n",
       "     gdp_per_capita_y   difference  \n",
       "0         3861.111238   474.256758  \n",
       "1         4622.731427  1323.330052  \n",
       "2        14650.395929  9322.648471  \n",
       "3        14194.155748  2465.610019  \n",
       "4        55488.490299  5452.189523  \n",
       "..                ...          ...  \n",
       "228       3259.995437   158.314887  \n",
       "229      11851.396569  9383.431968  \n",
       "230      18600.986362  7393.600018  \n",
       "231       3391.595412   966.484125  \n",
       "232       2987.269823 -1026.029236  \n",
       "\n",
       "[233 rows x 6 columns]"
      ]
     },
     "execution_count": 67,
     "metadata": {},
     "output_type": "execute_result"
    }
   ],
   "source": [
    "combined_years['difference'] = combined_years.gdp_per_capita_y - combined_years.gdp_per_capita_x\n",
    "combined_years"
   ]
  },
  {
   "cell_type": "code",
   "execution_count": 68,
   "id": "e18c1939-1503-46da-ba31-e6f0c09b95c7",
   "metadata": {},
   "outputs": [
    {
     "data": {
      "text/html": [
       "<div>\n",
       "<style scoped>\n",
       "    .dataframe tbody tr th:only-of-type {\n",
       "        vertical-align: middle;\n",
       "    }\n",
       "\n",
       "    .dataframe tbody tr th {\n",
       "        vertical-align: top;\n",
       "    }\n",
       "\n",
       "    .dataframe thead th {\n",
       "        text-align: right;\n",
       "    }\n",
       "</style>\n",
       "<table border=\"1\" class=\"dataframe\">\n",
       "  <thead>\n",
       "    <tr style=\"text-align: right;\">\n",
       "      <th></th>\n",
       "      <th>country</th>\n",
       "      <th>year_x</th>\n",
       "      <th>gdp_per_capita_x</th>\n",
       "      <th>year_y</th>\n",
       "      <th>gdp_per_capita_y</th>\n",
       "      <th>difference</th>\n",
       "    </tr>\n",
       "  </thead>\n",
       "  <tbody>\n",
       "    <tr>\n",
       "      <th>10</th>\n",
       "      <td>Aruba</td>\n",
       "      <td>1990</td>\n",
       "      <td>34579.220640</td>\n",
       "      <td>2020</td>\n",
       "      <td>28521.688852</td>\n",
       "      <td>-6057.531788</td>\n",
       "    </tr>\n",
       "    <tr>\n",
       "      <th>16</th>\n",
       "      <td>Barbados</td>\n",
       "      <td>1990</td>\n",
       "      <td>16976.761648</td>\n",
       "      <td>2020</td>\n",
       "      <td>15749.038017</td>\n",
       "      <td>-1227.723631</td>\n",
       "    </tr>\n",
       "  </tbody>\n",
       "</table>\n",
       "</div>"
      ],
      "text/plain": [
       "     country  year_x  gdp_per_capita_x  year_y  gdp_per_capita_y   difference\n",
       "10     Aruba    1990      34579.220640    2020      28521.688852 -6057.531788\n",
       "16  Barbados    1990      16976.761648    2020      15749.038017 -1227.723631"
      ]
     },
     "execution_count": 68,
     "metadata": {},
     "output_type": "execute_result"
    }
   ],
   "source": [
    "combined_years_negative = combined_years.loc[combined_years.difference < 0]\n",
    "combined_years_negative.head(2)"
   ]
  },
  {
   "cell_type": "code",
   "execution_count": 69,
   "id": "b21a8a9a-0853-4afc-a345-b1e34db058f6",
   "metadata": {},
   "outputs": [
    {
     "data": {
      "text/html": [
       "<div>\n",
       "<style scoped>\n",
       "    .dataframe tbody tr th:only-of-type {\n",
       "        vertical-align: middle;\n",
       "    }\n",
       "\n",
       "    .dataframe tbody tr th {\n",
       "        vertical-align: top;\n",
       "    }\n",
       "\n",
       "    .dataframe thead th {\n",
       "        text-align: right;\n",
       "    }\n",
       "</style>\n",
       "<table border=\"1\" class=\"dataframe\">\n",
       "  <thead>\n",
       "    <tr style=\"text-align: right;\">\n",
       "      <th></th>\n",
       "      <th>country</th>\n",
       "      <th>year_x</th>\n",
       "      <th>gdp_per_capita_x</th>\n",
       "      <th>year_y</th>\n",
       "      <th>gdp_per_capita_y</th>\n",
       "      <th>difference</th>\n",
       "    </tr>\n",
       "  </thead>\n",
       "  <tbody>\n",
       "    <tr>\n",
       "      <th>0</th>\n",
       "      <td>Aruba</td>\n",
       "      <td>1990</td>\n",
       "      <td>34579.220640</td>\n",
       "      <td>2020</td>\n",
       "      <td>28521.688852</td>\n",
       "      <td>-6057.531788</td>\n",
       "    </tr>\n",
       "    <tr>\n",
       "      <th>1</th>\n",
       "      <td>Barbados</td>\n",
       "      <td>1990</td>\n",
       "      <td>16976.761648</td>\n",
       "      <td>2020</td>\n",
       "      <td>15749.038017</td>\n",
       "      <td>-1227.723631</td>\n",
       "    </tr>\n",
       "    <tr>\n",
       "      <th>2</th>\n",
       "      <td>Brunei</td>\n",
       "      <td>1990</td>\n",
       "      <td>118163.683198</td>\n",
       "      <td>2020</td>\n",
       "      <td>80280.897948</td>\n",
       "      <td>-37882.785250</td>\n",
       "    </tr>\n",
       "    <tr>\n",
       "      <th>3</th>\n",
       "      <td>Burundi</td>\n",
       "      <td>1990</td>\n",
       "      <td>1396.077627</td>\n",
       "      <td>2020</td>\n",
       "      <td>833.920257</td>\n",
       "      <td>-562.157369</td>\n",
       "    </tr>\n",
       "    <tr>\n",
       "      <th>4</th>\n",
       "      <td>Central African Republic</td>\n",
       "      <td>1990</td>\n",
       "      <td>1481.252551</td>\n",
       "      <td>2020</td>\n",
       "      <td>1136.570530</td>\n",
       "      <td>-344.682021</td>\n",
       "    </tr>\n",
       "    <tr>\n",
       "      <th>5</th>\n",
       "      <td>Congo</td>\n",
       "      <td>1990</td>\n",
       "      <td>8699.526839</td>\n",
       "      <td>2020</td>\n",
       "      <td>6350.509134</td>\n",
       "      <td>-2349.017705</td>\n",
       "    </tr>\n",
       "    <tr>\n",
       "      <th>6</th>\n",
       "      <td>Dem. Rep. Congo</td>\n",
       "      <td>1990</td>\n",
       "      <td>2172.001597</td>\n",
       "      <td>2020</td>\n",
       "      <td>1277.632863</td>\n",
       "      <td>-894.368734</td>\n",
       "    </tr>\n",
       "    <tr>\n",
       "      <th>7</th>\n",
       "      <td>Fragile and conflict affected situations</td>\n",
       "      <td>1990</td>\n",
       "      <td>6062.707946</td>\n",
       "      <td>2020</td>\n",
       "      <td>5271.014406</td>\n",
       "      <td>-791.693539</td>\n",
       "    </tr>\n",
       "    <tr>\n",
       "      <th>8</th>\n",
       "      <td>Gabon</td>\n",
       "      <td>1990</td>\n",
       "      <td>23884.810700</td>\n",
       "      <td>2020</td>\n",
       "      <td>18681.484074</td>\n",
       "      <td>-5203.326626</td>\n",
       "    </tr>\n",
       "    <tr>\n",
       "      <th>9</th>\n",
       "      <td>Haiti</td>\n",
       "      <td>1990</td>\n",
       "      <td>3946.365646</td>\n",
       "      <td>2020</td>\n",
       "      <td>3229.475544</td>\n",
       "      <td>-716.890102</td>\n",
       "    </tr>\n",
       "    <tr>\n",
       "      <th>10</th>\n",
       "      <td>Kyrgyz Republic</td>\n",
       "      <td>1990</td>\n",
       "      <td>6095.681086</td>\n",
       "      <td>2020</td>\n",
       "      <td>5537.795885</td>\n",
       "      <td>-557.885201</td>\n",
       "    </tr>\n",
       "    <tr>\n",
       "      <th>11</th>\n",
       "      <td>Liberia</td>\n",
       "      <td>1990</td>\n",
       "      <td>1866.405481</td>\n",
       "      <td>2020</td>\n",
       "      <td>1497.376924</td>\n",
       "      <td>-369.028557</td>\n",
       "    </tr>\n",
       "    <tr>\n",
       "      <th>12</th>\n",
       "      <td>Libya</td>\n",
       "      <td>1990</td>\n",
       "      <td>18121.815655</td>\n",
       "      <td>2020</td>\n",
       "      <td>9976.037403</td>\n",
       "      <td>-8145.778252</td>\n",
       "    </tr>\n",
       "    <tr>\n",
       "      <th>13</th>\n",
       "      <td>Madagascar</td>\n",
       "      <td>1990</td>\n",
       "      <td>1975.146568</td>\n",
       "      <td>2020</td>\n",
       "      <td>1551.125580</td>\n",
       "      <td>-424.020989</td>\n",
       "    </tr>\n",
       "    <tr>\n",
       "      <th>14</th>\n",
       "      <td>Moldova</td>\n",
       "      <td>1990</td>\n",
       "      <td>15902.894323</td>\n",
       "      <td>2020</td>\n",
       "      <td>13559.260022</td>\n",
       "      <td>-2343.634301</td>\n",
       "    </tr>\n",
       "    <tr>\n",
       "      <th>15</th>\n",
       "      <td>Nauru</td>\n",
       "      <td>1990</td>\n",
       "      <td>30546.301797</td>\n",
       "      <td>2020</td>\n",
       "      <td>11441.258450</td>\n",
       "      <td>-19105.043347</td>\n",
       "    </tr>\n",
       "    <tr>\n",
       "      <th>16</th>\n",
       "      <td>Saudi Arabia</td>\n",
       "      <td>1990</td>\n",
       "      <td>60101.575626</td>\n",
       "      <td>2020</td>\n",
       "      <td>51782.568653</td>\n",
       "      <td>-8319.006973</td>\n",
       "    </tr>\n",
       "    <tr>\n",
       "      <th>17</th>\n",
       "      <td>St. Lucia</td>\n",
       "      <td>1990</td>\n",
       "      <td>17222.000972</td>\n",
       "      <td>2020</td>\n",
       "      <td>17141.938071</td>\n",
       "      <td>-80.062901</td>\n",
       "    </tr>\n",
       "    <tr>\n",
       "      <th>18</th>\n",
       "      <td>Syrian Arab Republic</td>\n",
       "      <td>1990</td>\n",
       "      <td>5828.405516</td>\n",
       "      <td>2020</td>\n",
       "      <td>4633.349518</td>\n",
       "      <td>-1195.055998</td>\n",
       "    </tr>\n",
       "    <tr>\n",
       "      <th>19</th>\n",
       "      <td>Tajikistan</td>\n",
       "      <td>1990</td>\n",
       "      <td>4173.046080</td>\n",
       "      <td>2020</td>\n",
       "      <td>3724.748959</td>\n",
       "      <td>-448.297121</td>\n",
       "    </tr>\n",
       "    <tr>\n",
       "      <th>20</th>\n",
       "      <td>The Bahamas</td>\n",
       "      <td>1990</td>\n",
       "      <td>33062.545904</td>\n",
       "      <td>2020</td>\n",
       "      <td>25457.080388</td>\n",
       "      <td>-7605.465516</td>\n",
       "    </tr>\n",
       "    <tr>\n",
       "      <th>21</th>\n",
       "      <td>Ukraine</td>\n",
       "      <td>1990</td>\n",
       "      <td>22815.798828</td>\n",
       "      <td>2020</td>\n",
       "      <td>17092.539062</td>\n",
       "      <td>-5723.259766</td>\n",
       "    </tr>\n",
       "    <tr>\n",
       "      <th>22</th>\n",
       "      <td>United Arab Emirates</td>\n",
       "      <td>1990</td>\n",
       "      <td>108057.042464</td>\n",
       "      <td>2020</td>\n",
       "      <td>65784.676939</td>\n",
       "      <td>-42272.365525</td>\n",
       "    </tr>\n",
       "    <tr>\n",
       "      <th>23</th>\n",
       "      <td>Zimbabwe</td>\n",
       "      <td>1990</td>\n",
       "      <td>4013.299059</td>\n",
       "      <td>2020</td>\n",
       "      <td>2987.269823</td>\n",
       "      <td>-1026.029236</td>\n",
       "    </tr>\n",
       "  </tbody>\n",
       "</table>\n",
       "</div>"
      ],
      "text/plain": [
       "                                     country  year_x  gdp_per_capita_x  \\\n",
       "0                                      Aruba    1990      34579.220640   \n",
       "1                                   Barbados    1990      16976.761648   \n",
       "2                                     Brunei    1990     118163.683198   \n",
       "3                                    Burundi    1990       1396.077627   \n",
       "4                   Central African Republic    1990       1481.252551   \n",
       "5                                      Congo    1990       8699.526839   \n",
       "6                            Dem. Rep. Congo    1990       2172.001597   \n",
       "7   Fragile and conflict affected situations    1990       6062.707946   \n",
       "8                                      Gabon    1990      23884.810700   \n",
       "9                                      Haiti    1990       3946.365646   \n",
       "10                           Kyrgyz Republic    1990       6095.681086   \n",
       "11                                   Liberia    1990       1866.405481   \n",
       "12                                     Libya    1990      18121.815655   \n",
       "13                                Madagascar    1990       1975.146568   \n",
       "14                                   Moldova    1990      15902.894323   \n",
       "15                                     Nauru    1990      30546.301797   \n",
       "16                              Saudi Arabia    1990      60101.575626   \n",
       "17                                 St. Lucia    1990      17222.000972   \n",
       "18                      Syrian Arab Republic    1990       5828.405516   \n",
       "19                                Tajikistan    1990       4173.046080   \n",
       "20                               The Bahamas    1990      33062.545904   \n",
       "21                                   Ukraine    1990      22815.798828   \n",
       "22                      United Arab Emirates    1990     108057.042464   \n",
       "23                                  Zimbabwe    1990       4013.299059   \n",
       "\n",
       "    year_y  gdp_per_capita_y    difference  \n",
       "0     2020      28521.688852  -6057.531788  \n",
       "1     2020      15749.038017  -1227.723631  \n",
       "2     2020      80280.897948 -37882.785250  \n",
       "3     2020        833.920257   -562.157369  \n",
       "4     2020       1136.570530   -344.682021  \n",
       "5     2020       6350.509134  -2349.017705  \n",
       "6     2020       1277.632863   -894.368734  \n",
       "7     2020       5271.014406   -791.693539  \n",
       "8     2020      18681.484074  -5203.326626  \n",
       "9     2020       3229.475544   -716.890102  \n",
       "10    2020       5537.795885   -557.885201  \n",
       "11    2020       1497.376924   -369.028557  \n",
       "12    2020       9976.037403  -8145.778252  \n",
       "13    2020       1551.125580   -424.020989  \n",
       "14    2020      13559.260022  -2343.634301  \n",
       "15    2020      11441.258450 -19105.043347  \n",
       "16    2020      51782.568653  -8319.006973  \n",
       "17    2020      17141.938071    -80.062901  \n",
       "18    2020       4633.349518  -1195.055998  \n",
       "19    2020       3724.748959   -448.297121  \n",
       "20    2020      25457.080388  -7605.465516  \n",
       "21    2020      17092.539062  -5723.259766  \n",
       "22    2020      65784.676939 -42272.365525  \n",
       "23    2020       2987.269823  -1026.029236  "
      ]
     },
     "execution_count": 69,
     "metadata": {},
     "output_type": "execute_result"
    }
   ],
   "source": [
    "combined_years_negative.reset_index(drop=True)"
   ]
  },
  {
   "cell_type": "markdown",
   "id": "4d5681df-07fb-44d1-a20d-74d2413d2f2c",
   "metadata": {},
   "source": [
    "This is a list above showing the countries that had a lower GDP per capita in 2020 than 1990."
   ]
  },
  {
   "cell_type": "markdown",
   "id": "c5b3e375-1a4d-410e-a305-706e5c7b66db",
   "metadata": {},
   "source": [
    "## Question 14: Read in the internet use dataset into a DataFrame named internet_df. You will likely get errors when doing this. Check the arguments for the read_csv function to find ones that can help correct the errors (https://pandas.pydata.org/docs/reference/api/pandas.read_csv.html) Once you are able to read it in, take per a look at the top and bottom few rows to make sure that it has been read in correctly. Also, check the datatypes of the columns."
   ]
  },
  {
   "cell_type": "code",
   "execution_count": 72,
   "id": "946fd0c9-d905-4923-ad83-7382c8908c5c",
   "metadata": {},
   "outputs": [],
   "source": [
    "internet_df = pd.read_csv('../data/internet_use.csv')"
   ]
  },
  {
   "cell_type": "code",
   "execution_count": 73,
   "id": "4cb9e566-0e9a-4301-8f48-f8dc9b9d4595",
   "metadata": {},
   "outputs": [
    {
     "data": {
      "text/html": [
       "<div>\n",
       "<style scoped>\n",
       "    .dataframe tbody tr th:only-of-type {\n",
       "        vertical-align: middle;\n",
       "    }\n",
       "\n",
       "    .dataframe tbody tr th {\n",
       "        vertical-align: top;\n",
       "    }\n",
       "\n",
       "    .dataframe thead th {\n",
       "        text-align: right;\n",
       "    }\n",
       "</style>\n",
       "<table border=\"1\" class=\"dataframe\">\n",
       "  <thead>\n",
       "    <tr style=\"text-align: right;\">\n",
       "      <th></th>\n",
       "      <th>Country or Area</th>\n",
       "      <th>Year</th>\n",
       "      <th>Value</th>\n",
       "      <th>Value Footnotes</th>\n",
       "    </tr>\n",
       "  </thead>\n",
       "  <tbody>\n",
       "    <tr>\n",
       "      <th>0</th>\n",
       "      <td>Afghanistan</td>\n",
       "      <td>2019</td>\n",
       "      <td>17.6</td>\n",
       "      <td>1</td>\n",
       "    </tr>\n",
       "    <tr>\n",
       "      <th>1</th>\n",
       "      <td>Afghanistan</td>\n",
       "      <td>2018</td>\n",
       "      <td>16.8</td>\n",
       "      <td>2</td>\n",
       "    </tr>\n",
       "  </tbody>\n",
       "</table>\n",
       "</div>"
      ],
      "text/plain": [
       "  Country or Area  Year  Value Value Footnotes\n",
       "0     Afghanistan  2019   17.6               1\n",
       "1     Afghanistan  2018   16.8               2"
      ]
     },
     "execution_count": 73,
     "metadata": {},
     "output_type": "execute_result"
    }
   ],
   "source": [
    "internet_df.head(2)"
   ]
  },
  {
   "cell_type": "code",
   "execution_count": 74,
   "id": "2c050268-4ae5-47fa-ba98-94b0ebd2a004",
   "metadata": {},
   "outputs": [
    {
     "data": {
      "text/plain": [
       "Country or Area     object\n",
       "Year                 int64\n",
       "Value              float64\n",
       "Value Footnotes     object\n",
       "dtype: object"
      ]
     },
     "execution_count": 74,
     "metadata": {},
     "output_type": "execute_result"
    }
   ],
   "source": [
    "internet_df.dtypes"
   ]
  },
  {
   "cell_type": "markdown",
   "id": "5b986da0-bbdb-4f54-a6ed-75eaf6c819e9",
   "metadata": {},
   "source": [
    "## Question 15: Drop the Value Footnotes column and rename the remaining three to 'Country', 'Year', and 'Internet_Users_Pct'."
   ]
  },
  {
   "cell_type": "code",
   "execution_count": 76,
   "id": "b5b98ad1-5200-49b3-b3e8-3287f08924f5",
   "metadata": {},
   "outputs": [
    {
     "data": {
      "text/html": [
       "<div>\n",
       "<style scoped>\n",
       "    .dataframe tbody tr th:only-of-type {\n",
       "        vertical-align: middle;\n",
       "    }\n",
       "\n",
       "    .dataframe tbody tr th {\n",
       "        vertical-align: top;\n",
       "    }\n",
       "\n",
       "    .dataframe thead th {\n",
       "        text-align: right;\n",
       "    }\n",
       "</style>\n",
       "<table border=\"1\" class=\"dataframe\">\n",
       "  <thead>\n",
       "    <tr style=\"text-align: right;\">\n",
       "      <th></th>\n",
       "      <th>Country or Area</th>\n",
       "      <th>Year</th>\n",
       "      <th>Value</th>\n",
       "    </tr>\n",
       "  </thead>\n",
       "  <tbody>\n",
       "    <tr>\n",
       "      <th>0</th>\n",
       "      <td>Afghanistan</td>\n",
       "      <td>2019</td>\n",
       "      <td>17.6</td>\n",
       "    </tr>\n",
       "    <tr>\n",
       "      <th>1</th>\n",
       "      <td>Afghanistan</td>\n",
       "      <td>2018</td>\n",
       "      <td>16.8</td>\n",
       "    </tr>\n",
       "  </tbody>\n",
       "</table>\n",
       "</div>"
      ],
      "text/plain": [
       "  Country or Area  Year  Value\n",
       "0     Afghanistan  2019   17.6\n",
       "1     Afghanistan  2018   16.8"
      ]
     },
     "execution_count": 76,
     "metadata": {},
     "output_type": "execute_result"
    }
   ],
   "source": [
    "internet_df = internet_df.drop(columns = ['Value Footnotes'])\n",
    "internet_df.head(2)"
   ]
  },
  {
   "cell_type": "code",
   "execution_count": 77,
   "id": "e50faeed-5594-4f1e-9c9d-8ce9301cda55",
   "metadata": {},
   "outputs": [
    {
     "data": {
      "text/html": [
       "<div>\n",
       "<style scoped>\n",
       "    .dataframe tbody tr th:only-of-type {\n",
       "        vertical-align: middle;\n",
       "    }\n",
       "\n",
       "    .dataframe tbody tr th {\n",
       "        vertical-align: top;\n",
       "    }\n",
       "\n",
       "    .dataframe thead th {\n",
       "        text-align: right;\n",
       "    }\n",
       "</style>\n",
       "<table border=\"1\" class=\"dataframe\">\n",
       "  <thead>\n",
       "    <tr style=\"text-align: right;\">\n",
       "      <th></th>\n",
       "      <th>country</th>\n",
       "      <th>year</th>\n",
       "      <th>internet_users_pct</th>\n",
       "    </tr>\n",
       "  </thead>\n",
       "  <tbody>\n",
       "    <tr>\n",
       "      <th>0</th>\n",
       "      <td>Afghanistan</td>\n",
       "      <td>2019</td>\n",
       "      <td>17.6</td>\n",
       "    </tr>\n",
       "    <tr>\n",
       "      <th>1</th>\n",
       "      <td>Afghanistan</td>\n",
       "      <td>2018</td>\n",
       "      <td>16.8</td>\n",
       "    </tr>\n",
       "  </tbody>\n",
       "</table>\n",
       "</div>"
      ],
      "text/plain": [
       "       country  year  internet_users_pct\n",
       "0  Afghanistan  2019                17.6\n",
       "1  Afghanistan  2018                16.8"
      ]
     },
     "execution_count": 77,
     "metadata": {},
     "output_type": "execute_result"
    }
   ],
   "source": [
    "internet_df = internet_df.rename(columns = {'Country or Area':'country','Year':'year','Value':'internet_users_pct'})\n",
    "internet_df.head(2)"
   ]
  },
  {
   "cell_type": "markdown",
   "id": "5fa1c6d0-9e7f-4a95-b98d-072b8c19f9c0",
   "metadata": {},
   "source": [
    "## Question 16: Look at the number of observations in this dataset per year. What do you notice?"
   ]
  },
  {
   "cell_type": "code",
   "execution_count": 79,
   "id": "23519b2a-5a67-4bca-9de8-ef43252bda3f",
   "metadata": {},
   "outputs": [
    {
     "data": {
      "text/plain": [
       "year\n",
       "1990    226\n",
       "2007    217\n",
       "2011    214\n",
       "2008    214\n",
       "2009    214\n",
       "2002    214\n",
       "2006    212\n",
       "2001    212\n",
       "2005    212\n",
       "2004    210\n",
       "2000    210\n",
       "2010    209\n",
       "2012    209\n",
       "2003    208\n",
       "1999    207\n",
       "2016    206\n",
       "2017    205\n",
       "2014    204\n",
       "2015    203\n",
       "2013    203\n",
       "1998    195\n",
       "1997    188\n",
       "2021    186\n",
       "2020    186\n",
       "2019    185\n",
       "2022    184\n",
       "1996    177\n",
       "2018    174\n",
       "1995    141\n",
       "1994     92\n",
       "1993     66\n",
       "1992     50\n",
       "1991     39\n",
       "2023     11\n",
       "Name: count, dtype: int64"
      ]
     },
     "execution_count": 79,
     "metadata": {},
     "output_type": "execute_result"
    }
   ],
   "source": [
    "internet_df.year.value_counts()"
   ]
  },
  {
   "cell_type": "markdown",
   "id": "7024c717-50da-4ff1-ae7b-1a06dd07e025",
   "metadata": {},
   "source": [
    "It seems like countries stopped reporting on this as 1990 has more the most and older years had more countries listed than newer years."
   ]
  },
  {
   "cell_type": "markdown",
   "id": "bda2ae96-8d49-48a2-a226-df1b32e52104",
   "metadata": {},
   "source": [
    "## Question 17: What is the first year to have a non-zero internet users percentage value?"
   ]
  },
  {
   "cell_type": "code",
   "execution_count": 82,
   "id": "3ccc22a1-f2ec-4904-98a1-0506cf580e13",
   "metadata": {},
   "outputs": [
    {
     "data": {
      "text/html": [
       "<div>\n",
       "<style scoped>\n",
       "    .dataframe tbody tr th:only-of-type {\n",
       "        vertical-align: middle;\n",
       "    }\n",
       "\n",
       "    .dataframe tbody tr th {\n",
       "        vertical-align: top;\n",
       "    }\n",
       "\n",
       "    .dataframe thead th {\n",
       "        text-align: right;\n",
       "    }\n",
       "</style>\n",
       "<table border=\"1\" class=\"dataframe\">\n",
       "  <thead>\n",
       "    <tr style=\"text-align: right;\">\n",
       "      <th></th>\n",
       "      <th>country</th>\n",
       "      <th>year</th>\n",
       "      <th>internet_users_pct</th>\n",
       "    </tr>\n",
       "  </thead>\n",
       "  <tbody>\n",
       "    <tr>\n",
       "      <th>1570</th>\n",
       "      <td>Denmark</td>\n",
       "      <td>1990</td>\n",
       "      <td>0.097277</td>\n",
       "    </tr>\n",
       "    <tr>\n",
       "      <th>2892</th>\n",
       "      <td>Japan</td>\n",
       "      <td>1990</td>\n",
       "      <td>0.020294</td>\n",
       "    </tr>\n",
       "  </tbody>\n",
       "</table>\n",
       "</div>"
      ],
      "text/plain": [
       "      country  year  internet_users_pct\n",
       "1570  Denmark  1990            0.097277\n",
       "2892    Japan  1990            0.020294"
      ]
     },
     "execution_count": 82,
     "metadata": {},
     "output_type": "execute_result"
    }
   ],
   "source": [
    "internet_df.loc[internet_df['internet_users_pct'] > 0].sort_values(by = 'year', ascending = True).head(2)"
   ]
  },
  {
   "cell_type": "markdown",
   "id": "0fb59a07-adfe-470c-a661-6a42399bd422",
   "metadata": {},
   "source": [
    "1990 is the first year with a \"non-zero internet usage\""
   ]
  },
  {
   "cell_type": "markdown",
   "id": "700d0991-27cf-4e0f-b17a-ce590c5b7cac",
   "metadata": {},
   "source": [
    "## Question 18: How does the distribution of internet users percent differ for 2000 and 2014?"
   ]
  },
  {
   "cell_type": "code",
   "execution_count": 85,
   "id": "24d6fc44-42e0-4c61-843b-1f2cc8922429",
   "metadata": {},
   "outputs": [
    {
     "data": {
      "text/html": [
       "<div>\n",
       "<style scoped>\n",
       "    .dataframe tbody tr th:only-of-type {\n",
       "        vertical-align: middle;\n",
       "    }\n",
       "\n",
       "    .dataframe tbody tr th {\n",
       "        vertical-align: top;\n",
       "    }\n",
       "\n",
       "    .dataframe thead th {\n",
       "        text-align: right;\n",
       "    }\n",
       "</style>\n",
       "<table border=\"1\" class=\"dataframe\">\n",
       "  <thead>\n",
       "    <tr style=\"text-align: right;\">\n",
       "      <th></th>\n",
       "      <th>country</th>\n",
       "      <th>year</th>\n",
       "      <th>internet_users_pct</th>\n",
       "    </tr>\n",
       "  </thead>\n",
       "  <tbody>\n",
       "    <tr>\n",
       "      <th>5</th>\n",
       "      <td>Afghanistan</td>\n",
       "      <td>2014</td>\n",
       "      <td>7.000000</td>\n",
       "    </tr>\n",
       "    <tr>\n",
       "      <th>28</th>\n",
       "      <td>Albania</td>\n",
       "      <td>2014</td>\n",
       "      <td>54.300000</td>\n",
       "    </tr>\n",
       "    <tr>\n",
       "      <th>42</th>\n",
       "      <td>Albania</td>\n",
       "      <td>2000</td>\n",
       "      <td>0.114097</td>\n",
       "    </tr>\n",
       "    <tr>\n",
       "      <th>57</th>\n",
       "      <td>Algeria</td>\n",
       "      <td>2014</td>\n",
       "      <td>29.500000</td>\n",
       "    </tr>\n",
       "    <tr>\n",
       "      <th>71</th>\n",
       "      <td>Algeria</td>\n",
       "      <td>2000</td>\n",
       "      <td>0.491706</td>\n",
       "    </tr>\n",
       "    <tr>\n",
       "      <th>...</th>\n",
       "      <td>...</td>\n",
       "      <td>...</td>\n",
       "      <td>...</td>\n",
       "    </tr>\n",
       "    <tr>\n",
       "      <th>6017</th>\n",
       "      <td>Yemen</td>\n",
       "      <td>2000</td>\n",
       "      <td>0.082500</td>\n",
       "    </tr>\n",
       "    <tr>\n",
       "      <th>6031</th>\n",
       "      <td>Zambia</td>\n",
       "      <td>2014</td>\n",
       "      <td>6.500000</td>\n",
       "    </tr>\n",
       "    <tr>\n",
       "      <th>6045</th>\n",
       "      <td>Zambia</td>\n",
       "      <td>2000</td>\n",
       "      <td>0.191072</td>\n",
       "    </tr>\n",
       "    <tr>\n",
       "      <th>6061</th>\n",
       "      <td>Zimbabwe</td>\n",
       "      <td>2014</td>\n",
       "      <td>16.364700</td>\n",
       "    </tr>\n",
       "    <tr>\n",
       "      <th>6075</th>\n",
       "      <td>Zimbabwe</td>\n",
       "      <td>2000</td>\n",
       "      <td>0.401434</td>\n",
       "    </tr>\n",
       "  </tbody>\n",
       "</table>\n",
       "<p>414 rows × 3 columns</p>\n",
       "</div>"
      ],
      "text/plain": [
       "          country  year  internet_users_pct\n",
       "5     Afghanistan  2014            7.000000\n",
       "28        Albania  2014           54.300000\n",
       "42        Albania  2000            0.114097\n",
       "57        Algeria  2014           29.500000\n",
       "71        Algeria  2000            0.491706\n",
       "...           ...   ...                 ...\n",
       "6017        Yemen  2000            0.082500\n",
       "6031       Zambia  2014            6.500000\n",
       "6045       Zambia  2000            0.191072\n",
       "6061     Zimbabwe  2014           16.364700\n",
       "6075     Zimbabwe  2000            0.401434\n",
       "\n",
       "[414 rows x 3 columns]"
      ]
     },
     "execution_count": 85,
     "metadata": {},
     "output_type": "execute_result"
    }
   ],
   "source": [
    "combined_internet = internet_df.loc[(internet_df.year == 2000) | (internet_df.year == 2014)]\n",
    "combined_internet"
   ]
  },
  {
   "cell_type": "code",
   "execution_count": 86,
   "id": "ea378924-bf77-478a-a322-59c51080f08e",
   "metadata": {},
   "outputs": [
    {
     "data": {
      "image/png": "[encoded data removed]",
      "text/plain": [
       "<Figure size 640x480 with 1 Axes>"
      ]
     },
     "metadata": {},
     "output_type": "display_data"
    }
   ],
   "source": [
    "sns.boxplot(x=combined_internet.year, y=combined_internet.internet_users_pct);"
   ]
  },
  {
   "cell_type": "markdown",
   "id": "dcf04386-686d-460d-9e2e-f0d3e1683e7b",
   "metadata": {},
   "source": [
    "## Question 19: For how many countries was the percentage of internet users below 5% in 2014?"
   ]
  },
  {
   "cell_type": "code",
   "execution_count": 88,
   "id": "2bccf7a0-dd69-443d-9681-415ddc212f00",
   "metadata": {},
   "outputs": [
    {
     "data": {
      "text/html": [
       "<div>\n",
       "<style scoped>\n",
       "    .dataframe tbody tr th:only-of-type {\n",
       "        vertical-align: middle;\n",
       "    }\n",
       "\n",
       "    .dataframe tbody tr th {\n",
       "        vertical-align: top;\n",
       "    }\n",
       "\n",
       "    .dataframe thead th {\n",
       "        text-align: right;\n",
       "    }\n",
       "</style>\n",
       "<table border=\"1\" class=\"dataframe\">\n",
       "  <thead>\n",
       "    <tr style=\"text-align: right;\">\n",
       "      <th></th>\n",
       "      <th>country</th>\n",
       "      <th>year</th>\n",
       "      <th>internet_users_pct</th>\n",
       "    </tr>\n",
       "  </thead>\n",
       "  <tbody>\n",
       "    <tr>\n",
       "      <th>873</th>\n",
       "      <td>Burundi</td>\n",
       "      <td>2014</td>\n",
       "      <td>1.04239</td>\n",
       "    </tr>\n",
       "    <tr>\n",
       "      <th>1033</th>\n",
       "      <td>Central African Republic</td>\n",
       "      <td>2014</td>\n",
       "      <td>2.70000</td>\n",
       "    </tr>\n",
       "    <tr>\n",
       "      <th>1061</th>\n",
       "      <td>Chad</td>\n",
       "      <td>2014</td>\n",
       "      <td>2.90000</td>\n",
       "    </tr>\n",
       "    <tr>\n",
       "      <th>1517</th>\n",
       "      <td>Democratic Republic of the Congo</td>\n",
       "      <td>2014</td>\n",
       "      <td>3.00000</td>\n",
       "    </tr>\n",
       "    <tr>\n",
       "      <th>1782</th>\n",
       "      <td>Eritrea</td>\n",
       "      <td>2014</td>\n",
       "      <td>0.99000</td>\n",
       "    </tr>\n",
       "    <tr>\n",
       "      <th>2451</th>\n",
       "      <td>Guinea-Bissau</td>\n",
       "      <td>2014</td>\n",
       "      <td>3.32000</td>\n",
       "    </tr>\n",
       "    <tr>\n",
       "      <th>3364</th>\n",
       "      <td>Madagascar</td>\n",
       "      <td>2014</td>\n",
       "      <td>3.70000</td>\n",
       "    </tr>\n",
       "    <tr>\n",
       "      <th>4073</th>\n",
       "      <td>Niger</td>\n",
       "      <td>2014</td>\n",
       "      <td>1.24868</td>\n",
       "    </tr>\n",
       "    <tr>\n",
       "      <th>5055</th>\n",
       "      <td>Somalia</td>\n",
       "      <td>2014</td>\n",
       "      <td>1.63000</td>\n",
       "    </tr>\n",
       "    <tr>\n",
       "      <th>5116</th>\n",
       "      <td>South Sudan</td>\n",
       "      <td>2014</td>\n",
       "      <td>2.60000</td>\n",
       "    </tr>\n",
       "  </tbody>\n",
       "</table>\n",
       "</div>"
      ],
      "text/plain": [
       "                               country  year  internet_users_pct\n",
       "873                            Burundi  2014             1.04239\n",
       "1033          Central African Republic  2014             2.70000\n",
       "1061                              Chad  2014             2.90000\n",
       "1517  Democratic Republic of the Congo  2014             3.00000\n",
       "1782                           Eritrea  2014             0.99000\n",
       "2451                     Guinea-Bissau  2014             3.32000\n",
       "3364                        Madagascar  2014             3.70000\n",
       "4073                             Niger  2014             1.24868\n",
       "5055                           Somalia  2014             1.63000\n",
       "5116                       South Sudan  2014             2.60000"
      ]
     },
     "execution_count": 88,
     "metadata": {},
     "output_type": "execute_result"
    }
   ],
   "source": [
    "internet2014 = internet_df.loc[(internet_df.year == 2014) & (internet_df.internet_users_pct < 5)]\n",
    "internet2014"
   ]
  },
  {
   "cell_type": "code",
   "execution_count": 89,
   "id": "c4beff30-58e4-4ad6-97f5-7dbf8fe3b8b0",
   "metadata": {},
   "outputs": [
    {
     "data": {
      "text/html": [
       "<div>\n",
       "<style scoped>\n",
       "    .dataframe tbody tr th:only-of-type {\n",
       "        vertical-align: middle;\n",
       "    }\n",
       "\n",
       "    .dataframe tbody tr th {\n",
       "        vertical-align: top;\n",
       "    }\n",
       "\n",
       "    .dataframe thead th {\n",
       "        text-align: right;\n",
       "    }\n",
       "</style>\n",
       "<table border=\"1\" class=\"dataframe\">\n",
       "  <thead>\n",
       "    <tr style=\"text-align: right;\">\n",
       "      <th></th>\n",
       "      <th>country</th>\n",
       "      <th>year</th>\n",
       "      <th>internet_users_pct</th>\n",
       "    </tr>\n",
       "  </thead>\n",
       "  <tbody>\n",
       "    <tr>\n",
       "      <th>0</th>\n",
       "      <td>Burundi</td>\n",
       "      <td>2014</td>\n",
       "      <td>1.04239</td>\n",
       "    </tr>\n",
       "    <tr>\n",
       "      <th>1</th>\n",
       "      <td>Central African Republic</td>\n",
       "      <td>2014</td>\n",
       "      <td>2.70000</td>\n",
       "    </tr>\n",
       "    <tr>\n",
       "      <th>2</th>\n",
       "      <td>Chad</td>\n",
       "      <td>2014</td>\n",
       "      <td>2.90000</td>\n",
       "    </tr>\n",
       "    <tr>\n",
       "      <th>3</th>\n",
       "      <td>Democratic Republic of the Congo</td>\n",
       "      <td>2014</td>\n",
       "      <td>3.00000</td>\n",
       "    </tr>\n",
       "    <tr>\n",
       "      <th>4</th>\n",
       "      <td>Eritrea</td>\n",
       "      <td>2014</td>\n",
       "      <td>0.99000</td>\n",
       "    </tr>\n",
       "    <tr>\n",
       "      <th>5</th>\n",
       "      <td>Guinea-Bissau</td>\n",
       "      <td>2014</td>\n",
       "      <td>3.32000</td>\n",
       "    </tr>\n",
       "    <tr>\n",
       "      <th>6</th>\n",
       "      <td>Madagascar</td>\n",
       "      <td>2014</td>\n",
       "      <td>3.70000</td>\n",
       "    </tr>\n",
       "    <tr>\n",
       "      <th>7</th>\n",
       "      <td>Niger</td>\n",
       "      <td>2014</td>\n",
       "      <td>1.24868</td>\n",
       "    </tr>\n",
       "    <tr>\n",
       "      <th>8</th>\n",
       "      <td>Somalia</td>\n",
       "      <td>2014</td>\n",
       "      <td>1.63000</td>\n",
       "    </tr>\n",
       "    <tr>\n",
       "      <th>9</th>\n",
       "      <td>South Sudan</td>\n",
       "      <td>2014</td>\n",
       "      <td>2.60000</td>\n",
       "    </tr>\n",
       "  </tbody>\n",
       "</table>\n",
       "</div>"
      ],
      "text/plain": [
       "                            country  year  internet_users_pct\n",
       "0                           Burundi  2014             1.04239\n",
       "1          Central African Republic  2014             2.70000\n",
       "2                              Chad  2014             2.90000\n",
       "3  Democratic Republic of the Congo  2014             3.00000\n",
       "4                           Eritrea  2014             0.99000\n",
       "5                     Guinea-Bissau  2014             3.32000\n",
       "6                        Madagascar  2014             3.70000\n",
       "7                             Niger  2014             1.24868\n",
       "8                           Somalia  2014             1.63000\n",
       "9                       South Sudan  2014             2.60000"
      ]
     },
     "execution_count": 89,
     "metadata": {},
     "output_type": "execute_result"
    }
   ],
   "source": [
    "internet2014.reset_index(drop=True)"
   ]
  },
  {
   "cell_type": "markdown",
   "id": "c97eee90-066e-4651-81ae-8a147a8f7f2f",
   "metadata": {},
   "source": [
    "10 Countries were less than 5% for internet usage in 2014."
   ]
  },
  {
   "cell_type": "markdown",
   "id": "5713f638-c800-4a0c-961f-f2bccc7a651e",
   "metadata": {},
   "source": [
    "## Question 20: Merge the two DataFrames to one. Do this in a way that keeps all rows from each of the two DataFrames. Call the new DataFrame gdp_and_internet_use. Look at the first and last few rows to confirm that it merged correctly."
   ]
  },
  {
   "cell_type": "code",
   "execution_count": 92,
   "id": "f76c6e87-9f00-426a-bc3e-1cb191a938a6",
   "metadata": {},
   "outputs": [
    {
     "data": {
      "text/html": [
       "<div>\n",
       "<style scoped>\n",
       "    .dataframe tbody tr th:only-of-type {\n",
       "        vertical-align: middle;\n",
       "    }\n",
       "\n",
       "    .dataframe tbody tr th {\n",
       "        vertical-align: top;\n",
       "    }\n",
       "\n",
       "    .dataframe thead th {\n",
       "        text-align: right;\n",
       "    }\n",
       "</style>\n",
       "<table border=\"1\" class=\"dataframe\">\n",
       "  <thead>\n",
       "    <tr style=\"text-align: right;\">\n",
       "      <th></th>\n",
       "      <th>country</th>\n",
       "      <th>year</th>\n",
       "      <th>gdp_per_capita</th>\n",
       "    </tr>\n",
       "  </thead>\n",
       "  <tbody>\n",
       "    <tr>\n",
       "      <th>0</th>\n",
       "      <td>Afghanistan</td>\n",
       "      <td>2023</td>\n",
       "      <td>1992.424394</td>\n",
       "    </tr>\n",
       "    <tr>\n",
       "      <th>1</th>\n",
       "      <td>Afghanistan</td>\n",
       "      <td>2022</td>\n",
       "      <td>1981.710168</td>\n",
       "    </tr>\n",
       "  </tbody>\n",
       "</table>\n",
       "</div>"
      ],
      "text/plain": [
       "       country  year  gdp_per_capita\n",
       "0  Afghanistan  2023     1992.424394\n",
       "1  Afghanistan  2022     1981.710168"
      ]
     },
     "execution_count": 92,
     "metadata": {},
     "output_type": "execute_result"
    }
   ],
   "source": [
    "gdp_df.head(2)"
   ]
  },
  {
   "cell_type": "code",
   "execution_count": 93,
   "id": "b8312b10-829f-4e47-923e-4b278f4131df",
   "metadata": {},
   "outputs": [
    {
     "data": {
      "text/html": [
       "<div>\n",
       "<style scoped>\n",
       "    .dataframe tbody tr th:only-of-type {\n",
       "        vertical-align: middle;\n",
       "    }\n",
       "\n",
       "    .dataframe tbody tr th {\n",
       "        vertical-align: top;\n",
       "    }\n",
       "\n",
       "    .dataframe thead th {\n",
       "        text-align: right;\n",
       "    }\n",
       "</style>\n",
       "<table border=\"1\" class=\"dataframe\">\n",
       "  <thead>\n",
       "    <tr style=\"text-align: right;\">\n",
       "      <th></th>\n",
       "      <th>country</th>\n",
       "      <th>year</th>\n",
       "      <th>internet_users_pct</th>\n",
       "    </tr>\n",
       "  </thead>\n",
       "  <tbody>\n",
       "    <tr>\n",
       "      <th>0</th>\n",
       "      <td>Afghanistan</td>\n",
       "      <td>2019</td>\n",
       "      <td>17.6</td>\n",
       "    </tr>\n",
       "    <tr>\n",
       "      <th>1</th>\n",
       "      <td>Afghanistan</td>\n",
       "      <td>2018</td>\n",
       "      <td>16.8</td>\n",
       "    </tr>\n",
       "  </tbody>\n",
       "</table>\n",
       "</div>"
      ],
      "text/plain": [
       "       country  year  internet_users_pct\n",
       "0  Afghanistan  2019                17.6\n",
       "1  Afghanistan  2018                16.8"
      ]
     },
     "execution_count": 93,
     "metadata": {},
     "output_type": "execute_result"
    }
   ],
   "source": [
    "internet_df.head(2)"
   ]
  },
  {
   "cell_type": "code",
   "execution_count": 94,
   "id": "a6f57864-280a-4ee7-933b-c0fa0dcefbd2",
   "metadata": {},
   "outputs": [
    {
     "data": {
      "text/html": [
       "<div>\n",
       "<style scoped>\n",
       "    .dataframe tbody tr th:only-of-type {\n",
       "        vertical-align: middle;\n",
       "    }\n",
       "\n",
       "    .dataframe tbody tr th {\n",
       "        vertical-align: top;\n",
       "    }\n",
       "\n",
       "    .dataframe thead th {\n",
       "        text-align: right;\n",
       "    }\n",
       "</style>\n",
       "<table border=\"1\" class=\"dataframe\">\n",
       "  <thead>\n",
       "    <tr style=\"text-align: right;\">\n",
       "      <th></th>\n",
       "      <th>country</th>\n",
       "      <th>year</th>\n",
       "      <th>gdp_per_capita</th>\n",
       "      <th>internet_users_pct</th>\n",
       "    </tr>\n",
       "  </thead>\n",
       "  <tbody>\n",
       "    <tr>\n",
       "      <th>0</th>\n",
       "      <td>Afghanistan</td>\n",
       "      <td>1990</td>\n",
       "      <td>NaN</td>\n",
       "      <td>0.0</td>\n",
       "    </tr>\n",
       "    <tr>\n",
       "      <th>1</th>\n",
       "      <td>Afghanistan</td>\n",
       "      <td>2000</td>\n",
       "      <td>1617.826475</td>\n",
       "      <td>NaN</td>\n",
       "    </tr>\n",
       "  </tbody>\n",
       "</table>\n",
       "</div>"
      ],
      "text/plain": [
       "       country  year  gdp_per_capita  internet_users_pct\n",
       "0  Afghanistan  1990             NaN                 0.0\n",
       "1  Afghanistan  2000     1617.826475                 NaN"
      ]
     },
     "execution_count": 94,
     "metadata": {},
     "output_type": "execute_result"
    }
   ],
   "source": [
    "gdp_and_internet_use = pd.merge(gdp_df, internet_df,\n",
    "                                on = ['country', 'year'],\n",
    "                                how = 'outer')\n",
    "gdp_and_internet_use.head(2)"
   ]
  },
  {
   "cell_type": "markdown",
   "id": "0eeacca0-9853-4f03-b203-a8a48a4b54d7",
   "metadata": {},
   "source": [
    "## Question 21: Find the three countries with the highest internet users percentage in 2014. Use a seaborn FacetGrid (https://seaborn.pydata.org/generated/seaborn.FacetGrid.html) to compare how the GDP per capita has changed over time for these three countries. What do you notice?"
   ]
  },
  {
   "cell_type": "code",
   "execution_count": 96,
   "id": "d9b42e55-0982-4b55-825e-d0c73cdc2815",
   "metadata": {},
   "outputs": [
    {
     "data": {
      "text/html": [
       "<div>\n",
       "<style scoped>\n",
       "    .dataframe tbody tr th:only-of-type {\n",
       "        vertical-align: middle;\n",
       "    }\n",
       "\n",
       "    .dataframe tbody tr th {\n",
       "        vertical-align: top;\n",
       "    }\n",
       "\n",
       "    .dataframe thead th {\n",
       "        text-align: right;\n",
       "    }\n",
       "</style>\n",
       "<table border=\"1\" class=\"dataframe\">\n",
       "  <thead>\n",
       "    <tr style=\"text-align: right;\">\n",
       "      <th></th>\n",
       "      <th>country</th>\n",
       "      <th>year</th>\n",
       "      <th>gdp_per_capita</th>\n",
       "      <th>internet_users_pct</th>\n",
       "    </tr>\n",
       "  </thead>\n",
       "  <tbody>\n",
       "    <tr>\n",
       "      <th>3944</th>\n",
       "      <td>Iceland</td>\n",
       "      <td>2014</td>\n",
       "      <td>57981.199448</td>\n",
       "      <td>98.158</td>\n",
       "    </tr>\n",
       "    <tr>\n",
       "      <th>2867</th>\n",
       "      <td>Falkland (Malvinas) Islands</td>\n",
       "      <td>2014</td>\n",
       "      <td>NaN</td>\n",
       "      <td>97.600</td>\n",
       "    </tr>\n",
       "    <tr>\n",
       "      <th>824</th>\n",
       "      <td>Bermuda</td>\n",
       "      <td>2014</td>\n",
       "      <td>92298.387811</td>\n",
       "      <td>96.800</td>\n",
       "    </tr>\n",
       "  </tbody>\n",
       "</table>\n",
       "</div>"
      ],
      "text/plain": [
       "                          country  year  gdp_per_capita  internet_users_pct\n",
       "3944                      Iceland  2014    57981.199448              98.158\n",
       "2867  Falkland (Malvinas) Islands  2014             NaN              97.600\n",
       "824                       Bermuda  2014    92298.387811              96.800"
      ]
     },
     "execution_count": 96,
     "metadata": {},
     "output_type": "execute_result"
    }
   ],
   "source": [
    "gdp_and_internet_use.loc[gdp_and_internet_use['year'] == 2014].sort_values(by = 'internet_users_pct', ascending = False).head(3)"
   ]
  },
  {
   "cell_type": "code",
   "execution_count": 97,
   "id": "6e1af720-9332-40b9-90c6-d2632569745b",
   "metadata": {},
   "outputs": [
    {
     "data": {
      "text/html": [
       "<div>\n",
       "<style scoped>\n",
       "    .dataframe tbody tr th:only-of-type {\n",
       "        vertical-align: middle;\n",
       "    }\n",
       "\n",
       "    .dataframe tbody tr th {\n",
       "        vertical-align: top;\n",
       "    }\n",
       "\n",
       "    .dataframe thead th {\n",
       "        text-align: right;\n",
       "    }\n",
       "</style>\n",
       "<table border=\"1\" class=\"dataframe\">\n",
       "  <thead>\n",
       "    <tr style=\"text-align: right;\">\n",
       "      <th></th>\n",
       "      <th>country</th>\n",
       "      <th>year</th>\n",
       "      <th>gdp_per_capita</th>\n",
       "      <th>internet_users_pct</th>\n",
       "    </tr>\n",
       "  </thead>\n",
       "  <tbody>\n",
       "    <tr>\n",
       "      <th>800</th>\n",
       "      <td>Bermuda</td>\n",
       "      <td>1990</td>\n",
       "      <td>79109.890650</td>\n",
       "      <td>0.0000</td>\n",
       "    </tr>\n",
       "    <tr>\n",
       "      <th>801</th>\n",
       "      <td>Bermuda</td>\n",
       "      <td>1991</td>\n",
       "      <td>75754.494259</td>\n",
       "      <td>NaN</td>\n",
       "    </tr>\n",
       "    <tr>\n",
       "      <th>802</th>\n",
       "      <td>Bermuda</td>\n",
       "      <td>1992</td>\n",
       "      <td>75160.932166</td>\n",
       "      <td>NaN</td>\n",
       "    </tr>\n",
       "    <tr>\n",
       "      <th>803</th>\n",
       "      <td>Bermuda</td>\n",
       "      <td>1993</td>\n",
       "      <td>76883.813796</td>\n",
       "      <td>NaN</td>\n",
       "    </tr>\n",
       "    <tr>\n",
       "      <th>804</th>\n",
       "      <td>Bermuda</td>\n",
       "      <td>1994</td>\n",
       "      <td>76850.912239</td>\n",
       "      <td>NaN</td>\n",
       "    </tr>\n",
       "    <tr>\n",
       "      <th>...</th>\n",
       "      <td>...</td>\n",
       "      <td>...</td>\n",
       "      <td>...</td>\n",
       "      <td>...</td>\n",
       "    </tr>\n",
       "    <tr>\n",
       "      <th>3949</th>\n",
       "      <td>Iceland</td>\n",
       "      <td>2019</td>\n",
       "      <td>65065.905682</td>\n",
       "      <td>99.5049</td>\n",
       "    </tr>\n",
       "    <tr>\n",
       "      <th>3950</th>\n",
       "      <td>Iceland</td>\n",
       "      <td>2020</td>\n",
       "      <td>59575.190393</td>\n",
       "      <td>99.5328</td>\n",
       "    </tr>\n",
       "    <tr>\n",
       "      <th>3951</th>\n",
       "      <td>Iceland</td>\n",
       "      <td>2021</td>\n",
       "      <td>61685.835611</td>\n",
       "      <td>99.6870</td>\n",
       "    </tr>\n",
       "    <tr>\n",
       "      <th>3952</th>\n",
       "      <td>Iceland</td>\n",
       "      <td>2022</td>\n",
       "      <td>65563.920870</td>\n",
       "      <td>99.8565</td>\n",
       "    </tr>\n",
       "    <tr>\n",
       "      <th>3953</th>\n",
       "      <td>Iceland</td>\n",
       "      <td>2023</td>\n",
       "      <td>66880.065810</td>\n",
       "      <td>NaN</td>\n",
       "    </tr>\n",
       "  </tbody>\n",
       "</table>\n",
       "<p>91 rows × 4 columns</p>\n",
       "</div>"
      ],
      "text/plain": [
       "      country  year  gdp_per_capita  internet_users_pct\n",
       "800   Bermuda  1990    79109.890650              0.0000\n",
       "801   Bermuda  1991    75754.494259                 NaN\n",
       "802   Bermuda  1992    75160.932166                 NaN\n",
       "803   Bermuda  1993    76883.813796                 NaN\n",
       "804   Bermuda  1994    76850.912239                 NaN\n",
       "...       ...   ...             ...                 ...\n",
       "3949  Iceland  2019    65065.905682             99.5049\n",
       "3950  Iceland  2020    59575.190393             99.5328\n",
       "3951  Iceland  2021    61685.835611             99.6870\n",
       "3952  Iceland  2022    65563.920870             99.8565\n",
       "3953  Iceland  2023    66880.065810                 NaN\n",
       "\n",
       "[91 rows x 4 columns]"
      ]
     },
     "execution_count": 97,
     "metadata": {},
     "output_type": "execute_result"
    }
   ],
   "source": [
    "top3 = gdp_and_internet_use.loc[gdp_and_internet_use['country'].isin(['Iceland','Falkland (Malvinas) Islands','Bermuda'])]\n",
    "top3"
   ]
  },
  {
   "cell_type": "code",
   "execution_count": 98,
   "id": "c4b19fac-fe0b-4fc6-b7a9-9ca6a224af4e",
   "metadata": {},
   "outputs": [
    {
     "data": {
      "image/png": "[encoded data removed]",
      "text/plain": [
       "<Figure size 900x300 with 3 Axes>"
      ]
     },
     "metadata": {},
     "output_type": "display_data"
    }
   ],
   "source": [
    "g = sns.FacetGrid(top3, col=\"country\", hue=\"country\")\n",
    "g.map_dataframe(sns.scatterplot, x=\"year\", y=\"gdp_per_capita\");"
   ]
  },
  {
   "cell_type": "markdown",
   "id": "d4256a4b-6380-4e5e-9972-19d31b58cfd4",
   "metadata": {},
   "source": [
    "I notice that Iceland's GDP increased, Bermuda's went up and then back down and the Islands didn't have GDP data"
   ]
  },
  {
   "cell_type": "markdown",
   "id": "af81021b-80b2-4dc5-96d3-08647d5edf96",
   "metadata": {},
   "source": [
    "## Question 22: Subset gdp_and_internet_use to just the year 2014. Save this as a new dataframe named gdp_and_internet_use_2014."
   ]
  },
  {
   "cell_type": "code",
   "execution_count": 101,
   "id": "eb34bc37-4a30-478b-adea-fb1e608255af",
   "metadata": {},
   "outputs": [
    {
     "data": {
      "text/html": [
       "<div>\n",
       "<style scoped>\n",
       "    .dataframe tbody tr th:only-of-type {\n",
       "        vertical-align: middle;\n",
       "    }\n",
       "\n",
       "    .dataframe tbody tr th {\n",
       "        vertical-align: top;\n",
       "    }\n",
       "\n",
       "    .dataframe thead th {\n",
       "        text-align: right;\n",
       "    }\n",
       "</style>\n",
       "<table border=\"1\" class=\"dataframe\">\n",
       "  <thead>\n",
       "    <tr style=\"text-align: right;\">\n",
       "      <th></th>\n",
       "      <th>country</th>\n",
       "      <th>year</th>\n",
       "      <th>gdp_per_capita</th>\n",
       "      <th>internet_users_pct</th>\n",
       "    </tr>\n",
       "  </thead>\n",
       "  <tbody>\n",
       "    <tr>\n",
       "      <th>15</th>\n",
       "      <td>Afghanistan</td>\n",
       "      <td>2014</td>\n",
       "      <td>3017.942544</td>\n",
       "      <td>7.0</td>\n",
       "    </tr>\n",
       "    <tr>\n",
       "      <th>49</th>\n",
       "      <td>Africa Eastern and Southern</td>\n",
       "      <td>2014</td>\n",
       "      <td>4052.851526</td>\n",
       "      <td>NaN</td>\n",
       "    </tr>\n",
       "  </tbody>\n",
       "</table>\n",
       "</div>"
      ],
      "text/plain": [
       "                        country  year  gdp_per_capita  internet_users_pct\n",
       "15                  Afghanistan  2014     3017.942544                 7.0\n",
       "49  Africa Eastern and Southern  2014     4052.851526                 NaN"
      ]
     },
     "execution_count": 101,
     "metadata": {},
     "output_type": "execute_result"
    }
   ],
   "source": [
    "gdp_and_internet_use_2014 = gdp_and_internet_use.loc[gdp_and_internet_use.year == 2014]\n",
    "gdp_and_internet_use_2014.head(2)"
   ]
  },
  {
   "cell_type": "markdown",
   "id": "8514a31a-5029-413f-8398-4653e0b427d2",
   "metadata": {},
   "source": [
    "## Question 23: Create a plot which compares Internet Users Percentage and GDP per Capita for the year 2014. What do you notice from this plot? If you see any unusual points, investigate them."
   ]
  },
  {
   "cell_type": "code",
   "execution_count": 103,
   "id": "f21668ed-f1ea-42db-9cfe-a852b29e07b1",
   "metadata": {},
   "outputs": [
    {
     "data": {
      "text/plain": [
       "<Axes: xlabel='gdp_per_capita', ylabel='internet_users_pct'>"
      ]
     },
     "execution_count": 103,
     "metadata": {},
     "output_type": "execute_result"
    },
    {
     "data": {
      "image/png": "[encoded data removed]",
      "text/plain": [
       "<Figure size 640x480 with 1 Axes>"
      ]
     },
     "metadata": {},
     "output_type": "display_data"
    }
   ],
   "source": [
    "sns.scatterplot(data=gdp_and_internet_use_2014, x=\"gdp_per_capita\", y=\"internet_users_pct\")"
   ]
  },
  {
   "cell_type": "code",
   "execution_count": 104,
   "id": "fedb1036-3c30-41a7-bd6b-8e2314ade778",
   "metadata": {},
   "outputs": [
    {
     "data": {
      "text/html": [
       "<div>\n",
       "<style scoped>\n",
       "    .dataframe tbody tr th:only-of-type {\n",
       "        vertical-align: middle;\n",
       "    }\n",
       "\n",
       "    .dataframe tbody tr th {\n",
       "        vertical-align: top;\n",
       "    }\n",
       "\n",
       "    .dataframe thead th {\n",
       "        text-align: right;\n",
       "    }\n",
       "</style>\n",
       "<table border=\"1\" class=\"dataframe\">\n",
       "  <thead>\n",
       "    <tr style=\"text-align: right;\">\n",
       "      <th></th>\n",
       "      <th>country</th>\n",
       "      <th>year</th>\n",
       "      <th>gdp_per_capita</th>\n",
       "      <th>internet_users_pct</th>\n",
       "    </tr>\n",
       "  </thead>\n",
       "  <tbody>\n",
       "    <tr>\n",
       "      <th>7566</th>\n",
       "      <td>Singapore</td>\n",
       "      <td>2014</td>\n",
       "      <td>106604.492771</td>\n",
       "      <td>79.0292</td>\n",
       "    </tr>\n",
       "  </tbody>\n",
       "</table>\n",
       "</div>"
      ],
      "text/plain": [
       "        country  year  gdp_per_capita  internet_users_pct\n",
       "7566  Singapore  2014   106604.492771             79.0292"
      ]
     },
     "execution_count": 104,
     "metadata": {},
     "output_type": "execute_result"
    }
   ],
   "source": [
    "gdp_and_internet_use_2014.loc[(gdp_and_internet_use_2014.gdp_per_capita > 100000) & (gdp_and_internet_use_2014.internet_users_pct < 82)]"
   ]
  },
  {
   "cell_type": "code",
   "execution_count": 105,
   "id": "3340c44b-fbea-4179-b417-8918b2298565",
   "metadata": {},
   "outputs": [
    {
     "data": {
      "text/html": [
       "<div>\n",
       "<style scoped>\n",
       "    .dataframe tbody tr th:only-of-type {\n",
       "        vertical-align: middle;\n",
       "    }\n",
       "\n",
       "    .dataframe tbody tr th {\n",
       "        vertical-align: top;\n",
       "    }\n",
       "\n",
       "    .dataframe thead th {\n",
       "        text-align: right;\n",
       "    }\n",
       "</style>\n",
       "<table border=\"1\" class=\"dataframe\">\n",
       "  <thead>\n",
       "    <tr style=\"text-align: right;\">\n",
       "      <th></th>\n",
       "      <th>country</th>\n",
       "      <th>year</th>\n",
       "      <th>gdp_per_capita</th>\n",
       "      <th>internet_users_pct</th>\n",
       "    </tr>\n",
       "  </thead>\n",
       "  <tbody>\n",
       "    <tr>\n",
       "      <th>2538</th>\n",
       "      <td>Equatorial Guinea</td>\n",
       "      <td>2014</td>\n",
       "      <td>31765.899706</td>\n",
       "      <td>18.86</td>\n",
       "    </tr>\n",
       "  </tbody>\n",
       "</table>\n",
       "</div>"
      ],
      "text/plain": [
       "                country  year  gdp_per_capita  internet_users_pct\n",
       "2538  Equatorial Guinea  2014    31765.899706               18.86"
      ]
     },
     "execution_count": 105,
     "metadata": {},
     "output_type": "execute_result"
    }
   ],
   "source": [
    "gdp_and_internet_use_2014.loc[(gdp_and_internet_use_2014.gdp_per_capita > 30000) & (gdp_and_internet_use_2014.internet_users_pct < 25)]"
   ]
  },
  {
   "cell_type": "markdown",
   "id": "67b3ef60-84c1-4930-bc8a-884db4f5995b",
   "metadata": {},
   "source": [
    "## Question 24: Stretch Question: Use the qcut function from pandas (https://pandas.pydata.org/docs/reference/api/pandas.qcut.html) to divide countries in gdp_per_capita_2014 into three groups based on their GDP per capita values. Label these groups as \"Low\", \"Medium\", and \"High\". Put these labels in a new column, named \"GDP_group\"."
   ]
  },
  {
   "cell_type": "code",
   "execution_count": 107,
   "id": "c6027790-73c1-4026-8e87-3f78eff0deaf",
   "metadata": {},
   "outputs": [
    {
     "data": {
      "text/plain": [
       "count       247.000000\n",
       "mean      23007.966333\n",
       "std       24300.620767\n",
       "min         977.765840\n",
       "25%        5407.690144\n",
       "50%       14247.101002\n",
       "75%       31475.566725\n",
       "max      162582.374111\n",
       "Name: gdp_per_capita, dtype: float64"
      ]
     },
     "execution_count": 107,
     "metadata": {},
     "output_type": "execute_result"
    }
   ],
   "source": [
    "gdp_and_internet_use_2014.gdp_per_capita.describe()"
   ]
  },
  {
   "cell_type": "code",
   "execution_count": 108,
   "id": "d74dfcbd-6f0f-4d18-b363-7b17dcb211cd",
   "metadata": {},
   "outputs": [
    {
     "name": "stderr",
     "output_type": "stream",
     "text": [
      "C:\\Users\\FLRea\\AppData\\Local\\Temp\\ipykernel_12220\\891673675.py:1: SettingWithCopyWarning: \n",
      "A value is trying to be set on a copy of a slice from a DataFrame.\n",
      "Try using .loc[row_indexer,col_indexer] = value instead\n",
      "\n",
      "See the caveats in the documentation: https://pandas.pydata.org/pandas-docs/stable/user_guide/indexing.html#returning-a-view-versus-a-copy\n",
      "  gdp_and_internet_use_2014['gdp_group'] = pd.qcut(gdp_and_internet_use_2014.gdp_per_capita, q=3, labels=['Low', 'Medium', 'High'])\n"
     ]
    },
    {
     "data": {
      "text/html": [
       "<div>\n",
       "<style scoped>\n",
       "    .dataframe tbody tr th:only-of-type {\n",
       "        vertical-align: middle;\n",
       "    }\n",
       "\n",
       "    .dataframe tbody tr th {\n",
       "        vertical-align: top;\n",
       "    }\n",
       "\n",
       "    .dataframe thead th {\n",
       "        text-align: right;\n",
       "    }\n",
       "</style>\n",
       "<table border=\"1\" class=\"dataframe\">\n",
       "  <thead>\n",
       "    <tr style=\"text-align: right;\">\n",
       "      <th></th>\n",
       "      <th>country</th>\n",
       "      <th>year</th>\n",
       "      <th>gdp_per_capita</th>\n",
       "      <th>internet_users_pct</th>\n",
       "      <th>gdp_group</th>\n",
       "    </tr>\n",
       "  </thead>\n",
       "  <tbody>\n",
       "    <tr>\n",
       "      <th>4838</th>\n",
       "      <td>Latvia</td>\n",
       "      <td>2014</td>\n",
       "      <td>29217.459341</td>\n",
       "      <td>75.8261</td>\n",
       "      <td>High</td>\n",
       "    </tr>\n",
       "    <tr>\n",
       "      <th>2538</th>\n",
       "      <td>Equatorial Guinea</td>\n",
       "      <td>2014</td>\n",
       "      <td>31765.899706</td>\n",
       "      <td>18.8600</td>\n",
       "      <td>High</td>\n",
       "    </tr>\n",
       "  </tbody>\n",
       "</table>\n",
       "</div>"
      ],
      "text/plain": [
       "                country  year  gdp_per_capita  internet_users_pct gdp_group\n",
       "4838             Latvia  2014    29217.459341             75.8261      High\n",
       "2538  Equatorial Guinea  2014    31765.899706             18.8600      High"
      ]
     },
     "execution_count": 108,
     "metadata": {},
     "output_type": "execute_result"
    }
   ],
   "source": [
    "gdp_and_internet_use_2014['gdp_group'] = pd.qcut(gdp_and_internet_use_2014.gdp_per_capita, q=3, labels=['Low', 'Medium', 'High'])\n",
    "gdp_and_internet_use_2014.sort_values(by='gdp_group', ascending = False).head(2)"
   ]
  },
  {
   "cell_type": "code",
   "execution_count": 109,
   "id": "95990295-499f-4261-895f-833d3adf497d",
   "metadata": {},
   "outputs": [
    {
     "data": {
      "text/html": [
       "<div>\n",
       "<style scoped>\n",
       "    .dataframe tbody tr th:only-of-type {\n",
       "        vertical-align: middle;\n",
       "    }\n",
       "\n",
       "    .dataframe tbody tr th {\n",
       "        vertical-align: top;\n",
       "    }\n",
       "\n",
       "    .dataframe thead th {\n",
       "        text-align: right;\n",
       "    }\n",
       "</style>\n",
       "<table border=\"1\" class=\"dataframe\">\n",
       "  <thead>\n",
       "    <tr style=\"text-align: right;\">\n",
       "      <th></th>\n",
       "      <th>country</th>\n",
       "      <th>year</th>\n",
       "      <th>gdp_per_capita</th>\n",
       "      <th>internet_users_pct</th>\n",
       "      <th>gdp_group</th>\n",
       "    </tr>\n",
       "  </thead>\n",
       "  <tbody>\n",
       "    <tr>\n",
       "      <th>8867</th>\n",
       "      <td>TÃ¼rkiye</td>\n",
       "      <td>2014</td>\n",
       "      <td>24573.488878</td>\n",
       "      <td>NaN</td>\n",
       "      <td>High</td>\n",
       "    </tr>\n",
       "    <tr>\n",
       "      <th>7498</th>\n",
       "      <td>Seychelles</td>\n",
       "      <td>2014</td>\n",
       "      <td>25379.418071</td>\n",
       "      <td>51.2547</td>\n",
       "      <td>High</td>\n",
       "    </tr>\n",
       "    <tr>\n",
       "      <th>273</th>\n",
       "      <td>Antigua and Barbuda</td>\n",
       "      <td>2014</td>\n",
       "      <td>25565.965684</td>\n",
       "      <td>67.7800</td>\n",
       "      <td>High</td>\n",
       "    </tr>\n",
       "    <tr>\n",
       "      <th>2769</th>\n",
       "      <td>Europe &amp; Central Asia (IDA &amp; IBRD)</td>\n",
       "      <td>2014</td>\n",
       "      <td>25890.790820</td>\n",
       "      <td>NaN</td>\n",
       "      <td>High</td>\n",
       "    </tr>\n",
       "    <tr>\n",
       "      <th>8799</th>\n",
       "      <td>Turks and Caicos Islands</td>\n",
       "      <td>2014</td>\n",
       "      <td>26470.621917</td>\n",
       "      <td>NaN</td>\n",
       "      <td>High</td>\n",
       "    </tr>\n",
       "    <tr>\n",
       "      <th>...</th>\n",
       "      <td>...</td>\n",
       "      <td>...</td>\n",
       "      <td>...</td>\n",
       "      <td>...</td>\n",
       "      <td>...</td>\n",
       "    </tr>\n",
       "    <tr>\n",
       "      <th>824</th>\n",
       "      <td>Bermuda</td>\n",
       "      <td>2014</td>\n",
       "      <td>92298.387811</td>\n",
       "      <td>96.8000</td>\n",
       "      <td>High</td>\n",
       "    </tr>\n",
       "    <tr>\n",
       "      <th>7566</th>\n",
       "      <td>Singapore</td>\n",
       "      <td>2014</td>\n",
       "      <td>106604.492771</td>\n",
       "      <td>79.0292</td>\n",
       "      <td>High</td>\n",
       "    </tr>\n",
       "    <tr>\n",
       "      <th>7045</th>\n",
       "      <td>Qatar</td>\n",
       "      <td>2014</td>\n",
       "      <td>128013.987046</td>\n",
       "      <td>91.4900</td>\n",
       "      <td>High</td>\n",
       "    </tr>\n",
       "    <tr>\n",
       "      <th>5200</th>\n",
       "      <td>Luxembourg</td>\n",
       "      <td>2014</td>\n",
       "      <td>129443.183641</td>\n",
       "      <td>94.6702</td>\n",
       "      <td>High</td>\n",
       "    </tr>\n",
       "    <tr>\n",
       "      <th>5234</th>\n",
       "      <td>Macao SAR, China</td>\n",
       "      <td>2014</td>\n",
       "      <td>162582.374111</td>\n",
       "      <td>NaN</td>\n",
       "      <td>High</td>\n",
       "    </tr>\n",
       "  </tbody>\n",
       "</table>\n",
       "<p>83 rows × 5 columns</p>\n",
       "</div>"
      ],
      "text/plain": [
       "                                 country  year  gdp_per_capita  \\\n",
       "8867                            TÃ¼rkiye  2014    24573.488878   \n",
       "7498                          Seychelles  2014    25379.418071   \n",
       "273                  Antigua and Barbuda  2014    25565.965684   \n",
       "2769  Europe & Central Asia (IDA & IBRD)  2014    25890.790820   \n",
       "8799            Turks and Caicos Islands  2014    26470.621917   \n",
       "...                                  ...   ...             ...   \n",
       "824                              Bermuda  2014    92298.387811   \n",
       "7566                           Singapore  2014   106604.492771   \n",
       "7045                               Qatar  2014   128013.987046   \n",
       "5200                          Luxembourg  2014   129443.183641   \n",
       "5234                    Macao SAR, China  2014   162582.374111   \n",
       "\n",
       "      internet_users_pct gdp_group  \n",
       "8867                 NaN      High  \n",
       "7498             51.2547      High  \n",
       "273              67.7800      High  \n",
       "2769                 NaN      High  \n",
       "8799                 NaN      High  \n",
       "...                  ...       ...  \n",
       "824              96.8000      High  \n",
       "7566             79.0292      High  \n",
       "7045             91.4900      High  \n",
       "5200             94.6702      High  \n",
       "5234                 NaN      High  \n",
       "\n",
       "[83 rows x 5 columns]"
      ]
     },
     "execution_count": 109,
     "metadata": {},
     "output_type": "execute_result"
    }
   ],
   "source": [
    "gdp_and_internet_use_2014.loc[gdp_and_internet_use_2014.gdp_group == 'High'].sort_values(by='gdp_per_capita', ascending = True)"
   ]
  },
  {
   "cell_type": "markdown",
   "id": "244b9648-b49a-43d4-853f-ccc878ad94f3",
   "metadata": {},
   "source": [
    "## Question 25: Stretch Question: How does the median internet users percentage compare for the three gdp groups?"
   ]
  },
  {
   "cell_type": "code",
   "execution_count": 111,
   "id": "3d3280ff-f2b9-4d21-a51d-59f7c13c5c36",
   "metadata": {},
   "outputs": [
    {
     "data": {
      "text/html": [
       "<div>\n",
       "<style scoped>\n",
       "    .dataframe tbody tr th:only-of-type {\n",
       "        vertical-align: middle;\n",
       "    }\n",
       "\n",
       "    .dataframe tbody tr th {\n",
       "        vertical-align: top;\n",
       "    }\n",
       "\n",
       "    .dataframe thead th {\n",
       "        text-align: right;\n",
       "    }\n",
       "</style>\n",
       "<table border=\"1\" class=\"dataframe\">\n",
       "  <thead>\n",
       "    <tr style=\"text-align: right;\">\n",
       "      <th></th>\n",
       "      <th>country</th>\n",
       "      <th>year</th>\n",
       "      <th>gdp_per_capita</th>\n",
       "      <th>internet_users_pct</th>\n",
       "      <th>gdp_group</th>\n",
       "    </tr>\n",
       "  </thead>\n",
       "  <tbody>\n",
       "    <tr>\n",
       "      <th>0</th>\n",
       "      <td>Andorra</td>\n",
       "      <td>2014</td>\n",
       "      <td>59929.244467</td>\n",
       "      <td>86.10</td>\n",
       "      <td>High</td>\n",
       "    </tr>\n",
       "    <tr>\n",
       "      <th>1</th>\n",
       "      <td>Antigua and Barbuda</td>\n",
       "      <td>2014</td>\n",
       "      <td>25565.965684</td>\n",
       "      <td>67.78</td>\n",
       "      <td>High</td>\n",
       "    </tr>\n",
       "  </tbody>\n",
       "</table>\n",
       "</div>"
      ],
      "text/plain": [
       "               country  year  gdp_per_capita  internet_users_pct gdp_group\n",
       "0              Andorra  2014    59929.244467               86.10      High\n",
       "1  Antigua and Barbuda  2014    25565.965684               67.78      High"
      ]
     },
     "execution_count": 111,
     "metadata": {},
     "output_type": "execute_result"
    }
   ],
   "source": [
    "high_gdp = gdp_and_internet_use_2014.loc[gdp_and_internet_use_2014.gdp_group == 'High']\n",
    "high_gdp = high_gdp.reset_index(drop=True)\n",
    "high_gdp.head(2)"
   ]
  },
  {
   "cell_type": "code",
   "execution_count": 112,
   "id": "1864706e-ed9e-48ad-a989-266dbaf9e10d",
   "metadata": {},
   "outputs": [
    {
     "data": {
      "text/html": [
       "<div>\n",
       "<style scoped>\n",
       "    .dataframe tbody tr th:only-of-type {\n",
       "        vertical-align: middle;\n",
       "    }\n",
       "\n",
       "    .dataframe tbody tr th {\n",
       "        vertical-align: top;\n",
       "    }\n",
       "\n",
       "    .dataframe thead th {\n",
       "        text-align: right;\n",
       "    }\n",
       "</style>\n",
       "<table border=\"1\" class=\"dataframe\">\n",
       "  <thead>\n",
       "    <tr style=\"text-align: right;\">\n",
       "      <th></th>\n",
       "      <th>country</th>\n",
       "      <th>year</th>\n",
       "      <th>gdp_per_capita</th>\n",
       "      <th>internet_users_pct</th>\n",
       "      <th>gdp_group</th>\n",
       "    </tr>\n",
       "  </thead>\n",
       "  <tbody>\n",
       "    <tr>\n",
       "      <th>0</th>\n",
       "      <td>Albania</td>\n",
       "      <td>2014</td>\n",
       "      <td>12788.747231</td>\n",
       "      <td>54.3</td>\n",
       "      <td>Medium</td>\n",
       "    </tr>\n",
       "    <tr>\n",
       "      <th>1</th>\n",
       "      <td>Algeria</td>\n",
       "      <td>2014</td>\n",
       "      <td>15073.762940</td>\n",
       "      <td>29.5</td>\n",
       "      <td>Medium</td>\n",
       "    </tr>\n",
       "  </tbody>\n",
       "</table>\n",
       "</div>"
      ],
      "text/plain": [
       "   country  year  gdp_per_capita  internet_users_pct gdp_group\n",
       "0  Albania  2014    12788.747231                54.3    Medium\n",
       "1  Algeria  2014    15073.762940                29.5    Medium"
      ]
     },
     "execution_count": 112,
     "metadata": {},
     "output_type": "execute_result"
    }
   ],
   "source": [
    "medium_gdp = gdp_and_internet_use_2014.loc[gdp_and_internet_use_2014.gdp_group == 'Medium']\n",
    "medium_gdp = medium_gdp.reset_index(drop=True)\n",
    "medium_gdp.head(2)"
   ]
  },
  {
   "cell_type": "code",
   "execution_count": 113,
   "id": "5c59ee87-7623-4ee7-a352-8f0ae4bd6db5",
   "metadata": {},
   "outputs": [
    {
     "data": {
      "text/html": [
       "<div>\n",
       "<style scoped>\n",
       "    .dataframe tbody tr th:only-of-type {\n",
       "        vertical-align: middle;\n",
       "    }\n",
       "\n",
       "    .dataframe tbody tr th {\n",
       "        vertical-align: top;\n",
       "    }\n",
       "\n",
       "    .dataframe thead th {\n",
       "        text-align: right;\n",
       "    }\n",
       "</style>\n",
       "<table border=\"1\" class=\"dataframe\">\n",
       "  <thead>\n",
       "    <tr style=\"text-align: right;\">\n",
       "      <th></th>\n",
       "      <th>country</th>\n",
       "      <th>year</th>\n",
       "      <th>gdp_per_capita</th>\n",
       "      <th>internet_users_pct</th>\n",
       "      <th>gdp_group</th>\n",
       "    </tr>\n",
       "  </thead>\n",
       "  <tbody>\n",
       "    <tr>\n",
       "      <th>0</th>\n",
       "      <td>Afghanistan</td>\n",
       "      <td>2014</td>\n",
       "      <td>3017.942544</td>\n",
       "      <td>7.0</td>\n",
       "      <td>Low</td>\n",
       "    </tr>\n",
       "    <tr>\n",
       "      <th>1</th>\n",
       "      <td>Africa Eastern and Southern</td>\n",
       "      <td>2014</td>\n",
       "      <td>4052.851526</td>\n",
       "      <td>NaN</td>\n",
       "      <td>Low</td>\n",
       "    </tr>\n",
       "  </tbody>\n",
       "</table>\n",
       "</div>"
      ],
      "text/plain": [
       "                       country  year  gdp_per_capita  internet_users_pct  \\\n",
       "0                  Afghanistan  2014     3017.942544                 7.0   \n",
       "1  Africa Eastern and Southern  2014     4052.851526                 NaN   \n",
       "\n",
       "  gdp_group  \n",
       "0       Low  \n",
       "1       Low  "
      ]
     },
     "execution_count": 113,
     "metadata": {},
     "output_type": "execute_result"
    }
   ],
   "source": [
    "low_gdp = gdp_and_internet_use_2014.loc[gdp_and_internet_use_2014.gdp_group == 'Low']\n",
    "low_gdp = low_gdp.reset_index(drop=True)\n",
    "low_gdp.head(2)"
   ]
  },
  {
   "cell_type": "code",
   "execution_count": 114,
   "id": "5bf0656e-31ea-4633-96ce-761296fd9e89",
   "metadata": {},
   "outputs": [
    {
     "data": {
      "text/plain": [
       "75.97999999999999"
      ]
     },
     "execution_count": 114,
     "metadata": {},
     "output_type": "execute_result"
    }
   ],
   "source": [
    "high_gdp.internet_users_pct.median()"
   ]
  },
  {
   "cell_type": "code",
   "execution_count": 115,
   "id": "d990cedb-2430-46a1-b63c-910da1056973",
   "metadata": {},
   "outputs": [
    {
     "data": {
      "text/plain": [
       "44.5945"
      ]
     },
     "execution_count": 115,
     "metadata": {},
     "output_type": "execute_result"
    }
   ],
   "source": [
    "medium_gdp.internet_users_pct.median()"
   ]
  },
  {
   "cell_type": "code",
   "execution_count": 116,
   "id": "5c56269b-a931-42c2-9e98-77ac1328da14",
   "metadata": {},
   "outputs": [
    {
     "data": {
      "text/plain": [
       "11.600000000000001"
      ]
     },
     "execution_count": 116,
     "metadata": {},
     "output_type": "execute_result"
    }
   ],
   "source": [
    "low_gdp.internet_users_pct.median()"
   ]
  },
  {
   "cell_type": "code",
   "execution_count": 117,
   "id": "5553865d-9178-47cf-a9c1-5fd5dab9546d",
   "metadata": {},
   "outputs": [
    {
     "data": {
      "text/plain": [
       "gdp_group\n",
       "Low       11.6000\n",
       "Medium    44.5945\n",
       "High      75.9800\n",
       "Name: internet_users_pct, dtype: float64"
      ]
     },
     "execution_count": 117,
     "metadata": {},
     "output_type": "execute_result"
    }
   ],
   "source": [
    "gdp_and_internet_use_2014.groupby('gdp_group', observed=True)['internet_users_pct'].median()"
   ]
  },
  {
   "cell_type": "markdown",
   "id": "96208a94-7a3f-4278-9dc2-c095fbd775e9",
   "metadata": {},
   "source": [
    "## Bonus Exercise: Download another data set from the UN data (http://data.un.org/Explorer.aspx) to merge with your data and explore."
   ]
  },
  {
   "cell_type": "code",
   "execution_count": 119,
   "id": "267ed152-76d9-451c-bfec-9f1aee42f4f9",
   "metadata": {},
   "outputs": [],
   "source": [
    "mobile_df = pd.read_csv('../data/mobile_users_100.csv')"
   ]
  },
  {
   "cell_type": "code",
   "execution_count": 120,
   "id": "d0582636-cc45-40ef-84ad-7962a0af2a45",
   "metadata": {},
   "outputs": [],
   "source": [
    "mobile_df = mobile_df.drop(columns = ['Value Footnotes'])"
   ]
  },
  {
   "cell_type": "code",
   "execution_count": 121,
   "id": "d1a54f97-4662-4bc9-81e9-d3c4f187dc97",
   "metadata": {},
   "outputs": [
    {
     "data": {
      "text/html": [
       "<div>\n",
       "<style scoped>\n",
       "    .dataframe tbody tr th:only-of-type {\n",
       "        vertical-align: middle;\n",
       "    }\n",
       "\n",
       "    .dataframe tbody tr th {\n",
       "        vertical-align: top;\n",
       "    }\n",
       "\n",
       "    .dataframe thead th {\n",
       "        text-align: right;\n",
       "    }\n",
       "</style>\n",
       "<table border=\"1\" class=\"dataframe\">\n",
       "  <thead>\n",
       "    <tr style=\"text-align: right;\">\n",
       "      <th></th>\n",
       "      <th>Country or Area</th>\n",
       "      <th>Year</th>\n",
       "      <th>Value</th>\n",
       "    </tr>\n",
       "  </thead>\n",
       "  <tbody>\n",
       "    <tr>\n",
       "      <th>0</th>\n",
       "      <td>Afghanistan</td>\n",
       "      <td>2022</td>\n",
       "      <td>55.5132</td>\n",
       "    </tr>\n",
       "    <tr>\n",
       "      <th>1</th>\n",
       "      <td>Afghanistan</td>\n",
       "      <td>2021</td>\n",
       "      <td>56.5544</td>\n",
       "    </tr>\n",
       "  </tbody>\n",
       "</table>\n",
       "</div>"
      ],
      "text/plain": [
       "  Country or Area  Year    Value\n",
       "0     Afghanistan  2022  55.5132\n",
       "1     Afghanistan  2021  56.5544"
      ]
     },
     "execution_count": 121,
     "metadata": {},
     "output_type": "execute_result"
    }
   ],
   "source": [
    "mobile_df.head(2)"
   ]
  },
  {
   "cell_type": "code",
   "execution_count": 122,
   "id": "b0d78c5e-61f6-4811-810f-4ed29ff86a74",
   "metadata": {},
   "outputs": [
    {
     "data": {
      "text/html": [
       "<div>\n",
       "<style scoped>\n",
       "    .dataframe tbody tr th:only-of-type {\n",
       "        vertical-align: middle;\n",
       "    }\n",
       "\n",
       "    .dataframe tbody tr th {\n",
       "        vertical-align: top;\n",
       "    }\n",
       "\n",
       "    .dataframe thead th {\n",
       "        text-align: right;\n",
       "    }\n",
       "</style>\n",
       "<table border=\"1\" class=\"dataframe\">\n",
       "  <thead>\n",
       "    <tr style=\"text-align: right;\">\n",
       "      <th></th>\n",
       "      <th>country</th>\n",
       "      <th>year</th>\n",
       "      <th>mobile_users_per_100</th>\n",
       "    </tr>\n",
       "  </thead>\n",
       "  <tbody>\n",
       "    <tr>\n",
       "      <th>0</th>\n",
       "      <td>Afghanistan</td>\n",
       "      <td>2022</td>\n",
       "      <td>55.5132</td>\n",
       "    </tr>\n",
       "    <tr>\n",
       "      <th>1</th>\n",
       "      <td>Afghanistan</td>\n",
       "      <td>2021</td>\n",
       "      <td>56.5544</td>\n",
       "    </tr>\n",
       "  </tbody>\n",
       "</table>\n",
       "</div>"
      ],
      "text/plain": [
       "       country  year  mobile_users_per_100\n",
       "0  Afghanistan  2022               55.5132\n",
       "1  Afghanistan  2021               56.5544"
      ]
     },
     "execution_count": 122,
     "metadata": {},
     "output_type": "execute_result"
    }
   ],
   "source": [
    "mobile_df = mobile_df.rename(columns = {'Country or Area':'country','Year':'year','Value':'mobile_users_per_100'})\n",
    "mobile_df.head(2)"
   ]
  },
  {
   "cell_type": "code",
   "execution_count": 123,
   "id": "3fe8a757-8f74-470b-b04f-865e04b2a39e",
   "metadata": {},
   "outputs": [],
   "source": [
    "combined_dfs = pd.merge(mobile_df, gdp_and_internet_use, on = ['country','year'], how = 'inner')"
   ]
  },
  {
   "cell_type": "code",
   "execution_count": 124,
   "id": "2af273b1-38e5-4ff8-a75f-a33be31967c2",
   "metadata": {},
   "outputs": [
    {
     "data": {
      "text/html": [
       "<div>\n",
       "<style scoped>\n",
       "    .dataframe tbody tr th:only-of-type {\n",
       "        vertical-align: middle;\n",
       "    }\n",
       "\n",
       "    .dataframe tbody tr th {\n",
       "        vertical-align: top;\n",
       "    }\n",
       "\n",
       "    .dataframe thead th {\n",
       "        text-align: right;\n",
       "    }\n",
       "</style>\n",
       "<table border=\"1\" class=\"dataframe\">\n",
       "  <thead>\n",
       "    <tr style=\"text-align: right;\">\n",
       "      <th></th>\n",
       "      <th>country</th>\n",
       "      <th>year</th>\n",
       "      <th>mobile_users_per_100</th>\n",
       "      <th>gdp_per_capita</th>\n",
       "      <th>internet_users_pct</th>\n",
       "    </tr>\n",
       "  </thead>\n",
       "  <tbody>\n",
       "    <tr>\n",
       "      <th>0</th>\n",
       "      <td>Afghanistan</td>\n",
       "      <td>2022</td>\n",
       "      <td>55.5132</td>\n",
       "      <td>1981.710168</td>\n",
       "      <td>NaN</td>\n",
       "    </tr>\n",
       "    <tr>\n",
       "      <th>1</th>\n",
       "      <td>Afghanistan</td>\n",
       "      <td>2021</td>\n",
       "      <td>56.5544</td>\n",
       "      <td>2144.166570</td>\n",
       "      <td>NaN</td>\n",
       "    </tr>\n",
       "    <tr>\n",
       "      <th>2</th>\n",
       "      <td>Afghanistan</td>\n",
       "      <td>2020</td>\n",
       "      <td>58.1902</td>\n",
       "      <td>2769.685745</td>\n",
       "      <td>NaN</td>\n",
       "    </tr>\n",
       "    <tr>\n",
       "      <th>3</th>\n",
       "      <td>Afghanistan</td>\n",
       "      <td>2019</td>\n",
       "      <td>59.7839</td>\n",
       "      <td>2927.245144</td>\n",
       "      <td>17.6</td>\n",
       "    </tr>\n",
       "    <tr>\n",
       "      <th>4</th>\n",
       "      <td>Afghanistan</td>\n",
       "      <td>2018</td>\n",
       "      <td>59.9026</td>\n",
       "      <td>2902.392113</td>\n",
       "      <td>16.8</td>\n",
       "    </tr>\n",
       "  </tbody>\n",
       "</table>\n",
       "</div>"
      ],
      "text/plain": [
       "       country  year  mobile_users_per_100  gdp_per_capita  internet_users_pct\n",
       "0  Afghanistan  2022               55.5132     1981.710168                 NaN\n",
       "1  Afghanistan  2021               56.5544     2144.166570                 NaN\n",
       "2  Afghanistan  2020               58.1902     2769.685745                 NaN\n",
       "3  Afghanistan  2019               59.7839     2927.245144                17.6\n",
       "4  Afghanistan  2018               59.9026     2902.392113                16.8"
      ]
     },
     "execution_count": 124,
     "metadata": {},
     "output_type": "execute_result"
    }
   ],
   "source": [
    "combined_dfs.head()"
   ]
  },
  {
   "cell_type": "code",
   "execution_count": 125,
   "id": "56404841-a804-4525-9437-1be3d2a657be",
   "metadata": {},
   "outputs": [
    {
     "data": {
      "text/html": [
       "<div>\n",
       "<style scoped>\n",
       "    .dataframe tbody tr th:only-of-type {\n",
       "        vertical-align: middle;\n",
       "    }\n",
       "\n",
       "    .dataframe tbody tr th {\n",
       "        vertical-align: top;\n",
       "    }\n",
       "\n",
       "    .dataframe thead th {\n",
       "        text-align: right;\n",
       "    }\n",
       "</style>\n",
       "<table border=\"1\" class=\"dataframe\">\n",
       "  <thead>\n",
       "    <tr style=\"text-align: right;\">\n",
       "      <th></th>\n",
       "      <th>year</th>\n",
       "      <th>mobile_users_per_100</th>\n",
       "      <th>gdp_per_capita</th>\n",
       "      <th>internet_users_pct</th>\n",
       "    </tr>\n",
       "  </thead>\n",
       "  <tbody>\n",
       "    <tr>\n",
       "      <th>count</th>\n",
       "      <td>6620.000000</td>\n",
       "      <td>6620.000000</td>\n",
       "      <td>5427.000000</td>\n",
       "      <td>5952.000000</td>\n",
       "    </tr>\n",
       "    <tr>\n",
       "      <th>mean</th>\n",
       "      <td>2006.157100</td>\n",
       "      <td>56.644129</td>\n",
       "      <td>20952.797999</td>\n",
       "      <td>29.387454</td>\n",
       "    </tr>\n",
       "    <tr>\n",
       "      <th>std</th>\n",
       "      <td>9.356857</td>\n",
       "      <td>54.902779</td>\n",
       "      <td>23360.593038</td>\n",
       "      <td>31.366526</td>\n",
       "    </tr>\n",
       "    <tr>\n",
       "      <th>min</th>\n",
       "      <td>1990.000000</td>\n",
       "      <td>0.000000</td>\n",
       "      <td>510.822823</td>\n",
       "      <td>0.000000</td>\n",
       "    </tr>\n",
       "    <tr>\n",
       "      <th>25%</th>\n",
       "      <td>1998.000000</td>\n",
       "      <td>1.542728</td>\n",
       "      <td>4091.494488</td>\n",
       "      <td>1.401987</td>\n",
       "    </tr>\n",
       "    <tr>\n",
       "      <th>50%</th>\n",
       "      <td>2006.000000</td>\n",
       "      <td>45.369350</td>\n",
       "      <td>11828.711377</td>\n",
       "      <td>16.000000</td>\n",
       "    </tr>\n",
       "    <tr>\n",
       "      <th>75%</th>\n",
       "      <td>2014.000000</td>\n",
       "      <td>104.031500</td>\n",
       "      <td>30473.150202</td>\n",
       "      <td>55.227500</td>\n",
       "    </tr>\n",
       "    <tr>\n",
       "      <th>max</th>\n",
       "      <td>2022.000000</td>\n",
       "      <td>420.853000</td>\n",
       "      <td>145591.019357</td>\n",
       "      <td>100.000000</td>\n",
       "    </tr>\n",
       "  </tbody>\n",
       "</table>\n",
       "</div>"
      ],
      "text/plain": [
       "              year  mobile_users_per_100  gdp_per_capita  internet_users_pct\n",
       "count  6620.000000           6620.000000     5427.000000         5952.000000\n",
       "mean   2006.157100             56.644129    20952.797999           29.387454\n",
       "std       9.356857             54.902779    23360.593038           31.366526\n",
       "min    1990.000000              0.000000      510.822823            0.000000\n",
       "25%    1998.000000              1.542728     4091.494488            1.401987\n",
       "50%    2006.000000             45.369350    11828.711377           16.000000\n",
       "75%    2014.000000            104.031500    30473.150202           55.227500\n",
       "max    2022.000000            420.853000   145591.019357          100.000000"
      ]
     },
     "execution_count": 125,
     "metadata": {},
     "output_type": "execute_result"
    }
   ],
   "source": [
    "combined_dfs.describe()"
   ]
  },
  {
   "cell_type": "code",
   "execution_count": 126,
   "id": "dd0e0015-41b9-44d2-85b7-434c7b7c2966",
   "metadata": {},
   "outputs": [
    {
     "data": {
      "text/html": [
       "<div>\n",
       "<style scoped>\n",
       "    .dataframe tbody tr th:only-of-type {\n",
       "        vertical-align: middle;\n",
       "    }\n",
       "\n",
       "    .dataframe tbody tr th {\n",
       "        vertical-align: top;\n",
       "    }\n",
       "\n",
       "    .dataframe thead th {\n",
       "        text-align: right;\n",
       "    }\n",
       "</style>\n",
       "<table border=\"1\" class=\"dataframe\">\n",
       "  <thead>\n",
       "    <tr style=\"text-align: right;\">\n",
       "      <th></th>\n",
       "      <th>country</th>\n",
       "      <th>year</th>\n",
       "      <th>mobile_users_per_100</th>\n",
       "      <th>gdp_per_capita</th>\n",
       "      <th>internet_users_pct</th>\n",
       "    </tr>\n",
       "  </thead>\n",
       "  <tbody>\n",
       "    <tr>\n",
       "      <th>1309</th>\n",
       "      <td>China, Macao Special Administrative Region</td>\n",
       "      <td>2019</td>\n",
       "      <td>420.853</td>\n",
       "      <td>NaN</td>\n",
       "      <td>86.4679</td>\n",
       "    </tr>\n",
       "  </tbody>\n",
       "</table>\n",
       "</div>"
      ],
      "text/plain": [
       "                                         country  year  mobile_users_per_100  \\\n",
       "1309  China, Macao Special Administrative Region  2019               420.853   \n",
       "\n",
       "      gdp_per_capita  internet_users_pct  \n",
       "1309             NaN             86.4679  "
      ]
     },
     "execution_count": 126,
     "metadata": {},
     "output_type": "execute_result"
    }
   ],
   "source": [
    "combined_dfs.loc[combined_dfs.mobile_users_per_100 > 400]"
   ]
  },
  {
   "cell_type": "code",
   "execution_count": 127,
   "id": "ba63ba44-6f59-41b5-953b-67ce18f89fd7",
   "metadata": {},
   "outputs": [
    {
     "data": {
      "text/html": [
       "<div>\n",
       "<style scoped>\n",
       "    .dataframe tbody tr th:only-of-type {\n",
       "        vertical-align: middle;\n",
       "    }\n",
       "\n",
       "    .dataframe tbody tr th {\n",
       "        vertical-align: top;\n",
       "    }\n",
       "\n",
       "    .dataframe thead th {\n",
       "        text-align: right;\n",
       "    }\n",
       "</style>\n",
       "<table border=\"1\" class=\"dataframe\">\n",
       "  <thead>\n",
       "    <tr style=\"text-align: right;\">\n",
       "      <th></th>\n",
       "      <th>country</th>\n",
       "      <th>year</th>\n",
       "      <th>mobile_users_per_100</th>\n",
       "      <th>gdp_per_capita</th>\n",
       "      <th>internet_users_pct</th>\n",
       "    </tr>\n",
       "  </thead>\n",
       "  <tbody>\n",
       "    <tr>\n",
       "      <th>3960</th>\n",
       "      <td>Micronesia</td>\n",
       "      <td>2020</td>\n",
       "      <td>19.6243</td>\n",
       "      <td>3839.258969</td>\n",
       "      <td>39.3833</td>\n",
       "    </tr>\n",
       "    <tr>\n",
       "      <th>5129</th>\n",
       "      <td>Samoa</td>\n",
       "      <td>2020</td>\n",
       "      <td>32.1036</td>\n",
       "      <td>6745.306396</td>\n",
       "      <td>69.9561</td>\n",
       "    </tr>\n",
       "    <tr>\n",
       "      <th>3477</th>\n",
       "      <td>Liberia</td>\n",
       "      <td>2020</td>\n",
       "      <td>32.4909</td>\n",
       "      <td>1497.376924</td>\n",
       "      <td>27.4519</td>\n",
       "    </tr>\n",
       "    <tr>\n",
       "      <th>1143</th>\n",
       "      <td>Central African Republic</td>\n",
       "      <td>2020</td>\n",
       "      <td>34.2690</td>\n",
       "      <td>1136.570530</td>\n",
       "      <td>NaN</td>\n",
       "    </tr>\n",
       "    <tr>\n",
       "      <th>3828</th>\n",
       "      <td>Marshall Islands</td>\n",
       "      <td>2020</td>\n",
       "      <td>36.8545</td>\n",
       "      <td>6417.184412</td>\n",
       "      <td>71.2288</td>\n",
       "    </tr>\n",
       "    <tr>\n",
       "      <th>...</th>\n",
       "      <td>...</td>\n",
       "      <td>...</td>\n",
       "      <td>...</td>\n",
       "      <td>...</td>\n",
       "      <td>...</td>\n",
       "    </tr>\n",
       "    <tr>\n",
       "      <th>3509</th>\n",
       "      <td>Libya</td>\n",
       "      <td>2020</td>\n",
       "      <td>174.6930</td>\n",
       "      <td>9976.037403</td>\n",
       "      <td>87.5754</td>\n",
       "    </tr>\n",
       "    <tr>\n",
       "      <th>6253</th>\n",
       "      <td>United Arab Emirates</td>\n",
       "      <td>2020</td>\n",
       "      <td>197.8440</td>\n",
       "      <td>65784.676939</td>\n",
       "      <td>100.0000</td>\n",
       "    </tr>\n",
       "    <tr>\n",
       "      <th>177</th>\n",
       "      <td>Antigua and Barbuda</td>\n",
       "      <td>2020</td>\n",
       "      <td>198.5670</td>\n",
       "      <td>23915.161984</td>\n",
       "      <td>86.8837</td>\n",
       "    </tr>\n",
       "    <tr>\n",
       "      <th>1308</th>\n",
       "      <td>China, Macao Special Administrative Region</td>\n",
       "      <td>2020</td>\n",
       "      <td>239.7250</td>\n",
       "      <td>NaN</td>\n",
       "      <td>87.4623</td>\n",
       "    </tr>\n",
       "    <tr>\n",
       "      <th>1275</th>\n",
       "      <td>China, Hong Kong Special Administrative Region</td>\n",
       "      <td>2020</td>\n",
       "      <td>291.4990</td>\n",
       "      <td>NaN</td>\n",
       "      <td>92.4131</td>\n",
       "    </tr>\n",
       "  </tbody>\n",
       "</table>\n",
       "<p>199 rows × 5 columns</p>\n",
       "</div>"
      ],
      "text/plain": [
       "                                             country  year  \\\n",
       "3960                                      Micronesia  2020   \n",
       "5129                                           Samoa  2020   \n",
       "3477                                         Liberia  2020   \n",
       "1143                        Central African Republic  2020   \n",
       "3828                                Marshall Islands  2020   \n",
       "...                                              ...   ...   \n",
       "3509                                           Libya  2020   \n",
       "6253                            United Arab Emirates  2020   \n",
       "177                              Antigua and Barbuda  2020   \n",
       "1308      China, Macao Special Administrative Region  2020   \n",
       "1275  China, Hong Kong Special Administrative Region  2020   \n",
       "\n",
       "      mobile_users_per_100  gdp_per_capita  internet_users_pct  \n",
       "3960               19.6243     3839.258969             39.3833  \n",
       "5129               32.1036     6745.306396             69.9561  \n",
       "3477               32.4909     1497.376924             27.4519  \n",
       "1143               34.2690     1136.570530                 NaN  \n",
       "3828               36.8545     6417.184412             71.2288  \n",
       "...                    ...             ...                 ...  \n",
       "3509              174.6930     9976.037403             87.5754  \n",
       "6253              197.8440    65784.676939            100.0000  \n",
       "177               198.5670    23915.161984             86.8837  \n",
       "1308              239.7250             NaN             87.4623  \n",
       "1275              291.4990             NaN             92.4131  \n",
       "\n",
       "[199 rows x 5 columns]"
      ]
     },
     "execution_count": 127,
     "metadata": {},
     "output_type": "execute_result"
    }
   ],
   "source": [
    "combined_dfs.loc[combined_dfs.year == 2020].sort_values(by = 'mobile_users_per_100', ascending = True)"
   ]
  },
  {
   "cell_type": "code",
   "execution_count": 128,
   "id": "207c6afb-4a4f-4b5a-b89b-6ca3d9193926",
   "metadata": {},
   "outputs": [
    {
     "data": {
      "text/html": [
       "<div>\n",
       "<style scoped>\n",
       "    .dataframe tbody tr th:only-of-type {\n",
       "        vertical-align: middle;\n",
       "    }\n",
       "\n",
       "    .dataframe tbody tr th {\n",
       "        vertical-align: top;\n",
       "    }\n",
       "\n",
       "    .dataframe thead th {\n",
       "        text-align: right;\n",
       "    }\n",
       "</style>\n",
       "<table border=\"1\" class=\"dataframe\">\n",
       "  <thead>\n",
       "    <tr style=\"text-align: right;\">\n",
       "      <th></th>\n",
       "      <th>country</th>\n",
       "      <th>year</th>\n",
       "      <th>mobile_users_per_100</th>\n",
       "      <th>gdp_per_capita</th>\n",
       "      <th>internet_users_pct</th>\n",
       "    </tr>\n",
       "  </thead>\n",
       "  <tbody>\n",
       "    <tr>\n",
       "      <th>5770</th>\n",
       "      <td>Sweden</td>\n",
       "      <td>1990</td>\n",
       "      <td>5.39516</td>\n",
       "      <td>40169.094717</td>\n",
       "      <td>0.584192</td>\n",
       "    </tr>\n",
       "    <tr>\n",
       "      <th>2182</th>\n",
       "      <td>Finland</td>\n",
       "      <td>1990</td>\n",
       "      <td>5.17136</td>\n",
       "      <td>38750.072538</td>\n",
       "      <td>0.401088</td>\n",
       "    </tr>\n",
       "    <tr>\n",
       "      <th>4553</th>\n",
       "      <td>Norway</td>\n",
       "      <td>1990</td>\n",
       "      <td>4.64038</td>\n",
       "      <td>57055.326086</td>\n",
       "      <td>0.707299</td>\n",
       "    </tr>\n",
       "    <tr>\n",
       "      <th>2819</th>\n",
       "      <td>Iceland</td>\n",
       "      <td>1990</td>\n",
       "      <td>3.92520</td>\n",
       "      <td>40081.958967</td>\n",
       "      <td>0.000000</td>\n",
       "    </tr>\n",
       "    <tr>\n",
       "      <th>1713</th>\n",
       "      <td>Denmark</td>\n",
       "      <td>1990</td>\n",
       "      <td>2.88107</td>\n",
       "      <td>45779.707401</td>\n",
       "      <td>0.097277</td>\n",
       "    </tr>\n",
       "    <tr>\n",
       "      <th>...</th>\n",
       "      <td>...</td>\n",
       "      <td>...</td>\n",
       "      <td>...</td>\n",
       "      <td>...</td>\n",
       "      <td>...</td>\n",
       "    </tr>\n",
       "    <tr>\n",
       "      <th>2655</th>\n",
       "      <td>Guinea-Bissau</td>\n",
       "      <td>1990</td>\n",
       "      <td>0.00000</td>\n",
       "      <td>1913.549909</td>\n",
       "      <td>0.000000</td>\n",
       "    </tr>\n",
       "    <tr>\n",
       "      <th>2687</th>\n",
       "      <td>Guyana</td>\n",
       "      <td>1990</td>\n",
       "      <td>0.00000</td>\n",
       "      <td>5074.430935</td>\n",
       "      <td>0.000000</td>\n",
       "    </tr>\n",
       "    <tr>\n",
       "      <th>2720</th>\n",
       "      <td>Haiti</td>\n",
       "      <td>1990</td>\n",
       "      <td>0.00000</td>\n",
       "      <td>3946.365646</td>\n",
       "      <td>0.000000</td>\n",
       "    </tr>\n",
       "    <tr>\n",
       "      <th>2753</th>\n",
       "      <td>Honduras</td>\n",
       "      <td>1990</td>\n",
       "      <td>0.00000</td>\n",
       "      <td>4427.040221</td>\n",
       "      <td>0.000000</td>\n",
       "    </tr>\n",
       "    <tr>\n",
       "      <th>6619</th>\n",
       "      <td>Zimbabwe</td>\n",
       "      <td>1990</td>\n",
       "      <td>0.00000</td>\n",
       "      <td>4013.299059</td>\n",
       "      <td>0.000000</td>\n",
       "    </tr>\n",
       "  </tbody>\n",
       "</table>\n",
       "<p>225 rows × 5 columns</p>\n",
       "</div>"
      ],
      "text/plain": [
       "            country  year  mobile_users_per_100  gdp_per_capita  \\\n",
       "5770         Sweden  1990               5.39516    40169.094717   \n",
       "2182        Finland  1990               5.17136    38750.072538   \n",
       "4553         Norway  1990               4.64038    57055.326086   \n",
       "2819        Iceland  1990               3.92520    40081.958967   \n",
       "1713        Denmark  1990               2.88107    45779.707401   \n",
       "...             ...   ...                   ...             ...   \n",
       "2655  Guinea-Bissau  1990               0.00000     1913.549909   \n",
       "2687         Guyana  1990               0.00000     5074.430935   \n",
       "2720          Haiti  1990               0.00000     3946.365646   \n",
       "2753       Honduras  1990               0.00000     4427.040221   \n",
       "6619       Zimbabwe  1990               0.00000     4013.299059   \n",
       "\n",
       "      internet_users_pct  \n",
       "5770            0.584192  \n",
       "2182            0.401088  \n",
       "4553            0.707299  \n",
       "2819            0.000000  \n",
       "1713            0.097277  \n",
       "...                  ...  \n",
       "2655            0.000000  \n",
       "2687            0.000000  \n",
       "2720            0.000000  \n",
       "2753            0.000000  \n",
       "6619            0.000000  \n",
       "\n",
       "[225 rows x 5 columns]"
      ]
     },
     "execution_count": 128,
     "metadata": {},
     "output_type": "execute_result"
    }
   ],
   "source": [
    "combined_dfs.loc[combined_dfs.year == 1990].sort_values(by = 'mobile_users_per_100', ascending = False)"
   ]
  },
  {
   "cell_type": "code",
   "execution_count": 129,
   "id": "b3634a62-8ed3-4a7a-9ef1-1ab1bc0427b0",
   "metadata": {},
   "outputs": [
    {
     "data": {
      "image/png": "[encoded data removed]",
      "text/plain": [
       "<Figure size 640x480 with 1 Axes>"
      ]
     },
     "metadata": {},
     "output_type": "display_data"
    }
   ],
   "source": [
    "sns.regplot(x='year', y='mobile_users_per_100', data=combined_dfs, line_kws={'color': 'red', 'linewidth': 1.5}, color = 'lightblue');"
   ]
  },
  {
   "cell_type": "code",
   "execution_count": 130,
   "id": "16c4eb33-94e7-41ab-8aa1-bc3a9e024850",
   "metadata": {},
   "outputs": [
    {
     "data": {
      "text/html": [
       "<div>\n",
       "<style scoped>\n",
       "    .dataframe tbody tr th:only-of-type {\n",
       "        vertical-align: middle;\n",
       "    }\n",
       "\n",
       "    .dataframe tbody tr th {\n",
       "        vertical-align: top;\n",
       "    }\n",
       "\n",
       "    .dataframe thead th {\n",
       "        text-align: right;\n",
       "    }\n",
       "</style>\n",
       "<table border=\"1\" class=\"dataframe\">\n",
       "  <thead>\n",
       "    <tr style=\"text-align: right;\">\n",
       "      <th></th>\n",
       "      <th>country</th>\n",
       "      <th>year</th>\n",
       "      <th>mobile_users_per_100</th>\n",
       "      <th>gdp_per_capita</th>\n",
       "      <th>internet_users_pct</th>\n",
       "    </tr>\n",
       "  </thead>\n",
       "  <tbody>\n",
       "    <tr>\n",
       "      <th>1136</th>\n",
       "      <td>Cayman Islands</td>\n",
       "      <td>2005</td>\n",
       "      <td>173.23</td>\n",
       "      <td>NaN</td>\n",
       "      <td>38.0344</td>\n",
       "    </tr>\n",
       "  </tbody>\n",
       "</table>\n",
       "</div>"
      ],
      "text/plain": [
       "             country  year  mobile_users_per_100  gdp_per_capita  \\\n",
       "1136  Cayman Islands  2005                173.23             NaN   \n",
       "\n",
       "      internet_users_pct  \n",
       "1136             38.0344  "
      ]
     },
     "execution_count": 130,
     "metadata": {},
     "output_type": "execute_result"
    }
   ],
   "source": [
    "combined_dfs.loc[(combined_dfs.year == 2005) & (combined_dfs.mobile_users_per_100 > 150)]"
   ]
  },
  {
   "cell_type": "code",
   "execution_count": 131,
   "id": "a96c79f7-5955-4afe-b92b-cb1c07852dab",
   "metadata": {},
   "outputs": [],
   "source": [
    "population = pd.read_csv('../data/population.csv')"
   ]
  },
  {
   "cell_type": "code",
   "execution_count": 132,
   "id": "10553450-315f-414f-ad26-98fb676343fb",
   "metadata": {},
   "outputs": [
    {
     "data": {
      "text/html": [
       "<div>\n",
       "<style scoped>\n",
       "    .dataframe tbody tr th:only-of-type {\n",
       "        vertical-align: middle;\n",
       "    }\n",
       "\n",
       "    .dataframe tbody tr th {\n",
       "        vertical-align: top;\n",
       "    }\n",
       "\n",
       "    .dataframe thead th {\n",
       "        text-align: right;\n",
       "    }\n",
       "</style>\n",
       "<table border=\"1\" class=\"dataframe\">\n",
       "  <thead>\n",
       "    <tr style=\"text-align: right;\">\n",
       "      <th></th>\n",
       "      <th>Country or Area</th>\n",
       "      <th>Year(s)</th>\n",
       "      <th>Variant</th>\n",
       "      <th>Value</th>\n",
       "    </tr>\n",
       "  </thead>\n",
       "  <tbody>\n",
       "    <tr>\n",
       "      <th>0</th>\n",
       "      <td>ADB region: Central and West Asia</td>\n",
       "      <td>2022</td>\n",
       "      <td>Medium</td>\n",
       "      <td>380592.238</td>\n",
       "    </tr>\n",
       "    <tr>\n",
       "      <th>1</th>\n",
       "      <td>ADB region: Central and West Asia</td>\n",
       "      <td>2021</td>\n",
       "      <td>Medium</td>\n",
       "      <td>374238.111</td>\n",
       "    </tr>\n",
       "  </tbody>\n",
       "</table>\n",
       "</div>"
      ],
      "text/plain": [
       "                     Country or Area  Year(s) Variant       Value\n",
       "0  ADB region: Central and West Asia     2022  Medium  380592.238\n",
       "1  ADB region: Central and West Asia     2021  Medium  374238.111"
      ]
     },
     "execution_count": 132,
     "metadata": {},
     "output_type": "execute_result"
    }
   ],
   "source": [
    "population.head(2)"
   ]
  },
  {
   "cell_type": "code",
   "execution_count": 133,
   "id": "acfc5912-b660-4374-8024-fd19351a296c",
   "metadata": {},
   "outputs": [
    {
     "data": {
      "text/html": [
       "<div>\n",
       "<style scoped>\n",
       "    .dataframe tbody tr th:only-of-type {\n",
       "        vertical-align: middle;\n",
       "    }\n",
       "\n",
       "    .dataframe tbody tr th {\n",
       "        vertical-align: top;\n",
       "    }\n",
       "\n",
       "    .dataframe thead th {\n",
       "        text-align: right;\n",
       "    }\n",
       "</style>\n",
       "<table border=\"1\" class=\"dataframe\">\n",
       "  <thead>\n",
       "    <tr style=\"text-align: right;\">\n",
       "      <th></th>\n",
       "      <th>Country or Area</th>\n",
       "      <th>Year(s)</th>\n",
       "      <th>Value</th>\n",
       "    </tr>\n",
       "  </thead>\n",
       "  <tbody>\n",
       "    <tr>\n",
       "      <th>0</th>\n",
       "      <td>ADB region: Central and West Asia</td>\n",
       "      <td>2022</td>\n",
       "      <td>380592.238</td>\n",
       "    </tr>\n",
       "    <tr>\n",
       "      <th>1</th>\n",
       "      <td>ADB region: Central and West Asia</td>\n",
       "      <td>2021</td>\n",
       "      <td>374238.111</td>\n",
       "    </tr>\n",
       "  </tbody>\n",
       "</table>\n",
       "</div>"
      ],
      "text/plain": [
       "                     Country or Area  Year(s)       Value\n",
       "0  ADB region: Central and West Asia     2022  380592.238\n",
       "1  ADB region: Central and West Asia     2021  374238.111"
      ]
     },
     "execution_count": 133,
     "metadata": {},
     "output_type": "execute_result"
    }
   ],
   "source": [
    "population = population.drop(columns = ['Variant'])\n",
    "population.head(2)"
   ]
  },
  {
   "cell_type": "code",
   "execution_count": 134,
   "id": "45007be0-0db4-4125-9445-ca2ff52f292c",
   "metadata": {},
   "outputs": [
    {
     "data": {
      "text/html": [
       "<div>\n",
       "<style scoped>\n",
       "    .dataframe tbody tr th:only-of-type {\n",
       "        vertical-align: middle;\n",
       "    }\n",
       "\n",
       "    .dataframe tbody tr th {\n",
       "        vertical-align: top;\n",
       "    }\n",
       "\n",
       "    .dataframe thead th {\n",
       "        text-align: right;\n",
       "    }\n",
       "</style>\n",
       "<table border=\"1\" class=\"dataframe\">\n",
       "  <thead>\n",
       "    <tr style=\"text-align: right;\">\n",
       "      <th></th>\n",
       "      <th>country</th>\n",
       "      <th>year</th>\n",
       "      <th>pop_in_thous</th>\n",
       "    </tr>\n",
       "  </thead>\n",
       "  <tbody>\n",
       "    <tr>\n",
       "      <th>0</th>\n",
       "      <td>ADB region: Central and West Asia</td>\n",
       "      <td>2022</td>\n",
       "      <td>380592.238</td>\n",
       "    </tr>\n",
       "    <tr>\n",
       "      <th>1</th>\n",
       "      <td>ADB region: Central and West Asia</td>\n",
       "      <td>2021</td>\n",
       "      <td>374238.111</td>\n",
       "    </tr>\n",
       "  </tbody>\n",
       "</table>\n",
       "</div>"
      ],
      "text/plain": [
       "                             country  year  pop_in_thous\n",
       "0  ADB region: Central and West Asia  2022    380592.238\n",
       "1  ADB region: Central and West Asia  2021    374238.111"
      ]
     },
     "execution_count": 134,
     "metadata": {},
     "output_type": "execute_result"
    }
   ],
   "source": [
    "population = population.rename(columns = {'Country or Area':'country','Year(s)':'year','Value':'pop_in_thous'})\n",
    "population.head(2)"
   ]
  },
  {
   "cell_type": "code",
   "execution_count": 135,
   "id": "0042bcff-ffe1-42f1-8012-fe0327b6f0fb",
   "metadata": {},
   "outputs": [],
   "source": [
    "combined_dfs2 = pd.merge(population, combined_dfs, on = ['country', 'year'], how = 'right')"
   ]
  },
  {
   "cell_type": "code",
   "execution_count": 136,
   "id": "295abebb-d12d-4c24-ae1d-c7c2890a4e37",
   "metadata": {},
   "outputs": [
    {
     "data": {
      "text/html": [
       "<div>\n",
       "<style scoped>\n",
       "    .dataframe tbody tr th:only-of-type {\n",
       "        vertical-align: middle;\n",
       "    }\n",
       "\n",
       "    .dataframe tbody tr th {\n",
       "        vertical-align: top;\n",
       "    }\n",
       "\n",
       "    .dataframe thead th {\n",
       "        text-align: right;\n",
       "    }\n",
       "</style>\n",
       "<table border=\"1\" class=\"dataframe\">\n",
       "  <thead>\n",
       "    <tr style=\"text-align: right;\">\n",
       "      <th></th>\n",
       "      <th>country</th>\n",
       "      <th>year</th>\n",
       "      <th>pop_in_thous</th>\n",
       "      <th>mobile_users_per_100</th>\n",
       "      <th>gdp_per_capita</th>\n",
       "      <th>internet_users_pct</th>\n",
       "    </tr>\n",
       "  </thead>\n",
       "  <tbody>\n",
       "    <tr>\n",
       "      <th>0</th>\n",
       "      <td>Afghanistan</td>\n",
       "      <td>2022</td>\n",
       "      <td>40578.842</td>\n",
       "      <td>55.5132</td>\n",
       "      <td>1981.710168</td>\n",
       "      <td>NaN</td>\n",
       "    </tr>\n",
       "    <tr>\n",
       "      <th>1</th>\n",
       "      <td>Afghanistan</td>\n",
       "      <td>2021</td>\n",
       "      <td>40000.412</td>\n",
       "      <td>56.5544</td>\n",
       "      <td>2144.166570</td>\n",
       "      <td>NaN</td>\n",
       "    </tr>\n",
       "    <tr>\n",
       "      <th>2</th>\n",
       "      <td>Afghanistan</td>\n",
       "      <td>2020</td>\n",
       "      <td>39068.979</td>\n",
       "      <td>58.1902</td>\n",
       "      <td>2769.685745</td>\n",
       "      <td>NaN</td>\n",
       "    </tr>\n",
       "    <tr>\n",
       "      <th>3</th>\n",
       "      <td>Afghanistan</td>\n",
       "      <td>2019</td>\n",
       "      <td>37856.121</td>\n",
       "      <td>59.7839</td>\n",
       "      <td>2927.245144</td>\n",
       "      <td>17.6</td>\n",
       "    </tr>\n",
       "    <tr>\n",
       "      <th>4</th>\n",
       "      <td>Afghanistan</td>\n",
       "      <td>2018</td>\n",
       "      <td>36743.039</td>\n",
       "      <td>59.9026</td>\n",
       "      <td>2902.392113</td>\n",
       "      <td>16.8</td>\n",
       "    </tr>\n",
       "  </tbody>\n",
       "</table>\n",
       "</div>"
      ],
      "text/plain": [
       "       country  year  pop_in_thous  mobile_users_per_100  gdp_per_capita  \\\n",
       "0  Afghanistan  2022     40578.842               55.5132     1981.710168   \n",
       "1  Afghanistan  2021     40000.412               56.5544     2144.166570   \n",
       "2  Afghanistan  2020     39068.979               58.1902     2769.685745   \n",
       "3  Afghanistan  2019     37856.121               59.7839     2927.245144   \n",
       "4  Afghanistan  2018     36743.039               59.9026     2902.392113   \n",
       "\n",
       "   internet_users_pct  \n",
       "0                 NaN  \n",
       "1                 NaN  \n",
       "2                 NaN  \n",
       "3                17.6  \n",
       "4                16.8  "
      ]
     },
     "execution_count": 136,
     "metadata": {},
     "output_type": "execute_result"
    }
   ],
   "source": [
    "combined_dfs2.head()"
   ]
  },
  {
   "cell_type": "code",
   "execution_count": 137,
   "id": "4c9436b9-1440-4fb7-bde5-1437df036d2a",
   "metadata": {},
   "outputs": [
    {
     "data": {
      "text/html": [
       "<div>\n",
       "<style scoped>\n",
       "    .dataframe tbody tr th:only-of-type {\n",
       "        vertical-align: middle;\n",
       "    }\n",
       "\n",
       "    .dataframe tbody tr th {\n",
       "        vertical-align: top;\n",
       "    }\n",
       "\n",
       "    .dataframe thead th {\n",
       "        text-align: right;\n",
       "    }\n",
       "</style>\n",
       "<table border=\"1\" class=\"dataframe\">\n",
       "  <thead>\n",
       "    <tr style=\"text-align: right;\">\n",
       "      <th></th>\n",
       "      <th>country</th>\n",
       "      <th>year</th>\n",
       "      <th>pop_in_thous</th>\n",
       "      <th>mobile_users_per_100</th>\n",
       "      <th>gdp_per_capita</th>\n",
       "      <th>internet_users_pct</th>\n",
       "    </tr>\n",
       "  </thead>\n",
       "  <tbody>\n",
       "    <tr>\n",
       "      <th>1136</th>\n",
       "      <td>Cayman Islands</td>\n",
       "      <td>2005</td>\n",
       "      <td>46.788</td>\n",
       "      <td>173.23</td>\n",
       "      <td>NaN</td>\n",
       "      <td>38.0344</td>\n",
       "    </tr>\n",
       "  </tbody>\n",
       "</table>\n",
       "</div>"
      ],
      "text/plain": [
       "             country  year  pop_in_thous  mobile_users_per_100  \\\n",
       "1136  Cayman Islands  2005        46.788                173.23   \n",
       "\n",
       "      gdp_per_capita  internet_users_pct  \n",
       "1136             NaN             38.0344  "
      ]
     },
     "execution_count": 137,
     "metadata": {},
     "output_type": "execute_result"
    }
   ],
   "source": [
    "combined_dfs2.loc[(combined_dfs2.year == 2005) & (combined_dfs2.mobile_users_per_100 > 150)]"
   ]
  },
  {
   "cell_type": "code",
   "execution_count": 138,
   "id": "94b339a0-6c8b-42d6-8e81-f7971499e73a",
   "metadata": {},
   "outputs": [],
   "source": [
    "combined_dfs2['mobile_users_per_1000'] = combined_dfs2['mobile_users_per_100']*10"
   ]
  },
  {
   "cell_type": "code",
   "execution_count": 139,
   "id": "8a40417a-834a-4470-8e22-7322ed5a4146",
   "metadata": {},
   "outputs": [
    {
     "data": {
      "text/html": [
       "<div>\n",
       "<style scoped>\n",
       "    .dataframe tbody tr th:only-of-type {\n",
       "        vertical-align: middle;\n",
       "    }\n",
       "\n",
       "    .dataframe tbody tr th {\n",
       "        vertical-align: top;\n",
       "    }\n",
       "\n",
       "    .dataframe thead th {\n",
       "        text-align: right;\n",
       "    }\n",
       "</style>\n",
       "<table border=\"1\" class=\"dataframe\">\n",
       "  <thead>\n",
       "    <tr style=\"text-align: right;\">\n",
       "      <th></th>\n",
       "      <th>country</th>\n",
       "      <th>year</th>\n",
       "      <th>pop_in_thous</th>\n",
       "      <th>mobile_users_per_100</th>\n",
       "      <th>gdp_per_capita</th>\n",
       "      <th>internet_users_pct</th>\n",
       "      <th>mobile_users_per_1000</th>\n",
       "    </tr>\n",
       "  </thead>\n",
       "  <tbody>\n",
       "    <tr>\n",
       "      <th>0</th>\n",
       "      <td>Afghanistan</td>\n",
       "      <td>2022</td>\n",
       "      <td>40578.842</td>\n",
       "      <td>55.5132</td>\n",
       "      <td>1981.710168</td>\n",
       "      <td>NaN</td>\n",
       "      <td>555.132</td>\n",
       "    </tr>\n",
       "    <tr>\n",
       "      <th>1</th>\n",
       "      <td>Afghanistan</td>\n",
       "      <td>2021</td>\n",
       "      <td>40000.412</td>\n",
       "      <td>56.5544</td>\n",
       "      <td>2144.166570</td>\n",
       "      <td>NaN</td>\n",
       "      <td>565.544</td>\n",
       "    </tr>\n",
       "  </tbody>\n",
       "</table>\n",
       "</div>"
      ],
      "text/plain": [
       "       country  year  pop_in_thous  mobile_users_per_100  gdp_per_capita  \\\n",
       "0  Afghanistan  2022     40578.842               55.5132     1981.710168   \n",
       "1  Afghanistan  2021     40000.412               56.5544     2144.166570   \n",
       "\n",
       "   internet_users_pct  mobile_users_per_1000  \n",
       "0                 NaN                555.132  \n",
       "1                 NaN                565.544  "
      ]
     },
     "execution_count": 139,
     "metadata": {},
     "output_type": "execute_result"
    }
   ],
   "source": [
    "combined_dfs2.head(2)"
   ]
  },
  {
   "cell_type": "code",
   "execution_count": 140,
   "id": "0ccc631a-40b3-47e9-9352-706a7ba4374a",
   "metadata": {},
   "outputs": [
    {
     "data": {
      "text/html": [
       "<div>\n",
       "<style scoped>\n",
       "    .dataframe tbody tr th:only-of-type {\n",
       "        vertical-align: middle;\n",
       "    }\n",
       "\n",
       "    .dataframe tbody tr th {\n",
       "        vertical-align: top;\n",
       "    }\n",
       "\n",
       "    .dataframe thead th {\n",
       "        text-align: right;\n",
       "    }\n",
       "</style>\n",
       "<table border=\"1\" class=\"dataframe\">\n",
       "  <thead>\n",
       "    <tr style=\"text-align: right;\">\n",
       "      <th></th>\n",
       "      <th>country</th>\n",
       "      <th>year</th>\n",
       "      <th>pop_in_thous</th>\n",
       "      <th>mobile_users_per_100</th>\n",
       "      <th>gdp_per_capita</th>\n",
       "      <th>internet_users_pct</th>\n",
       "      <th>mobile_users_per_1000</th>\n",
       "      <th>percent_of_pop_using_cellphones</th>\n",
       "    </tr>\n",
       "  </thead>\n",
       "  <tbody>\n",
       "    <tr>\n",
       "      <th>0</th>\n",
       "      <td>Afghanistan</td>\n",
       "      <td>2022</td>\n",
       "      <td>40578.842</td>\n",
       "      <td>55.5132</td>\n",
       "      <td>1981.710168</td>\n",
       "      <td>NaN</td>\n",
       "      <td>555.132</td>\n",
       "      <td>0.013680</td>\n",
       "    </tr>\n",
       "    <tr>\n",
       "      <th>1</th>\n",
       "      <td>Afghanistan</td>\n",
       "      <td>2021</td>\n",
       "      <td>40000.412</td>\n",
       "      <td>56.5544</td>\n",
       "      <td>2144.166570</td>\n",
       "      <td>NaN</td>\n",
       "      <td>565.544</td>\n",
       "      <td>0.014138</td>\n",
       "    </tr>\n",
       "    <tr>\n",
       "      <th>2</th>\n",
       "      <td>Afghanistan</td>\n",
       "      <td>2020</td>\n",
       "      <td>39068.979</td>\n",
       "      <td>58.1902</td>\n",
       "      <td>2769.685745</td>\n",
       "      <td>NaN</td>\n",
       "      <td>581.902</td>\n",
       "      <td>0.014894</td>\n",
       "    </tr>\n",
       "    <tr>\n",
       "      <th>3</th>\n",
       "      <td>Afghanistan</td>\n",
       "      <td>2019</td>\n",
       "      <td>37856.121</td>\n",
       "      <td>59.7839</td>\n",
       "      <td>2927.245144</td>\n",
       "      <td>17.600000</td>\n",
       "      <td>597.839</td>\n",
       "      <td>0.015792</td>\n",
       "    </tr>\n",
       "    <tr>\n",
       "      <th>4</th>\n",
       "      <td>Afghanistan</td>\n",
       "      <td>2018</td>\n",
       "      <td>36743.039</td>\n",
       "      <td>59.9026</td>\n",
       "      <td>2902.392113</td>\n",
       "      <td>16.800000</td>\n",
       "      <td>599.026</td>\n",
       "      <td>0.016303</td>\n",
       "    </tr>\n",
       "    <tr>\n",
       "      <th>...</th>\n",
       "      <td>...</td>\n",
       "      <td>...</td>\n",
       "      <td>...</td>\n",
       "      <td>...</td>\n",
       "      <td>...</td>\n",
       "      <td>...</td>\n",
       "      <td>...</td>\n",
       "      <td>...</td>\n",
       "    </tr>\n",
       "    <tr>\n",
       "      <th>6615</th>\n",
       "      <td>Zimbabwe</td>\n",
       "      <td>1994</td>\n",
       "      <td>10873.148</td>\n",
       "      <td>0.0000</td>\n",
       "      <td>3965.730986</td>\n",
       "      <td>0.001739</td>\n",
       "      <td>0.000</td>\n",
       "      <td>0.000000</td>\n",
       "    </tr>\n",
       "    <tr>\n",
       "      <th>6616</th>\n",
       "      <td>Zimbabwe</td>\n",
       "      <td>1993</td>\n",
       "      <td>10860.288</td>\n",
       "      <td>0.0000</td>\n",
       "      <td>3634.750494</td>\n",
       "      <td>NaN</td>\n",
       "      <td>0.000</td>\n",
       "      <td>0.000000</td>\n",
       "    </tr>\n",
       "    <tr>\n",
       "      <th>6617</th>\n",
       "      <td>Zimbabwe</td>\n",
       "      <td>1992</td>\n",
       "      <td>10702.700</td>\n",
       "      <td>0.0000</td>\n",
       "      <td>3649.891947</td>\n",
       "      <td>NaN</td>\n",
       "      <td>0.000</td>\n",
       "      <td>0.000000</td>\n",
       "    </tr>\n",
       "    <tr>\n",
       "      <th>6618</th>\n",
       "      <td>Zimbabwe</td>\n",
       "      <td>1991</td>\n",
       "      <td>10404.816</td>\n",
       "      <td>0.0000</td>\n",
       "      <td>4126.405247</td>\n",
       "      <td>NaN</td>\n",
       "      <td>0.000</td>\n",
       "      <td>0.000000</td>\n",
       "    </tr>\n",
       "    <tr>\n",
       "      <th>6619</th>\n",
       "      <td>Zimbabwe</td>\n",
       "      <td>1990</td>\n",
       "      <td>10137.281</td>\n",
       "      <td>0.0000</td>\n",
       "      <td>4013.299059</td>\n",
       "      <td>0.000000</td>\n",
       "      <td>0.000</td>\n",
       "      <td>0.000000</td>\n",
       "    </tr>\n",
       "  </tbody>\n",
       "</table>\n",
       "<p>6620 rows × 8 columns</p>\n",
       "</div>"
      ],
      "text/plain": [
       "          country  year  pop_in_thous  mobile_users_per_100  gdp_per_capita  \\\n",
       "0     Afghanistan  2022     40578.842               55.5132     1981.710168   \n",
       "1     Afghanistan  2021     40000.412               56.5544     2144.166570   \n",
       "2     Afghanistan  2020     39068.979               58.1902     2769.685745   \n",
       "3     Afghanistan  2019     37856.121               59.7839     2927.245144   \n",
       "4     Afghanistan  2018     36743.039               59.9026     2902.392113   \n",
       "...           ...   ...           ...                   ...             ...   \n",
       "6615     Zimbabwe  1994     10873.148                0.0000     3965.730986   \n",
       "6616     Zimbabwe  1993     10860.288                0.0000     3634.750494   \n",
       "6617     Zimbabwe  1992     10702.700                0.0000     3649.891947   \n",
       "6618     Zimbabwe  1991     10404.816                0.0000     4126.405247   \n",
       "6619     Zimbabwe  1990     10137.281                0.0000     4013.299059   \n",
       "\n",
       "      internet_users_pct  mobile_users_per_1000  \\\n",
       "0                    NaN                555.132   \n",
       "1                    NaN                565.544   \n",
       "2                    NaN                581.902   \n",
       "3              17.600000                597.839   \n",
       "4              16.800000                599.026   \n",
       "...                  ...                    ...   \n",
       "6615            0.001739                  0.000   \n",
       "6616                 NaN                  0.000   \n",
       "6617                 NaN                  0.000   \n",
       "6618                 NaN                  0.000   \n",
       "6619            0.000000                  0.000   \n",
       "\n",
       "      percent_of_pop_using_cellphones  \n",
       "0                            0.013680  \n",
       "1                            0.014138  \n",
       "2                            0.014894  \n",
       "3                            0.015792  \n",
       "4                            0.016303  \n",
       "...                               ...  \n",
       "6615                         0.000000  \n",
       "6616                         0.000000  \n",
       "6617                         0.000000  \n",
       "6618                         0.000000  \n",
       "6619                         0.000000  \n",
       "\n",
       "[6620 rows x 8 columns]"
      ]
     },
     "execution_count": 140,
     "metadata": {},
     "output_type": "execute_result"
    }
   ],
   "source": [
    "combined_dfs2['percent_of_pop_using_cellphones'] = combined_dfs2['mobile_users_per_1000']/combined_dfs2['pop_in_thous']\n",
    "combined_dfs2"
   ]
  },
  {
   "cell_type": "code",
   "execution_count": 141,
   "id": "1db88317-2773-4844-9d7c-094d7f4ea880",
   "metadata": {},
   "outputs": [
    {
     "data": {
      "text/html": [
       "<div>\n",
       "<style scoped>\n",
       "    .dataframe tbody tr th:only-of-type {\n",
       "        vertical-align: middle;\n",
       "    }\n",
       "\n",
       "    .dataframe tbody tr th {\n",
       "        vertical-align: top;\n",
       "    }\n",
       "\n",
       "    .dataframe thead th {\n",
       "        text-align: right;\n",
       "    }\n",
       "</style>\n",
       "<table border=\"1\" class=\"dataframe\">\n",
       "  <thead>\n",
       "    <tr style=\"text-align: right;\">\n",
       "      <th></th>\n",
       "      <th>country</th>\n",
       "      <th>year</th>\n",
       "      <th>pop_in_thous</th>\n",
       "      <th>mobile_users_per_100</th>\n",
       "      <th>gdp_per_capita</th>\n",
       "      <th>internet_users_pct</th>\n",
       "      <th>mobile_users_per_1000</th>\n",
       "      <th>percent_of_pop_using_cellphones</th>\n",
       "    </tr>\n",
       "  </thead>\n",
       "  <tbody>\n",
       "    <tr>\n",
       "      <th>1136</th>\n",
       "      <td>Cayman Islands</td>\n",
       "      <td>2005</td>\n",
       "      <td>46.788</td>\n",
       "      <td>173.23</td>\n",
       "      <td>NaN</td>\n",
       "      <td>38.0344</td>\n",
       "      <td>1732.3</td>\n",
       "      <td>37.024451</td>\n",
       "    </tr>\n",
       "  </tbody>\n",
       "</table>\n",
       "</div>"
      ],
      "text/plain": [
       "             country  year  pop_in_thous  mobile_users_per_100  \\\n",
       "1136  Cayman Islands  2005        46.788                173.23   \n",
       "\n",
       "      gdp_per_capita  internet_users_pct  mobile_users_per_1000  \\\n",
       "1136             NaN             38.0344                 1732.3   \n",
       "\n",
       "      percent_of_pop_using_cellphones  \n",
       "1136                        37.024451  "
      ]
     },
     "execution_count": 141,
     "metadata": {},
     "output_type": "execute_result"
    }
   ],
   "source": [
    "combined_dfs2.loc[(combined_dfs2.year == 2005) & (combined_dfs2.mobile_users_per_100 > 150)]"
   ]
  },
  {
   "cell_type": "code",
   "execution_count": 142,
   "id": "8941592e-74b0-4989-8b01-02b42faeed09",
   "metadata": {},
   "outputs": [
    {
     "data": {
      "text/html": [
       "<div>\n",
       "<style scoped>\n",
       "    .dataframe tbody tr th:only-of-type {\n",
       "        vertical-align: middle;\n",
       "    }\n",
       "\n",
       "    .dataframe tbody tr th {\n",
       "        vertical-align: top;\n",
       "    }\n",
       "\n",
       "    .dataframe thead th {\n",
       "        text-align: right;\n",
       "    }\n",
       "</style>\n",
       "<table border=\"1\" class=\"dataframe\">\n",
       "  <thead>\n",
       "    <tr style=\"text-align: right;\">\n",
       "      <th></th>\n",
       "      <th>country</th>\n",
       "      <th>year</th>\n",
       "      <th>pop_in_thous</th>\n",
       "      <th>mobile_users_per_100</th>\n",
       "      <th>gdp_per_capita</th>\n",
       "      <th>internet_users_pct</th>\n",
       "      <th>mobile_users_per_1000</th>\n",
       "      <th>percent_of_pop_using_cellphones</th>\n",
       "    </tr>\n",
       "  </thead>\n",
       "  <tbody>\n",
       "    <tr>\n",
       "      <th>1309</th>\n",
       "      <td>China, Macao Special Administrative Region</td>\n",
       "      <td>2019</td>\n",
       "      <td>NaN</td>\n",
       "      <td>420.853</td>\n",
       "      <td>NaN</td>\n",
       "      <td>86.4679</td>\n",
       "      <td>4208.53</td>\n",
       "      <td>NaN</td>\n",
       "    </tr>\n",
       "  </tbody>\n",
       "</table>\n",
       "</div>"
      ],
      "text/plain": [
       "                                         country  year  pop_in_thous  \\\n",
       "1309  China, Macao Special Administrative Region  2019           NaN   \n",
       "\n",
       "      mobile_users_per_100  gdp_per_capita  internet_users_pct  \\\n",
       "1309               420.853             NaN             86.4679   \n",
       "\n",
       "      mobile_users_per_1000  percent_of_pop_using_cellphones  \n",
       "1309                4208.53                              NaN  "
      ]
     },
     "execution_count": 142,
     "metadata": {},
     "output_type": "execute_result"
    }
   ],
   "source": [
    "combined_dfs2.loc[combined_dfs2.mobile_users_per_100 > 400]"
   ]
  },
  {
   "cell_type": "code",
   "execution_count": 143,
   "id": "ad4bd783-4b2c-484a-a702-1f6aef299691",
   "metadata": {},
   "outputs": [
    {
     "data": {
      "image/png": "[encoded data removed]",
      "text/plain": [
       "<Figure size 640x480 with 1 Axes>"
      ]
     },
     "metadata": {},
     "output_type": "display_data"
    }
   ],
   "source": [
    "sns.regplot(x='year', y='percent_of_pop_using_cellphones', data=combined_dfs2, line_kws={'color': 'red', 'linewidth': 1.5}, color = 'lightblue');"
   ]
  }
 ],
 "metadata": {
  "kernelspec": {
   "display_name": "Python 3 (ipykernel)",
   "language": "python",
   "name": "python3"
  },
  "language_info": {
   "codemirror_mode": {
    "name": "ipython",
    "version": 3
   },
   "file_extension": ".py",
   "mimetype": "text/x-python",
   "name": "python",
   "nbconvert_exporter": "python",
   "pygments_lexer": "ipython3",
   "version": "3.12.7"
  }
 },
 "nbformat": 4,
 "nbformat_minor": 5
}
